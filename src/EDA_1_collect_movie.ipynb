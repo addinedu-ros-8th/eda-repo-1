{
 "cells": [
  {
   "cell_type": "code",
   "execution_count": 1,
   "metadata": {},
   "outputs": [],
   "source": [
    "from selenium import webdriver\n",
    "from selenium.webdriver.chrome.service import Service\n",
    "\n",
    "driver = webdriver.Chrome(service=Service(\"../driver/chromedriver\"))\n",
    "driver.get(\"https://www.kobis.or.kr/kobis/business/stat/boxs/findYearlyBoxOfficeList.do\")"
   ]
  },
  {
   "cell_type": "markdown",
   "metadata": {},
   "source": [
    "### 1. 접속, 조회년도 데이터 가져오기"
   ]
  },
  {
   "cell_type": "code",
   "execution_count": 2,
   "metadata": {},
   "outputs": [
    {
     "name": "stdout",
     "output_type": "stream",
     "text": [
      "0, 2004\n",
      "1, 2005\n",
      "2, 2006\n",
      "3, 2007\n",
      "4, 2008\n",
      "5, 2009\n",
      "6, 2010\n",
      "7, 2011\n",
      "8, 2012\n",
      "9, 2013\n",
      "10, 2014\n",
      "11, 2015\n",
      "12, 2016\n",
      "13, 2017\n",
      "14, 2018\n",
      "15, 2019\n",
      "16, 2020\n",
      "17, 2021\n",
      "18, 2022\n",
      "19, 2023\n",
      "20, 2024\n"
     ]
    }
   ],
   "source": [
    "from selenium.webdriver.common.by import By\n",
    "\n",
    "search_m = driver.find_element(By.ID, \"sSearchYearFrom\")\n",
    "search_year_list = search_m.find_elements(By.TAG_NAME, \"option\")\n",
    "\n",
    "for idx, y_list  in enumerate(search_year_list):\n",
    "    print(str(idx)+\", \"+y_list.get_attribute(\"value\"))"
   ]
  },
  {
   "cell_type": "code",
   "execution_count": 3,
   "metadata": {},
   "outputs": [
    {
     "data": {
      "text/plain": [
       "['2004',\n",
       " '2005',\n",
       " '2006',\n",
       " '2007',\n",
       " '2008',\n",
       " '2009',\n",
       " '2010',\n",
       " '2011',\n",
       " '2012',\n",
       " '2013',\n",
       " '2014',\n",
       " '2015',\n",
       " '2016',\n",
       " '2017',\n",
       " '2018',\n",
       " '2019',\n",
       " '2020',\n",
       " '2021',\n",
       " '2022',\n",
       " '2023',\n",
       " '2024']"
      ]
     },
     "execution_count": 3,
     "metadata": {},
     "output_type": "execute_result"
    }
   ],
   "source": [
    "year_list=[y_list.get_attribute(\"value\") for y_list in search_year_list]\n",
    "year_list"
   ]
  },
  {
   "cell_type": "code",
   "execution_count": 4,
   "metadata": {},
   "outputs": [
    {
     "name": "stdout",
     "output_type": "stream",
     "text": [
      "10 ['2014', '2015', '2016', '2017', '2018', '2019', '2020', '2021', '2022', '2023']\n"
     ]
    }
   ],
   "source": [
    "#필요한 데이터만 자르기 (2023-2014)\n",
    "year_list = year_list[10:]\n",
    "year_list.remove('2024')\n",
    "print(len(year_list),year_list)"
   ]
  },
  {
   "cell_type": "code",
   "execution_count": 5,
   "metadata": {},
   "outputs": [],
   "source": [
    "#조회 버튼\n",
    "driver.find_element(By.CLASS_NAME,\"btn_blue\").click()"
   ]
  },
  {
   "cell_type": "code",
   "execution_count": 6,
   "metadata": {},
   "outputs": [
    {
     "data": {
      "application/vnd.jupyter.widget-view+json": {
       "model_id": "a2887e6f37b44b139f160c36292a60bc",
       "version_major": 2,
       "version_minor": 0
      },
      "text/plain": [
       "  0%|          | 0/10 [00:00<?, ?it/s]"
      ]
     },
     "metadata": {},
     "output_type": "display_data"
    }
   ],
   "source": [
    "#확인 \n",
    "import time\n",
    "from tqdm.notebook import tqdm\n",
    "\n",
    "for y_list in tqdm(year_list):\n",
    "    search_m = driver.find_element(By.ID, \"sSearchYearFrom\")\n",
    "    search_m.click()\n",
    "    search_m.send_keys(y_list)\n",
    "    driver.find_element(By.CLASS_NAME,\"btn_blue\").click()\n",
    "    driver.implicitly_wait(3)"
   ]
  },
  {
   "cell_type": "markdown",
   "metadata": {},
   "source": [
    "### 2. 값 뽑아오기 "
   ]
  },
  {
   "cell_type": "code",
   "execution_count": 6,
   "metadata": {},
   "outputs": [],
   "source": [
    "result = driver.find_element(By.CLASS_NAME,\"tbl_comm.th_sort\")\n",
    "movie = result.find_element(By.ID,\"td_movie\")\n",
    "\n",
    "rnk = result.find_element(By.ID, \"td_rank\")\n",
    "name = movie.find_element(By.CLASS_NAME, \"ellip.per90\")\n",
    "date = result.find_element(By.ID, \"td_openDt\")\n",
    "sale = result.find_element(By.ID,\"td_salesAcc\")\n",
    "audience = result.find_element(By.ID, \"td_audiAcc\")\n",
    "screen = result.find_element(By.ID, \"td_scrnCnt\")\n",
    "screen_number = result.find_element(By.ID, \"td_showCnt\")\n",
    "\n"
   ]
  },
  {
   "cell_type": "code",
   "execution_count": 8,
   "metadata": {},
   "outputs": [
    {
     "data": {
      "text/plain": [
       "'\\nimport re \\n\\nmovie_chart_data=[]\\n\\nfor y_list in tqdm(year_list):\\n    search_m = driver.find_element(By.ID, \"sSearchYearFrom\")\\n    search_m.click()\\n    search_m.send_keys(y_list)\\n    driver.find_element(By.CLASS_NAME,\"btn_blue\").click()\\n    driver.implicitly_wait(3)\\n\\n    result = driver.find_element(By.CLASS_NAME,\"tbl_comm.th_sort\")\\n    movie = result.find_element(By.ID,\"td_movie\")\\n    \\n    rnk = result.find_element(By.ID, \"td_rank\").text\\n    name = movie.find_element(By.CLASS_NAME, \"ellip.per90\").text\\n    date = result.find_element(By.ID, \"td_openDt\").text\\n    sale = result.find_element(By.ID,\"td_salesAcc\").text\\n    audience = result.find_element(By.ID, \"td_audiAcc\").text\\n    screen = result.find_element(By.ID, \"td_scrnCnt\").text\\n    screen_number = result.find_element(By.ID, \"td_showCnt\").text\\n\\n    movie_chart = {\\n        \"rank\": rnk,\\n        \"name\": name,\\n        \"date\" : date,\\n        \"sale\" : sale,\\n        \"audience\" : audience,\\n        \"screen\" : screen,\\n        \"screen_number\" : screen_number\\n    }\\n\\n    movie_chart_data.append(movie_chart)\\n    driver.implicitly_wait(1)\\n\\nprint(len(movie_chart), movie_chart_data[:1])\\n'"
      ]
     },
     "execution_count": 8,
     "metadata": {},
     "output_type": "execute_result"
    }
   ],
   "source": [
    "#테스트 : 상위 1개의 순위의 데이터만 가져와보기 \n",
    "'''\n",
    "import re \n",
    "\n",
    "movie_chart_data=[]\n",
    "\n",
    "for y_list in tqdm(year_list):\n",
    "    search_m = driver.find_element(By.ID, \"sSearchYearFrom\")\n",
    "    search_m.click()\n",
    "    search_m.send_keys(y_list)\n",
    "    driver.find_element(By.CLASS_NAME,\"btn_blue\").click()\n",
    "    driver.implicitly_wait(3)\n",
    "\n",
    "    result = driver.find_element(By.CLASS_NAME,\"tbl_comm.th_sort\")\n",
    "    movie = result.find_element(By.ID,\"td_movie\")\n",
    "    \n",
    "    rnk = result.find_element(By.ID, \"td_rank\").text\n",
    "    name = movie.find_element(By.CLASS_NAME, \"ellip.per90\").text\n",
    "    date = result.find_element(By.ID, \"td_openDt\").text\n",
    "    sale = result.find_element(By.ID,\"td_salesAcc\").text\n",
    "    audience = result.find_element(By.ID, \"td_audiAcc\").text\n",
    "    screen = result.find_element(By.ID, \"td_scrnCnt\").text\n",
    "    screen_number = result.find_element(By.ID, \"td_showCnt\").text\n",
    "\n",
    "    movie_chart = {\n",
    "        \"rank\": rnk,\n",
    "        \"name\": name,\n",
    "        \"date\" : date,\n",
    "        \"sale\" : sale,\n",
    "        \"audience\" : audience,\n",
    "        \"screen\" : screen,\n",
    "        \"screen_number\" : screen_number\n",
    "    }\n",
    "\n",
    "    movie_chart_data.append(movie_chart)\n",
    "    driver.implicitly_wait(1)\n",
    "\n",
    "print(len(movie_chart), movie_chart_data[:1])\n",
    "'''\n",
    "\n",
    "\n"
   ]
  },
  {
   "cell_type": "code",
   "execution_count": 7,
   "metadata": {},
   "outputs": [],
   "source": [
    "result = driver.find_element(By.CLASS_NAME,\"tbl_comm.th_sort\")\n",
    "rows = result.find_elements(By.TAG_NAME,\"tr\")[1:]"
   ]
  },
  {
   "cell_type": "code",
   "execution_count": 9,
   "metadata": {},
   "outputs": [
    {
     "data": {
      "application/vnd.jupyter.widget-view+json": {
       "model_id": "56a2cf08cf9c422eb153d948a5ce8887",
       "version_major": 2,
       "version_minor": 0
      },
      "text/plain": [
       "  0%|          | 0/10 [00:00<?, ?it/s]"
      ]
     },
     "metadata": {},
     "output_type": "display_data"
    },
    {
     "name": "stdout",
     "output_type": "stream",
     "text": [
      "500 [{'rank': '4', 'name': '해적: 바다로 간 산적', 'date': '2014-08-06', 'sale': '66,370,682,706', 'audience': '8,666,046', 'screen': '910', 'screen_number': '133,350'}, {'rank': '5', 'name': '수상한 그녀', 'date': '2014-01-22', 'sale': '62,705,348,249', 'audience': '8,657,982', 'screen': '1,027', 'screen_number': '136,975'}, {'rank': '6', 'name': '변호인', 'date': '2013-12-18', 'sale': '41,918,383,800', 'audience': '5,687,571', 'screen': '925', 'screen_number': '97,261'}, {'rank': '7', 'name': '국제시장', 'date': '2014-12-17', 'sale': '41,089,567,596', 'audience': '5,345,677', 'screen': '966', 'screen_number': '63,603'}, {'rank': '8', 'name': '트랜스포머: 사라진 시대', 'date': '2014-06-25', 'sale': '44,012,752,845', 'audience': '5,295,836', 'screen': '1,602', 'screen_number': '107,875'}, {'rank': '9', 'name': '군도: 민란의 시대', 'date': '2014-07-23', 'sale': '36,988,022,499', 'audience': '4,774,931', 'screen': '1,394', 'screen_number': '67,237'}, {'rank': '10', 'name': '엣지 오브 투모로우', 'date': '2014-06-04', 'sale': '38,732,961,201', 'audience': '4,699,307', 'screen': '801', 'screen_number': '94,559'}, {'rank': '11', 'name': '엑스맨: 데이즈 오브 퓨처 패스트', 'date': '2014-05-22', 'sale': '34,654,558,766', 'audience': '4,313,871', 'screen': '1,056', 'screen_number': '82,722'}, {'rank': '12', 'name': '어메이징 스파이더맨 2', 'date': '2014-04-23', 'sale': '34,869,101,800', 'audience': '4,168,353', 'screen': '1,312', 'screen_number': '91,715'}, {'rank': '13', 'name': '타짜-신의 손', 'date': '2014-09-03', 'sale': '32,373,120,927', 'audience': '4,015,361', 'screen': '890', 'screen_number': '80,584'}, {'rank': '14', 'name': '혹성탈출: 반격의 서막', 'date': '2014-07-10', 'sale': '31,514,053,095', 'audience': '4,002,560', 'screen': '956', 'screen_number': '72,881'}, {'rank': '15', 'name': '캡틴 아메리카: 윈터 솔져', 'date': '2014-03-26', 'sale': '31,711,040,385', 'audience': '3,963,251', 'screen': '1,106', 'screen_number': '110,109'}, {'rank': '16', 'name': '역린', 'date': '2014-04-30', 'sale': '29,894,266,890', 'audience': '3,849,552', 'screen': '1,054', 'screen_number': '83,296'}, {'rank': '17', 'name': '님아, 그 강을 건너지 마오', 'date': '2014-11-27', 'sale': '29,845,829,479', 'audience': '3,846,378', 'screen': '806', 'screen_number': '67,170'}, {'rank': '18', 'name': '신의 한 수', 'date': '2014-07-03', 'sale': '28,812,027,456', 'audience': '3,566,852', 'screen': '794', 'screen_number': '77,109'}, {'rank': '19', 'name': '끝까지 간다', 'date': '2014-05-29', 'sale': '27,007,303,900', 'audience': '3,450,305', 'screen': '645', 'screen_number': '84,875'}, {'rank': '20', 'name': '비긴 어게인', 'date': '2014-08-13', 'sale': '27,098,834,504', 'audience': '3,427,524', 'screen': '525', 'screen_number': '82,684'}, {'rank': '21', 'name': '드래곤 길들이기 2', 'date': '2014-07-23', 'sale': '23,979,935,189', 'audience': '3,000,056', 'screen': '829', 'screen_number': '51,924'}, {'rank': '22', 'name': '표적', 'date': '2014-04-30', 'sale': '22,256,769,300', 'audience': '2,841,828', 'screen': '716', 'screen_number': '72,255'}, {'rank': '23', 'name': '메이즈 러너', 'date': '2014-09-18', 'sale': '21,489,367,677', 'audience': '2,812,427', 'screen': '655', 'screen_number': '71,048'}, {'rank': '24', 'name': '호빗: 다섯 군대 전투', 'date': '2014-12-17', 'sale': '21,428,483,344', 'audience': '2,509,887', 'screen': '926', 'screen_number': '43,833'}, {'rank': '25', 'name': '나의 사랑 나의 신부', 'date': '2014-10-08', 'sale': '16,636,404,305', 'audience': '2,141,155', 'screen': '629', 'screen_number': '69,681'}, {'rank': '26', 'name': '논스톱', 'date': '2014-02-27', 'sale': '16,066,549,940', 'audience': '2,084,482', 'screen': '582', 'screen_number': '58,217'}, {'rank': '27', 'name': '인투 더 스톰', 'date': '2014-08-28', 'sale': '16,157,166,332', 'audience': '2,078,698', 'screen': '585', 'screen_number': '45,899'}, {'rank': '28', 'name': '노아', 'date': '2014-03-20', 'sale': '15,514,373,500', 'audience': '2,026,594', 'screen': '952', 'screen_number': '56,722'}, {'rank': '29', 'name': '남자가 사랑할 때', 'date': '2014-01-22', 'sale': '14,510,222,300', 'audience': '1,979,311', 'screen': '531', 'screen_number': '41,123'}, {'rank': '30', 'name': '루시', 'date': '2014-09-03', 'sale': '16,468,076,039', 'audience': '1,974,893', 'screen': '641', 'screen_number': '44,585'}, {'rank': '31', 'name': '용의자', 'date': '2013-12-24', 'sale': '14,408,028,500', 'audience': '1,954,586', 'screen': '618', 'screen_number': '42,310'}, {'rank': '32', 'name': '기술자들', 'date': '2014-12-24', 'sale': '13,652,480,148', 'audience': '1,778,083', 'screen': '641', 'screen_number': '24,416'}, {'rank': '33', 'name': '나를 찾아줘', 'date': '2014-10-23', 'sale': '14,017,716,731', 'audience': '1,764,233', 'screen': '689', 'screen_number': '50,846'}, {'rank': '34', 'name': '제보자', 'date': '2014-10-02', 'sale': '13,515,762,802', 'audience': '1,755,181', 'screen': '676', 'screen_number': '58,358'}, {'rank': '35', 'name': '피끓는 청춘', 'date': '2014-01-22', 'sale': '11,688,382,888', 'audience': '1,676,040', 'screen': '679', 'screen_number': '36,082'}, {'rank': '36', 'name': '두근두근 내 인생', 'date': '2014-09-03', 'sale': '12,291,081,634', 'audience': '1,624,601', 'screen': '629', 'screen_number': '40,158'}, {'rank': '37', 'name': '우아한 거짓말', 'date': '2014-03-13', 'sale': '11,728,460,300', 'audience': '1,619,188', 'screen': '573', 'screen_number': '57,492'}, {'rank': '38', 'name': '300: 제국의 부활', 'date': '2014-03-06', 'sale': '13,395,159,700', 'audience': '1,593,116', 'screen': '720', 'screen_number': '54,902'}, {'rank': '39', 'name': '엑소더스: 신들과 왕들', 'date': '2014-12-03', 'sale': '12,442,681,926', 'audience': '1,511,195', 'screen': '865', 'screen_number': '43,742'}, {'rank': '40', 'name': '해무(海霧)', 'date': '2014-08-13', 'sale': '11,706,782,519', 'audience': '1,475,507', 'screen': '584', 'screen_number': '33,490'}, {'rank': '41', 'name': '인간중독', 'date': '2014-05-14', 'sale': '11,284,912,400', 'audience': '1,441,973', 'screen': '682', 'screen_number': '44,057'}, {'rank': '42', 'name': '말레피센트', 'date': '2014-05-29', 'sale': '10,776,965,900', 'audience': '1,397,526', 'screen': '554', 'screen_number': '38,894'}, {'rank': '43', 'name': '폼페이: 최후의 날', 'date': '2014-02-20', 'sale': '10,303,127,700', 'audience': '1,373,873', 'screen': '561', 'screen_number': '43,288'}, {'rank': '44', 'name': '퓨리', 'date': '2014-11-20', 'sale': '10,367,640,686', 'audience': '1,362,114', 'screen': '590', 'screen_number': '37,155'}, {'rank': '45', 'name': '드라큘라: 전설의 시작', 'date': '2014-10-08', 'sale': '10,607,703,908', 'audience': '1,321,751', 'screen': '477', 'screen_number': '46,483'}, {'rank': '46', 'name': '가디언즈 오브 갤럭시', 'date': '2014-07-31', 'sale': '11,098,239,184', 'audience': '1,311,190', 'screen': '539', 'screen_number': '22,417'}, {'rank': '47', 'name': '찌라시: 위험한 소문', 'date': '2014-02-20', 'sale': '9,111,748,087', 'audience': '1,221,427', 'screen': '560', 'screen_number': '37,426'}, {'rank': '48', 'name': '빅매치', 'date': '2014-11-27', 'sale': '8,952,096,578', 'audience': '1,177,438', 'screen': '627', 'screen_number': '38,527'}, {'rank': '49', 'name': '슬로우 비디오', 'date': '2014-10-02', 'sale': '8,913,092,219', 'audience': '1,169,562', 'screen': '618', 'screen_number': '40,665'}, {'rank': '50', 'name': '방황하는 칼날', 'date': '2014-04-10', 'sale': '7,828,891,800', 'audience': '989,906', 'screen': '594', 'screen_number': '38,850'}, {'rank': '1', 'name': '베테랑', 'date': '2015-08-05', 'sale': '105,168,155,250', 'audience': '13,414,009', 'screen': '1,115', 'screen_number': '199,231'}, {'rank': '2', 'name': '암살', 'date': '2015-07-22', 'sale': '98,463,132,781', 'audience': '12,705,700', 'screen': '1,519', 'screen_number': '175,185'}, {'rank': '3', 'name': '어벤져스: 에이지 오브 울트론', 'date': '2015-04-23', 'sale': '88,582,586,366', 'audience': '10,494,499', 'screen': '1,843', 'screen_number': '191,778'}, {'rank': '4', 'name': '국제시장', 'date': '2014-12-17', 'sale': '69,841,376,134', 'audience': '8,915,904', 'screen': '1,044', 'screen_number': '149,061'}, {'rank': '5', 'name': '내부자들', 'date': '2015-11-19', 'sale': '56,465,665,657', 'audience': '7,055,332', 'screen': '1,129', 'screen_number': '152,265'}, {'rank': '6', 'name': '사도', 'date': '2015-09-16', 'sale': '48,842,902,501', 'audience': '6,246,849', 'screen': '1,210', 'screen_number': '124,246'}, {'rank': '7', 'name': '킹스맨 : 시크릿 에이전트', 'date': '2015-02-11', 'sale': '50,369,009,795', 'audience': '6,129,681', 'screen': '728', 'screen_number': '139,988'}, {'rank': '8', 'name': '미션 임파서블: 로그네이션', 'date': '2015-07-30', 'sale': '48,547,353,607', 'audience': '6,126,488', 'screen': '1,202', 'screen_number': '89,682'}, {'rank': '9', 'name': '연평해전', 'date': '2015-06-24', 'sale': '45,563,228,330', 'audience': '6,043,784', 'screen': '1,013', 'screen_number': '114,450'}, {'rank': '10', 'name': '쥬라기 월드', 'date': '2015-06-11', 'sale': '47,800,698,826', 'audience': '5,546,792', 'screen': '1,290', 'screen_number': '118,959'}, {'rank': '11', 'name': '검은 사제들', 'date': '2015-11-05', 'sale': '42,405,282,092', 'audience': '5,442,128', 'screen': '1,109', 'screen_number': '131,155'}, {'rank': '12', 'name': '히말라야', 'date': '2015-12-16', 'sale': '39,469,775,448', 'audience': '5,129,409', 'screen': '1,095', 'screen_number': '81,042'}, {'rank': '13', 'name': '인사이드 아웃', 'date': '2015-07-09', 'sale': '38,024,694,936', 'audience': '4,969,735', 'screen': '931', 'screen_number': '84,000'}, {'rank': '14', 'name': '마션', 'date': '2015-10-08', 'sale': '39,663,145,295', 'audience': '4,880,800', 'screen': '1,132', 'screen_number': '114,183'}, {'rank': '15', 'name': '조선명탐정 : 사라진 놉의 딸', 'date': '2015-02-11', 'sale': '30,456,879,428', 'audience': '3,872,015', 'screen': '825', 'screen_number': '80,499'}, {'rank': '16', 'name': '매드 맥스: 분노의 도로', 'date': '2015-05-14', 'sale': '32,912,842,162', 'audience': '3,843,343', 'screen': '799', 'screen_number': '98,824'}, {'rank': '17', 'name': '인턴', 'date': '2015-09-24', 'sale': '28,517,741,148', 'audience': '3,610,566', 'screen': '659', 'screen_number': '81,551'}, {'rank': '18', 'name': '분노의 질주: 더 세븐', 'date': '2015-04-01', 'sale': '26,454,098,694', 'audience': '3,247,955', 'screen': '983', 'screen_number': '93,612'}, {'rank': '19', 'name': '터미네이터 제니시스', 'date': '2015-07-02', 'sale': '26,556,715,129', 'audience': '3,240,370', 'screen': '1,113', 'screen_number': '77,590'}, {'rank': '20', 'name': '스물', 'date': '2015-03-25', 'sale': '23,563,421,686', 'audience': '3,044,811', 'screen': '926', 'screen_number': '100,161'}, {'rank': '21', 'name': '극비수사', 'date': '2015-06-18', 'sale': '22,389,535,897', 'audience': '2,860,786', 'screen': '894', 'screen_number': '66,211'}, {'rank': '22', 'name': '앤트맨', 'date': '2015-09-03', 'sale': '23,529,209,937', 'audience': '2,841,795', 'screen': '949', 'screen_number': '74,649'}, {'rank': '23', 'name': '스타워즈: 깨어난 포스', 'date': '2015-12-17', 'sale': '24,149,478,540', 'audience': '2,803,234', 'screen': '940', 'screen_number': '56,425'}, {'rank': '24', 'name': '빅 히어로', 'date': '2015-01-21', 'sale': '21,993,119,765', 'audience': '2,801,949', 'screen': '825', 'screen_number': '62,229'}, {'rank': '25', 'name': '메이즈 러너: 스코치 트라이얼', 'date': '2015-09-16', 'sale': '21,596,946,349', 'audience': '2,744,413', 'screen': '804', 'screen_number': '58,725'}, {'rank': '26', 'name': '탐정 : 더 비기닝', 'date': '2015-09-24', 'sale': '20,463,956,973', 'audience': '2,625,686', 'screen': '764', 'screen_number': '54,995'}, {'rank': '27', 'name': '미니언즈', 'date': '2015-07-29', 'sale': '18,998,046,278', 'audience': '2,625,599', 'screen': '792', 'screen_number': '41,946'}, {'rank': '28', 'name': '스파이', 'date': '2015-05-21', 'sale': '18,417,637,358', 'audience': '2,318,748', 'screen': '665', 'screen_number': '62,960'}, {'rank': '29', 'name': '악의 연대기', 'date': '2015-05-14', 'sale': '17,361,815,332', 'audience': '2,192,525', 'screen': '776', 'screen_number': '64,351'}, {'rank': '30', 'name': '강남 1970', 'date': '2015-01-21', 'sale': '17,718,699,499', 'audience': '2,192,276', 'screen': '841', 'screen_number': '53,304'}, {'rank': '31', 'name': '뷰티 인사이드', 'date': '2015-08-20', 'sale': '16,148,479,531', 'audience': '2,053,435', 'screen': '648', 'screen_number': '52,618'}, {'rank': '32', 'name': '오늘의 연애', 'date': '2015-01-14', 'sale': '14,924,654,487', 'audience': '1,891,993', 'screen': '709', 'screen_number': '47,237'}, {'rank': '33', 'name': '테이큰 3', 'date': '2015-01-01', 'sale': '15,088,105,000', 'audience': '1,860,934', 'screen': '616', 'screen_number': '38,060'}, {'rank': '34', 'name': '007 스펙터', 'date': '2015-11-11', 'sale': '14,301,476,030', 'audience': '1,820,760', 'screen': '1,105', 'screen_number': '51,940'}, {'rank': '35', 'name': '이미테이션 게임', 'date': '2015-02-17', 'sale': '13,655,929,120', 'audience': '1,743,963', 'screen': '541', 'screen_number': '44,782'}, {'rank': '36', 'name': '샌 안드레아스', 'date': '2015-06-03', 'sale': '14,435,844,152', 'audience': '1,716,455', 'screen': '847', 'screen_number': '62,016'}, {'rank': '37', 'name': '쎄시봉', 'date': '2015-02-05', 'sale': '13,571,515,911', 'audience': '1,715,370', 'screen': '829', 'screen_number': '51,744'}, {'rank': '38', 'name': '더 폰', 'date': '2015-10-22', 'sale': '12,309,164,568', 'audience': '1,593,694', 'screen': '794', 'screen_number': '53,599'}, {'rank': '39', 'name': '위플래쉬', 'date': '2015-03-12', 'sale': '12,656,619,045', 'audience': '1,589,032', 'screen': '574', 'screen_number': '56,028'}, {'rank': '40', 'name': '대호', 'date': '2015-12-16', 'sale': '12,104,808,332', 'audience': '1,584,168', 'screen': '892', 'screen_number': '39,599'}, {'rank': '41', 'name': '마다가스카의 펭귄', 'date': '2014-12-31', 'sale': '11,450,482,159', 'audience': '1,512,340', 'screen': '615', 'screen_number': '27,171'}, {'rank': '42', 'name': '차이나타운', 'date': '2015-04-29', 'sale': '11,990,370,378', 'audience': '1,472,106', 'screen': '551', 'screen_number': '45,137'}, {'rank': '43', 'name': '장수상회', 'date': '2015-04-09', 'sale': '8,737,364,643', 'audience': '1,165,780', 'screen': '688', 'screen_number': '52,928'}, {'rank': '44', 'name': '성난 변호사', 'date': '2015-10-08', 'sale': '8,723,650,039', 'audience': '1,128,288', 'screen': '607', 'screen_number': '36,990'}, {'rank': '45', 'name': '간신', 'date': '2015-05-21', 'sale': '8,946,842,910', 'audience': '1,110,246', 'screen': '697', 'screen_number': '40,580'}, {'rank': '46', 'name': '박물관이 살아있다 : 비밀의 무덤', 'date': '2015-01-14', 'sale': '8,170,784,606', 'audience': '1,101,678', 'screen': '500', 'screen_number': '30,146'}, {'rank': '47', 'name': '그놈이다', 'date': '2015-10-28', 'sale': '8,096,427,152', 'audience': '1,046,015', 'screen': '681', 'screen_number': '38,678'}, {'rank': '48', 'name': '미쓰 와이프', 'date': '2015-08-13', 'sale': '7,387,086,869', 'audience': '988,451', 'screen': '437', 'screen_number': '28,864'}, {'rank': '49', 'name': '몬스터 호텔 2', 'date': '2015-12-24', 'sale': '7,029,012,585', 'audience': '962,770', 'screen': '686', 'screen_number': '12,388'}, {'rank': '50', 'name': '허삼관', 'date': '2015-01-14', 'sale': '7,408,943,569', 'audience': '955,679', 'screen': '621', 'screen_number': '27,645'}, {'rank': '1', 'name': '부산행', 'date': '2016-07-20', 'sale': '93,178,283,048', 'audience': '11,565,479', 'screen': '1,788', 'screen_number': '151,315'}, {'rank': '2', 'name': '검사외전', 'date': '2016-02-03', 'sale': '77,320,403,264', 'audience': '9,707,581', 'screen': '1,812', 'screen_number': '153,532'}, {'rank': '3', 'name': '캡틴 아메리카: 시빌 워', 'date': '2016-04-27', 'sale': '72,672,111,827', 'audience': '8,677,249', 'screen': '1,991', 'screen_number': '161,696'}, {'rank': '4', 'name': '밀정', 'date': '2016-09-07', 'sale': '61,269,783,831', 'audience': '7,500,420', 'screen': '1,444', 'screen_number': '138,161'}, {'rank': '5', 'name': '터널', 'date': '2016-08-10', 'sale': '57,529,484,417', 'audience': '7,120,508', 'screen': '1,105', 'screen_number': '113,201'}, {'rank': '6', 'name': '인천상륙작전', 'date': '2016-07-27', 'sale': '55,101,410,303', 'audience': '7,049,643', 'screen': '1,049', 'screen_number': '97,019'}, {'rank': '7', 'name': '럭키', 'date': '2016-10-13', 'sale': '56,444,461,256', 'audience': '6,975,290', 'screen': '1,234', 'screen_number': '155,977'}, {'rank': '8', 'name': '곡성', 'date': '2016-05-12', 'sale': '55,863,520,382', 'audience': '6,879,908', 'screen': '1,485', 'screen_number': '130,322'}, {'rank': '9', 'name': '덕혜옹주', 'date': '2016-08-03', 'sale': '44,393,459,109', 'audience': '5,599,177', 'screen': '964', 'screen_number': '97,307'}, {'rank': '10', 'name': '닥터 스트레인지', 'date': '2016-10-26', 'sale': '47,481,830,396', 'audience': '5,446,239', 'screen': '1,503', 'screen_number': '162,856'}, {'rank': '11', 'name': '마스터', 'date': '2016-12-21', 'sale': '39,784,641,065', 'audience': '4,935,320', 'screen': '1,501', 'screen_number': '70,786'}, {'rank': '12', 'name': '주토피아', 'date': '2016-02-17', 'sale': '37,096,057,742', 'audience': '4,706,158', 'screen': '735', 'screen_number': '131,005'}, {'rank': '13', 'name': '신비한 동물사전', 'date': '2016-11-16', 'sale': '39,300,515,858', 'audience': '4,662,534', 'screen': '1,431', 'screen_number': '115,676'}, {'rank': '14', 'name': '판도라', 'date': '2016-12-07', 'sale': '33,955,398,164', 'audience': '4,313,864', 'screen': '1,184', 'screen_number': '90,758'}, {'rank': '15', 'name': '아가씨', 'date': '2016-06-01', 'sale': '35,211,229,991', 'audience': '4,287,839', 'screen': '1,171', 'screen_number': '90,365'}, {'rank': '16', 'name': '쿵푸팬더3', 'date': '2016-01-28', 'sale': '31,340,798,156', 'audience': '3,984,812', 'screen': '1,365', 'screen_number': '97,404'}, {'rank': '17', 'name': '귀향', 'date': '2016-02-24', 'sale': '27,249,738,990', 'audience': '3,587,173', 'screen': '876', 'screen_number': '90,286'}, {'rank': '18', 'name': '데드풀', 'date': '2016-02-17', 'sale': '27,595,618,651', 'audience': '3,317,196', 'screen': '1,036', 'screen_number': '82,521'}, {'rank': '19', 'name': '나우 유 씨 미 2', 'date': '2016-07-13', 'sale': '25,116,690,113', 'audience': '3,100,113', 'screen': '1,200', 'screen_number': '56,981'}, {'rank': '20', 'name': '형', 'date': '2016-11-23', 'sale': '23,113,768,293', 'audience': '2,979,659', 'screen': '993', 'screen_number': '83,518'}, {'rank': '21', 'name': '엑스맨: 아포칼립스', 'date': '2016-05-25', 'sale': '24,467,887,950', 'audience': '2,938,818', 'screen': '1,262', 'screen_number': '66,471'}, {'rank': '22', 'name': '미스 페레그린과 이상한 아이들의 집', 'date': '2016-09-28', 'sale': '21,841,214,586', 'audience': '2,718,158', 'screen': '904', 'screen_number': '70,451'}, {'rank': '23', 'name': '히말라야', 'date': '2015-12-16', 'sale': '20,705,587,567', 'audience': '2,630,352', 'screen': '955', 'screen_number': '61,673'}, {'rank': '24', 'name': '제이슨 본', 'date': '2016-07-27', 'sale': '21,253,434,663', 'audience': '2,611,966', 'screen': '827', 'screen_number': '39,806'}, {'rank': '25', 'name': '도리를 찾아서', 'date': '2016-07-06', 'sale': '20,703,899,933', 'audience': '2,601,734', 'screen': '1,091', 'screen_number': '55,110'}, {'rank': '26', 'name': '아수라', 'date': '2016-09-28', 'sale': '20,576,226,662', 'audience': '2,594,028', 'screen': '1,278', 'screen_number': '68,040'}, {'rank': '27', 'name': '정글북', 'date': '2016-06-09', 'sale': '21,517,647,134', 'audience': '2,537,438', 'screen': '924', 'screen_number': '59,041'}, {'rank': '28', 'name': '마이펫의 이중생활', 'date': '2016-08-03', 'sale': '19,406,436,655', 'audience': '2,520,670', 'screen': '726', 'screen_number': '39,653'}, {'rank': '29', 'name': '라라랜드', 'date': '2016-12-07', 'sale': '19,996,139,232', 'audience': '2,385,108', 'screen': '727', 'screen_number': '56,408'}, {'rank': '30', 'name': '배트맨 대 슈퍼맨: 저스티스의 시작', 'date': '2016-03-24', 'sale': '18,906,246,428', 'audience': '2,256,913', 'screen': '1,709', 'screen_number': '95,669'}, {'rank': '31', 'name': '굿바이 싱글', 'date': '2016-06-29', 'sale': '16,912,706,195', 'audience': '2,108,273', 'screen': '841', 'screen_number': '56,380'}, {'rank': '32', 'name': '봉이 김선달', 'date': '2016-07-06', 'sale': '16,227,052,642', 'audience': '2,051,277', 'screen': '942', 'screen_number': '51,418'}, {'rank': '33', 'name': '레버넌트: 죽음에서 돌아온 자', 'date': '2016-01-14', 'sale': '16,107,360,130', 'audience': '2,007,188', 'screen': '967', 'screen_number': '55,063'}, {'rank': '34', 'name': '컨저링 2', 'date': '2016-06-09', 'sale': '15,759,374,229', 'audience': '1,928,605', 'screen': '640', 'screen_number': '45,816'}, {'rank': '35', 'name': '내부자들: 디 오리지널', 'date': '2015-12-31', 'sale': '15,742,927,260', 'audience': '1,924,720', 'screen': '838', 'screen_number': '45,697'}, {'rank': '36', 'name': '수어사이드 스쿼드', 'date': '2016-08-03', 'sale': '15,874,111,188', 'audience': '1,898,220', 'screen': '823', 'screen_number': '29,512'}, {'rank': '37', 'name': '인디펜던스 데이 : 리써전스', 'date': '2016-06-22', 'sale': '12,770,879,840', 'audience': '1,500,830', 'screen': '926', 'screen_number': '47,432'}, {'rank': '38', 'name': '탐정 홍길동: 사라진 마을', 'date': '2016-05-04', 'sale': '11,516,170,845', 'audience': '1,430,885', 'screen': '764', 'screen_number': '41,076'}, {'rank': '39', 'name': '벤허', 'date': '2016-09-14', 'sale': '11,410,860,395', 'audience': '1,400,301', 'screen': '717', 'screen_number': '38,941'}, {'rank': '40', 'name': '굿 다이노', 'date': '2016-01-07', 'sale': '9,756,167,238', 'audience': '1,328,913', 'screen': '814', 'screen_number': '33,127'}, {'rank': '41', 'name': '셜록: 유령신부', 'date': '2016-01-02', 'sale': '9,992,425,049', 'audience': '1,278,894', 'screen': '891', 'screen_number': '32,683'}, {'rank': '42', 'name': '특별수사: 사형수의 편지', 'date': '2016-06-16', 'sale': '9,929,947,065', 'audience': '1,241,899', 'screen': '691', 'screen_number': '39,372'}, {'rank': '43', 'name': '시간이탈자', 'date': '2016-04-13', 'sale': '9,731,838,195', 'audience': '1,202,384', 'screen': '733', 'screen_number': '55,075'}, {'rank': '44', 'name': '동주', 'date': '2016-02-17', 'sale': '8,889,077,089', 'audience': '1,172,641', 'screen': '543', 'screen_number': '39,958'}, {'rank': '45', 'name': '워크래프트: 전쟁의 서막', 'date': '2016-06-09', 'sale': '10,142,271,205', 'audience': '1,163,274', 'screen': '736', 'screen_number': '34,087'}, {'rank': '46', 'name': '스타트렉 비욘드', 'date': '2016-08-17', 'sale': '10,190,375,820', 'audience': '1,157,156', 'screen': '716', 'screen_number': '38,199'}, {'rank': '47', 'name': '미씽: 사라진 여자', 'date': '2016-11-30', 'sale': '8,881,616,256', 'audience': '1,153,109', 'screen': '790', 'screen_number': '40,617'}, {'rank': '48', 'name': '당신, 거기 있어줄래요', 'date': '2016-12-14', 'sale': '8,999,085,248', 'audience': '1,124,815', 'screen': '767', 'screen_number': '39,181'}, {'rank': '49', 'name': '라이트 아웃', 'date': '2016-08-24', 'sale': '8,893,059,975', 'audience': '1,111,284', 'screen': '659', 'screen_number': '34,444'}, {'rank': '50', 'name': '오빠생각', 'date': '2016-01-21', 'sale': '8,060,591,287', 'audience': '1,069,864', 'screen': '855', 'screen_number': '44,801'}, {'rank': '1', 'name': '택시운전사', 'date': '2017-08-02', 'sale': '95,853,645,649', 'audience': '12,186,327', 'screen': '1,906', 'screen_number': '184,075'}, {'rank': '2', 'name': '신과함께-죄와 벌', 'date': '2017-12-20', 'sale': '68,350,496,432', 'audience': '8,539,495', 'screen': '1,912', 'screen_number': '91,301'}, {'rank': '3', 'name': '공조', 'date': '2017-01-18', 'sale': '63,783,051,326', 'audience': '7,817,618', 'screen': '1,392', 'screen_number': '142,989'}, {'rank': '4', 'name': '스파이더맨: 홈 커밍', 'date': '2017-07-05', 'sale': '59,125,813,820', 'audience': '7,258,678', 'screen': '1,965', 'screen_number': '164,448'}, {'rank': '5', 'name': '범죄도시', 'date': '2017-10-03', 'sale': '56,318,014,149', 'audience': '6,879,841', 'screen': '1,315', 'screen_number': '149,334'}, {'rank': '6', 'name': '군함도', 'date': '2017-07-26', 'sale': '50,510,565,168', 'audience': '6,592,151', 'screen': '2,027', 'screen_number': '108,775'}, {'rank': '7', 'name': '청년경찰', 'date': '2017-08-09', 'sale': '44,381,150,516', 'audience': '5,653,270', 'screen': '1,102', 'screen_number': '118,544'}, {'rank': '8', 'name': '더 킹', 'date': '2017-01-18', 'sale': '43,488,814,535', 'audience': '5,317,693', 'screen': '1,310', 'screen_number': '107,983'}, {'rank': '9', 'name': '미녀와 야수', 'date': '2017-03-16', 'sale': '42,133,751,579', 'audience': '5,138,328', 'screen': '1,627', 'screen_number': '140,561'}, {'rank': '10', 'name': '킹스맨: 골든 서클', 'date': '2017-09-27', 'sale': '40,987,484,736', 'audience': '4,945,484', 'screen': '1,687', 'screen_number': '95,922'}, {'rank': '11', 'name': '토르: 라그나로크', 'date': '2017-10-25', 'sale': '39,227,691,395', 'audience': '4,853,778', 'screen': '1,640', 'screen_number': '137,423'}, {'rank': '12', 'name': '꾼', 'date': '2017-11-22', 'sale': '31,312,029,795', 'audience': '4,018,035', 'screen': '1,314', 'screen_number': '117,398'}, {'rank': '13', 'name': '강철비', 'date': '2017-12-14', 'sale': '31,994,897,566', 'audience': '4,014,293', 'screen': '1,426', 'screen_number': '66,760'}, {'rank': '14', 'name': '남한산성', 'date': '2017-10-03', 'sale': '31,225,083,792', 'audience': '3,849,087', 'screen': '1,229', 'screen_number': '71,101'}, {'rank': '15', 'name': '미이라', 'date': '2017-06-06', 'sale': '30,504,689,978', 'audience': '3,689,325', 'screen': '1,257', 'screen_number': '105,228'}, {'rank': '16', 'name': '분노의 질주: 더 익스트림', 'date': '2017-04-12', 'sale': '29,981,156,348', 'audience': '3,653,238', 'screen': '1,469', 'screen_number': '113,241'}, {'rank': '17', 'name': '너의 이름은.', 'date': '2017-01-04', 'sale': '29,251,793,156', 'audience': '3,637,608', 'screen': '947', 'screen_number': '82,978'}, {'rank': '18', 'name': '슈퍼배드 3', 'date': '2017-07-26', 'sale': '24,217,091,019', 'audience': '3,324,874', 'screen': '1,057', 'screen_number': '59,388'}, {'rank': '19', 'name': '아이 캔 스피크', 'date': '2017-09-21', 'sale': '25,526,451,186', 'audience': '3,279,296', 'screen': '1,140', 'screen_number': '93,012'}, {'rank': '20', 'name': '캐리비안의 해적: 죽은 자는 말이 없다', 'date': '2017-05-24', 'sale': '24,975,495,122', 'audience': '3,049,894', 'screen': '1,357', 'screen_number': '85,225'}, {'rank': '21', 'name': '프리즌', 'date': '2017-03-23', 'sale': '23,790,276,987', 'audience': '2,931,897', 'screen': '1,047', 'screen_number': '89,024'}, {'rank': '22', 'name': '덩케르크', 'date': '2017-07-20', 'sale': '24,550,541,348', 'audience': '2,788,732', 'screen': '1,252', 'screen_number': '65,906'}, {'rank': '23', 'name': '가디언즈 오브 갤럭시 VOL. 2', 'date': '2017-05-03', 'sale': '23,452,686,686', 'audience': '2,735,721', 'screen': '1,218', 'screen_number': '63,789'}, {'rank': '24', 'name': '살인자의 기억법', 'date': '2017-09-06', 'sale': '21,375,287,492', 'audience': '2,658,589', 'screen': '1,064', 'screen_number': '88,686'}, {'rank': '25', 'name': '트랜스포머: 최후의 기사', 'date': '2017-06-21', 'sale': '21,501,959,228', 'audience': '2,614,601', 'screen': '1,739', 'screen_number': '87,234'}, {'rank': '26', 'name': '보안관', 'date': '2017-05-03', 'sale': '20,844,488,409', 'audience': '2,588,628', 'screen': '1,091', 'screen_number': '63,709'}, {'rank': '27', 'name': '조작된 도시', 'date': '2017-02-09', 'sale': '20,143,992,587', 'audience': '2,515,501', 'screen': '1,019', 'screen_number': '62,241'}, {'rank': '28', 'name': '보스 베이비', 'date': '2017-05-03', 'sale': '18,936,306,704', 'audience': '2,452,245', 'screen': '1,116', 'screen_number': '48,379'}, {'rank': '29', 'name': '재심', 'date': '2017-02-15', 'sale': '19,266,319,637', 'audience': '2,421,197', 'screen': '935', 'screen_number': '68,402'}, {'rank': '30', 'name': '박열', 'date': '2017-06-28', 'sale': '18,093,639,795', 'audience': '2,359,206', 'screen': '1,176', 'screen_number': '78,499'}, {'rank': '31', 'name': '모아나', 'date': '2017-01-12', 'sale': '18,056,417,307', 'audience': '2,310,206', 'screen': '953', 'screen_number': '53,162'}, {'rank': '32', 'name': '마스터', 'date': '2016-12-21', 'sale': '18,283,595,800', 'audience': '2,215,266', 'screen': '1,245', 'screen_number': '56,141'}, {'rank': '33', 'name': '로건', 'date': '2017-03-01', 'sale': '18,391,060,223', 'audience': '2,169,109', 'screen': '954', 'screen_number': '68,709'}, {'rank': '34', 'name': '원더 우먼', 'date': '2017-05-31', 'sale': '17,468,588,886', 'audience': '2,165,401', 'screen': '1,034', 'screen_number': '57,818'}, {'rank': '35', 'name': '겟 아웃', 'date': '2017-05-17', 'sale': '17,431,830,075', 'audience': '2,138,174', 'screen': '945', 'screen_number': '56,530'}, {'rank': '36', 'name': '혹성탈출: 종의 전쟁', 'date': '2017-08-15', 'sale': '16,854,482,778', 'audience': '2,051,315', 'screen': '1,017', 'screen_number': '44,543'}, {'rank': '37', 'name': '1987', 'date': '2017-12-27', 'sale': '15,254,004,037', 'audience': '1,942,077', 'screen': '1,299', 'screen_number': '27,619'}, {'rank': '38', 'name': '애나벨 : 인형의 주인', 'date': '2017-08-10', 'sale': '15,527,492,238', 'audience': '1,934,270', 'screen': '1,006', 'screen_number': '35,103'}, {'rank': '39', 'name': '노무현입니다', 'date': '2017-05-25', 'sale': '14,556,517,612', 'audience': '1,855,149', 'screen': '775', 'screen_number': '61,327'}, {'rank': '40', 'name': '저스티스 리그', 'date': '2017-11-15', 'sale': '14,629,677,795', 'audience': '1,786,383', 'screen': '1,308', 'screen_number': '73,390'}, {'rank': '41', 'name': '킬러의 보디가드', 'date': '2017-08-30', 'sale': '14,020,395,800', 'audience': '1,721,757', 'screen': '482', 'screen_number': '42,002'}, {'rank': '42', 'name': '콩: 스컬 아일랜드', 'date': '2017-03-08', 'sale': '13,990,563,383', 'audience': '1,689,717', 'screen': '984', 'screen_number': '56,425'}, {'rank': '43', 'name': '23 아이덴티티', 'date': '2017-02-22', 'sale': '13,609,648,135', 'audience': '1,675,819', 'screen': '952', 'screen_number': '44,104'}, {'rank': '44', 'name': '임금님의 사건수첩', 'date': '2017-04-26', 'sale': '12,651,193,723', 'audience': '1,635,003', 'screen': '1,054', 'screen_number': '53,005'}, {'rank': '45', 'name': '부라더', 'date': '2017-11-02', 'sale': '11,783,109,998', 'audience': '1,492,903', 'screen': '889', 'screen_number': '54,975'}, {'rank': '46', 'name': '기억의 밤', 'date': '2017-11-29', 'sale': '10,646,654,660', 'audience': '1,386,611', 'screen': '759', 'screen_number': '52,847'}, {'rank': '47', 'name': '해피 데스데이', 'date': '2017-11-08', 'sale': '11,004,455,402', 'audience': '1,382,650', 'screen': '714', 'screen_number': '52,101'}, {'rank': '48', 'name': '브이아이피', 'date': '2017-08-23', 'sale': '10,956,621,835', 'audience': '1,373,316', 'screen': '996', 'screen_number': '44,650'}, {'rank': '49', 'name': '특별시민', 'date': '2017-04-26', 'sale': '10,494,768,945', 'audience': '1,362,634', 'screen': '1,154', 'screen_number': '46,377'}, {'rank': '50', 'name': '에이리언: 커버넌트', 'date': '2017-05-09', 'sale': '10,745,826,264', 'audience': '1,307,226', 'screen': '841', 'screen_number': '41,761'}, {'rank': '1', 'name': '신과함께-인과 연', 'date': '2018-08-01', 'sale': '102,666,146,909', 'audience': '12,274,996', 'screen': '2,235', 'screen_number': '179,981'}, {'rank': '2', 'name': '어벤져스: 인피니티 워', 'date': '2018-04-25', 'sale': '99,926,399,769', 'audience': '11,212,710', 'screen': '2,553', 'screen_number': '240,501'}, {'rank': '3', 'name': '보헤미안 랩소디', 'date': '2018-10-31', 'sale': '80,010,440,345', 'audience': '9,224,582', 'screen': '1,179', 'screen_number': '204,537'}, {'rank': '4', 'name': '미션 임파서블: 폴아웃', 'date': '2018-07-25', 'sale': '55,888,375,112', 'audience': '6,584,915', 'screen': '1,957', 'screen_number': '101,374'}, {'rank': '5', 'name': '신과함께-죄와 벌', 'date': '2017-12-20', 'sale': '47,355,583,705', 'audience': '5,872,007', 'screen': '1,644', 'screen_number': '121,961'}, {'rank': '6', 'name': '쥬라기 월드: 폴른 킹덤', 'date': '2018-06-06', 'sale': '49,770,711,037', 'audience': '5,661,128', 'screen': '1,972', 'screen_number': '144,779'}, {'rank': '7', 'name': '앤트맨과 와스프', 'date': '2018-07-04', 'sale': '47,468,053,685', 'audience': '5,448,134', 'screen': '1,775', 'screen_number': '148,244'}, {'rank': '8', 'name': '안시성', 'date': '2018-09-19', 'sale': '46,335,334,026', 'audience': '5,440,186', 'screen': '1,540', 'screen_number': '110,439'}, {'rank': '9', 'name': '블랙 팬서', 'date': '2018-02-14', 'sale': '45,885,123,957', 'audience': '5,399,227', 'screen': '1,620', 'screen_number': '119,170'}, {'rank': '10', 'name': '완벽한 타인', 'date': '2018-10-31', 'sale': '44,350,807,074', 'audience': '5,293,435', 'screen': '1,325', 'screen_number': '143,055'}, {'rank': '11', 'name': '1987', 'date': '2017-12-27', 'sale': '42,915,772,108', 'audience': '5,290,310', 'screen': '1,122', 'screen_number': '110,607'}, {'rank': '12', 'name': '독전', 'date': '2018-05-22', 'sale': '43,485,551,113', 'audience': '5,063,684', 'screen': '1,532', 'screen_number': '140,007'}, {'rank': '13', 'name': '공작', 'date': '2018-08-08', 'sale': '42,788,851,176', 'audience': '4,974,520', 'screen': '1,317', 'screen_number': '99,001'}, {'rank': '14', 'name': '베놈', 'date': '2018-10-03', 'sale': '34,100,211,207', 'audience': '3,888,096', 'screen': '1,308', 'screen_number': '116,149'}, {'rank': '15', 'name': '암수살인', 'date': '2018-10-03', 'sale': '32,995,138,548', 'audience': '3,789,321', 'screen': '1,177', 'screen_number': '126,127'}, {'rank': '16', 'name': '데드풀 2', 'date': '2018-05-16', 'sale': '34,185,664,639', 'audience': '3,784,602', 'screen': '1,576', 'screen_number': '113,288'}, {'rank': '17', 'name': '국가부도의 날', 'date': '2018-11-28', 'sale': '30,845,862,137', 'audience': '3,747,952', 'screen': '1,180', 'screen_number': '100,804'}, {'rank': '18', 'name': '코코', 'date': '2018-01-11', 'sale': '27,685,479,440', 'audience': '3,510,017', 'screen': '1,177', 'screen_number': '85,925'}, {'rank': '19', 'name': '아쿠아맨', 'date': '2018-12-19', 'sale': '30,454,292,381', 'audience': '3,491,857', 'screen': '1,285', 'screen_number': '54,505'}, {'rank': '20', 'name': '그것만이 내 세상', 'date': '2018-01-17', 'sale': '27,450,805,382', 'audience': '3,419,339', 'screen': '956', 'screen_number': '95,431'}, {'rank': '21', 'name': '마녀', 'date': '2018-06-27', 'sale': '27,242,029,463', 'audience': '3,189,091', 'screen': '1,117', 'screen_number': '90,843'}, {'rank': '22', 'name': '탐정: 리턴즈', 'date': '2018-06-13', 'sale': '26,909,459,678', 'audience': '3,152,872', 'screen': '1,137', 'screen_number': '107,907'}, {'rank': '23', 'name': '인크레더블 2', 'date': '2018-07-18', 'sale': '24,554,683,588', 'audience': '3,033,052', 'screen': '1,605', 'screen_number': '70,934'}, {'rank': '24', 'name': '서치', 'date': '2018-08-29', 'sale': '25,283,364,845', 'audience': '2,949,944', 'screen': '1,097', 'screen_number': '95,758'}, {'rank': '25', 'name': '너의 결혼식', 'date': '2018-08-22', 'sale': '23,676,244,369', 'audience': '2,820,969', 'screen': '970', 'screen_number': '98,193'}, {'rank': '26', 'name': '곤지암', 'date': '2018-03-28', 'sale': '21,442,194,144', 'audience': '2,675,575', 'screen': '1,124', 'screen_number': '88,477'}, {'rank': '27', 'name': '지금 만나러 갑니다', 'date': '2018-03-14', 'sale': '20,800,916,128', 'audience': '2,602,273', 'screen': '1,191', 'screen_number': '97,482'}, {'rank': '28', 'name': '목격자', 'date': '2018-08-15', 'sale': '21,737,061,097', 'audience': '2,524,720', 'screen': '1,021', 'screen_number': '71,403'}, {'rank': '29', 'name': '조선명탐정: 흡혈괴마의 비밀', 'date': '2018-02-08', 'sale': '19,822,789,764', 'audience': '2,444,136', 'screen': '1,249', 'screen_number': '74,953'}, {'rank': '30', 'name': '신비한 동물들과 그린델왈드의 범죄', 'date': '2018-11-14', 'sale': '20,816,583,118', 'audience': '2,414,062', 'screen': '1,601', 'screen_number': '76,846'}, {'rank': '31', 'name': '메이즈 러너: 데스 큐어', 'date': '2018-01-17', 'sale': '18,902,873,104', 'audience': '2,299,732', 'screen': '1,090', 'screen_number': '58,918'}, {'rank': '32', 'name': '맘마미아!2', 'date': '2018-08-08', 'sale': '19,607,520,003', 'audience': '2,293,884', 'screen': '750', 'screen_number': '59,060'}, {'rank': '33', 'name': '레디 플레이어 원', 'date': '2018-03-28', 'sale': '19,933,108,071', 'audience': '2,254,430', 'screen': '1,079', 'screen_number': '77,173'}, {'rank': '34', 'name': '명당', 'date': '2018-09-19', 'sale': '17,900,775,524', 'audience': '2,087,474', 'screen': '1,117', 'screen_number': '58,450'}, {'rank': '35', 'name': '협상', 'date': '2018-09-19', 'sale': '17,032,133,166', 'audience': '1,967,721', 'screen': '919', 'screen_number': '57,926'}, {'rank': '36', 'name': '마약왕', 'date': '2018-12-19', 'sale': '15,784,724,552', 'audience': '1,813,594', 'screen': '1,297', 'screen_number': '41,658'}, {'rank': '37', 'name': '쥬만지: 새로운 세계', 'date': '2018-01-03', 'sale': '13,814,824,864', 'audience': '1,708,672', 'screen': '791', 'screen_number': '41,806'}, {'rank': '38', 'name': '창궐', 'date': '2018-10-25', 'sale': '13,275,772,490', 'audience': '1,599,290', 'screen': '1,351', 'screen_number': '60,687'}, {'rank': '39', 'name': '성난황소', 'date': '2018-11-22', 'sale': '13,236,490,737', 'audience': '1,593,386', 'screen': '1,010', 'screen_number': '48,932'}, {'rank': '40', 'name': '도어락', 'date': '2018-12-05', 'sale': '12,792,097,886', 'audience': '1,559,616', 'screen': '954', 'screen_number': '53,732'}, {'rank': '41', 'name': '리틀 포레스트', 'date': '2018-02-28', 'sale': '11,929,202,185', 'audience': '1,506,269', 'screen': '884', 'screen_number': '68,414'}, {'rank': '42', 'name': '골든슬럼버', 'date': '2018-02-14', 'sale': '11,412,768,798', 'audience': '1,387,508', 'screen': '833', 'screen_number': '42,991'}, {'rank': '43', 'name': '램페이지', 'date': '2018-04-12', 'sale': '11,951,980,109', 'audience': '1,385,511', 'screen': '909', 'screen_number': '55,295'}, {'rank': '44', 'name': '궁합', 'date': '2018-02-28', 'sale': '10,478,875,438', 'audience': '1,340,117', 'screen': '966', 'screen_number': '52,427'}, {'rank': '45', 'name': '오션스8', 'date': '2018-06-13', 'sale': '11,700,157,266', 'audience': '1,335,829', 'screen': '837', 'screen_number': '55,372'}, {'rank': '46', 'name': '사라진 밤', 'date': '2018-03-07', 'sale': '10,697,981,316', 'audience': '1,315,726', 'screen': '925', 'screen_number': '60,087'}, {'rank': '47', 'name': '스윙키즈', 'date': '2018-12-19', 'sale': '10,308,565,602', 'audience': '1,258,811', 'screen': '984', 'screen_number': '32,237'}, {'rank': '48', 'name': '바람 바람 바람', 'date': '2018-04-05', 'sale': '9,784,385,375', 'audience': '1,194,229', 'screen': '985', 'screen_number': '57,939'}, {'rank': '49', 'name': 'PMC: 더 벙커', 'date': '2018-12-26', 'sale': '9,704,247,367', 'audience': '1,179,031', 'screen': '1,081', 'screen_number': '26,690'}, {'rank': '50', 'name': '범블비', 'date': '2018-12-25', 'sale': '9,756,083,752', 'audience': '1,167,150', 'screen': '1,016', 'screen_number': '26,260'}, {'rank': '1', 'name': '극한직업', 'date': '2019-01-23', 'sale': '139,651,845,516', 'audience': '16,265,618', 'screen': '2,003', 'screen_number': '292,584'}, {'rank': '2', 'name': '어벤져스: 엔드게임', 'date': '2019-04-24', 'sale': '122,181,161,160', 'audience': '13,934,399', 'screen': '2,835', 'screen_number': '241,979'}, {'rank': '3', 'name': '겨울왕국 2', 'date': '2019-11-21', 'sale': '111,596,248,720', 'audience': '13,369,064', 'screen': '2,648', 'screen_number': '282,557'}, {'rank': '4', 'name': '알라딘', 'date': '2019-05-23', 'sale': '106,955,138,359', 'audience': '12,552,283', 'screen': '1,409', 'screen_number': '266,469'}, {'rank': '5', 'name': '기생충', 'date': '2019-05-30', 'sale': '85,883,963,645', 'audience': '10,085,275', 'screen': '1,948', 'screen_number': '192,855'}, {'rank': '6', 'name': '엑시트', 'date': '2019-07-31', 'sale': '79,232,012,162', 'audience': '9,426,011', 'screen': '1,660', 'screen_number': '202,223'}, {'rank': '7', 'name': '스파이더맨: 파 프롬 홈', 'date': '2019-07-02', 'sale': '69,010,000,100', 'audience': '8,021,145', 'screen': '2,142', 'screen_number': '180,474'}, {'rank': '8', 'name': '백두산', 'date': '2019-12-19', 'sale': '52,905,789,770', 'audience': '6,290,502', 'screen': '1,971', 'screen_number': '99,915'}, {'rank': '9', 'name': '캡틴 마블', 'date': '2019-03-06', 'sale': '51,507,488,723', 'audience': '5,802,810', 'screen': '2,100', 'screen_number': '186,382'}, {'rank': '10', 'name': '조커', 'date': '2019-10-02', 'sale': '45,381,075,450', 'audience': '5,247,874', 'screen': '1,418', 'screen_number': '147,380'}, {'rank': '11', 'name': '봉오동 전투', 'date': '2019-08-07', 'sale': '40,588,648,538', 'audience': '4,787,538', 'screen': '1,476', 'screen_number': '107,030'}, {'rank': '12', 'name': '라이온 킹', 'date': '2019-07-17', 'sale': '41,519,457,430', 'audience': '4,743,264', 'screen': '1,936', 'screen_number': '126,496'}, {'rank': '13', 'name': '나쁜 녀석들: 더 무비', 'date': '2019-09-11', 'sale': '39,560,195,124', 'audience': '4,573,902', 'screen': '1,511', 'screen_number': '113,938'}, {'rank': '14', 'name': '82년생 김지영', 'date': '2019-10-23', 'sale': '30,298,542,310', 'audience': '3,678,156', 'screen': '1,486', 'screen_number': '145,441'}, {'rank': '15', 'name': '분노의 질주: 홉스&쇼', 'date': '2019-08-14', 'sale': '32,241,767,793', 'audience': '3,657,536', 'screen': '1,311', 'screen_number': '94,896'}, {'rank': '16', 'name': '토이 스토리 4', 'date': '2019-06-20', 'sale': '28,758,452,040', 'audience': '3,400,034', 'screen': '1,336', 'screen_number': '85,875'}, {'rank': '17', 'name': '돈', 'date': '2019-03-20', 'sale': '28,870,234,062', 'audience': '3,389,123', 'screen': '1,431', 'screen_number': '120,808'}, {'rank': '18', 'name': '악인전', 'date': '2019-05-15', 'sale': '29,133,760,150', 'audience': '3,364,712', 'screen': '1,307', 'screen_number': '97,351'}, {'rank': '19', 'name': '가장 보통의 연애', 'date': '2019-10-02', 'sale': '24,885,803,430', 'audience': '2,924,563', 'screen': '1,073', 'screen_number': '111,527'}, {'rank': '20', 'name': '말모이', 'date': '2019-01-09', 'sale': '23,685,091,520', 'audience': '2,812,877', 'screen': '1,203', 'screen_number': '87,591'}, {'rank': '21', 'name': '증인', 'date': '2019-02-13', 'sale': '20,482,789,331', 'audience': '2,534,748', 'screen': '1,047', 'screen_number': '89,564'}, {'rank': '22', 'name': '시동', 'date': '2019-12-18', 'sale': '21,236,477,800', 'audience': '2,525,986', 'screen': '1,515', 'screen_number': '58,603'}, {'rank': '23', 'name': '블랙머니', 'date': '2019-11-13', 'sale': '20,863,134,010', 'audience': '2,478,964', 'screen': '1,141', 'screen_number': '77,469'}, {'rank': '24', 'name': '터미네이터: 다크 페이트', 'date': '2019-10-30', 'sale': '20,153,895,830', 'audience': '2,409,062', 'screen': '1,315', 'screen_number': '81,336'}, {'rank': '25', 'name': '사바하', 'date': '2019-02-20', 'sale': '20,007,508,194', 'audience': '2,398,519', 'screen': '1,174', 'screen_number': '78,096'}, {'rank': '26', 'name': '타짜: 원 아이드 잭', 'date': '2019-09-11', 'sale': '19,687,029,214', 'audience': '2,229,239', 'screen': '1,429', 'screen_number': '66,479'}, {'rank': '27', 'name': '신의 한 수: 귀수편', 'date': '2019-11-07', 'sale': '18,463,776,050', 'audience': '2,157,437', 'screen': '1,246', 'screen_number': '82,178'}, {'rank': '28', 'name': '알리타: 배틀 엔젤', 'date': '2019-02-05', 'sale': '18,571,455,667', 'audience': '1,952,063', 'screen': '1,043', 'screen_number': '52,666'}, {'rank': '29', 'name': '내안의 그놈', 'date': '2019-01-09', 'sale': '16,302,228,567', 'audience': '1,902,828', 'screen': '1,041', 'screen_number': '61,683'}, {'rank': '30', 'name': '뺑반', 'date': '2019-01-30', 'sale': '15,224,305,848', 'audience': '1,826,912', 'screen': '1,285', 'screen_number': '47,215'}, {'rank': '31', 'name': '변신', 'date': '2019-08-21', 'sale': '15,417,922,925', 'audience': '1,804,112', 'screen': '975', 'screen_number': '63,211'}, {'rank': '32', 'name': '주먹왕 랄프 2: 인터넷 속으로', 'date': '2019-01-03', 'sale': '13,877,029,723', 'audience': '1,754,375', 'screen': '1,453', 'screen_number': '56,412'}, {'rank': '33', 'name': '걸캅스', 'date': '2019-05-09', 'sale': '13,812,802,134', 'audience': '1,629,528', 'screen': '973', 'screen_number': '63,163'}, {'rank': '34', 'name': '사자', 'date': '2019-07-31', 'sale': '12,931,566,145', 'audience': '1,611,163', 'screen': '1,405', 'screen_number': '47,683'}, {'rank': '35', 'name': '아쿠아맨', 'date': '2018-12-19', 'sale': '13,659,344,323', 'audience': '1,546,297', 'screen': '1,158', 'screen_number': '50,500'}, {'rank': '36', 'name': '드래곤 길들이기 3', 'date': '2019-01-30', 'sale': '12,346,432,876', 'audience': '1,507,922', 'screen': '971', 'screen_number': '42,407'}, {'rank': '37', 'name': '나의 특별한 형제', 'date': '2019-05-01', 'sale': '12,081,618,074', 'audience': '1,478,156', 'screen': '936', 'screen_number': '49,927'}, {'rank': '38', 'name': '어스', 'date': '2019-03-27', 'sale': '12,586,771,104', 'audience': '1,475,087', 'screen': '1,132', 'screen_number': '58,522'}, {'rank': '39', 'name': '말레피센트 2', 'date': '2019-10-17', 'sale': '12,191,395,690', 'audience': '1,444,952', 'screen': '1,108', 'screen_number': '63,768'}, {'rank': '40', 'name': '유열의 음악앨범', 'date': '2019-08-28', 'sale': '10,233,455,040', 'audience': '1,245,532', 'screen': '1,078', 'screen_number': '59,626'}, {'rank': '41', 'name': '퍼펙트맨', 'date': '2019-10-02', 'sale': '10,311,352,770', 'audience': '1,240,022', 'screen': '894', 'screen_number': '50,055'}, {'rank': '42', 'name': '포드 V 페라리', 'date': '2019-12-04', 'sale': '10,612,013,680', 'audience': '1,208,407', 'screen': '986', 'screen_number': '40,175'}, {'rank': '43', 'name': '생일', 'date': '2019-04-03', 'sale': '9,884,349,740', 'audience': '1,197,463', 'screen': '878', 'screen_number': '71,788'}, {'rank': '44', 'name': '힘을 내요, 미스터 리', 'date': '2019-09-11', 'sale': '9,930,518,906', 'audience': '1,181,960', 'screen': '990', 'screen_number': '41,831'}, {'rank': '45', 'name': '항거:유관순 이야기', 'date': '2019-02-27', 'sale': '9,291,455,101', 'audience': '1,157,949', 'screen': '1,094', 'screen_number': '46,159'}, {'rank': '46', 'name': '장사리 : 잊혀진 영웅들', 'date': '2019-09-25', 'sale': '8,997,921,050', 'audience': '1,140,876', 'screen': '1,090', 'screen_number': '47,821'}, {'rank': '47', 'name': '마이펫의 이중생활 2', 'date': '2019-07-31', 'sale': '8,512,902,825', 'audience': '1,114,949', 'screen': '933', 'screen_number': '30,858'}, {'rank': '48', 'name': '롱 리브 더 킹: 목포 영웅', 'date': '2019-06-19', 'sale': '9,228,798,910', 'audience': '1,094,404', 'screen': '965', 'screen_number': '38,839'}, {'rank': '49', 'name': '쥬만지: 넥스트 레벨', 'date': '2019-12-11', 'sale': '8,774,663,410', 'audience': '1,054,963', 'screen': '1,195', 'screen_number': '42,083'}, {'rank': '50', 'name': '존 윅 3: 파라벨룸', 'date': '2019-06-26', 'sale': '8,205,015,858', 'audience': '1,004,365', 'screen': '849', 'screen_number': '29,819'}, {'rank': '1', 'name': '남산의 부장들', 'date': '2020-01-22', 'sale': '41,225,216,650', 'audience': '4,750,345', 'screen': '1,659', 'screen_number': '140,051'}, {'rank': '2', 'name': '다만 악에서 구하소서', 'date': '2020-08-05', 'sale': '38,602,260,990', 'audience': '4,357,803', 'screen': '1,998', 'screen_number': '193,842'}, {'rank': '3', 'name': '반도', 'date': '2020-07-15', 'sale': '33,072,531,280', 'audience': '3,812,250', 'screen': '2,575', 'screen_number': '199,048'}, {'rank': '4', 'name': '히트맨', 'date': '2020-01-22', 'sale': '20,614,278,000', 'audience': '2,406,232', 'screen': '1,122', 'screen_number': '87,782'}, {'rank': '5', 'name': '테넷', 'date': '2020-08-26', 'sale': '18,396,929,850', 'audience': '1,992,214', 'screen': '2,228', 'screen_number': '164,758'}, {'rank': '6', 'name': '백두산', 'date': '2019-12-19', 'sale': '16,921,016,530', 'audience': '1,962,407', 'screen': '1,241', 'screen_number': '74,413'}, {'rank': '7', 'name': '#살아있다', 'date': '2020-06-24', 'sale': '15,968,219,900', 'audience': '1,903,992', 'screen': '1,882', 'screen_number': '137,073'}, {'rank': '8', 'name': '강철비2: 정상회담', 'date': '2020-07-29', 'sale': '14,661,646,110', 'audience': '1,791,533', 'screen': '2,137', 'screen_number': '106,658'}, {'rank': '9', 'name': '담보', 'date': '2020-09-29', 'sale': '14,748,867,550', 'audience': '1,719,521', 'screen': '1,342', 'screen_number': '110,260'}, {'rank': '10', 'name': '닥터 두리틀', 'date': '2020-01-08', 'sale': '13,449,206,760', 'audience': '1,607,082', 'screen': '1,290', 'screen_number': '68,634'}, {'rank': '11', 'name': '삼진그룹 영어토익반', 'date': '2020-10-21', 'sale': '13,981,414,470', 'audience': '1,571,286', 'screen': '1,615', 'screen_number': '139,275'}, {'rank': '12', 'name': '정직한 후보', 'date': '2020-02-12', 'sale': '12,854,297,030', 'audience': '1,538,038', 'screen': '1,187', 'screen_number': '89,425'}, {'rank': '13', 'name': '도굴', 'date': '2020-11-04', 'sale': '13,764,680,410', 'audience': '1,523,514', 'screen': '1,635', 'screen_number': '133,284'}, {'rank': '14', 'name': '클로젯', 'date': '2020-02-05', 'sale': '10,971,962,280', 'audience': '1,270,835', 'screen': '1,197', 'screen_number': '71,453'}, {'rank': '15', 'name': '오케이 마담', 'date': '2020-08-12', 'sale': '10,981,600,110', 'audience': '1,228,968', 'screen': '1,288', 'screen_number': '82,969'}, {'rank': '16', 'name': '해치지않아', 'date': '2020-01-15', 'sale': '10,154,099,090', 'audience': '1,209,689', 'screen': '1,216', 'screen_number': '53,441'}, {'rank': '17', 'name': '천문: 하늘에 묻는다', 'date': '2019-12-26', 'sale': '8,695,248,070', 'audience': '1,035,024', 'screen': '929', 'screen_number': '43,246'}, {'rank': '18', 'name': '결백', 'date': '2020-06-10', 'sale': '7,859,629,340', 'audience': '894,025', 'screen': '1,112', 'screen_number': '74,532'}, {'rank': '19', 'name': '1917', 'date': '2020-02-19', 'sale': '7,924,722,960', 'audience': '877,017', 'screen': '932', 'screen_number': '91,511'}, {'rank': '20', 'name': '작은 아씨들', 'date': '2020-02-12', 'sale': '7,283,877,330', 'audience': '864,782', 'screen': '1,105', 'screen_number': '59,781'}, {'rank': '21', 'name': '미드웨이', 'date': '2019-12-31', 'sale': '7,143,163,010', 'audience': '824,836', 'screen': '842', 'screen_number': '32,902'}, {'rank': '22', 'name': '시동', 'date': '2019-12-18', 'sale': '6,876,716,560', 'audience': '792,493', 'screen': '825', 'screen_number': '34,835'}, {'rank': '23', 'name': '지푸라기라도 잡고 싶은 짐승들', 'date': '2020-02-19', 'sale': '5,457,014,750', 'audience': '628,977', 'screen': '996', 'screen_number': '65,645'}, {'rank': '24', 'name': '미스터 주: 사라진 VIP', 'date': '2020-01-22', 'sale': '5,071,671,660', 'audience': '603,203', 'screen': '692', 'screen_number': '28,187'}, {'rank': '25', 'name': '인비저블맨', 'date': '2020-02-26', 'sale': '5,015,895,060', 'audience': '575,043', 'screen': '776', 'screen_number': '63,076'}, {'rank': '26', 'name': '나쁜 녀석들: 포에버', 'date': '2020-01-15', 'sale': '4,880,576,760', 'audience': '547,775', 'screen': '896', 'screen_number': '29,888'}, {'rank': '27', 'name': '국제수사', 'date': '2020-09-29', 'sale': '4,496,603,760', 'audience': '537,470', 'screen': '1,074', 'screen_number': '41,108'}, {'rank': '28', 'name': '침입자', 'date': '2020-06-04', 'sale': '4,810,611,000', 'audience': '532,045', 'screen': '1,365', 'screen_number': '53,636'}, {'rank': '29', 'name': '스타워즈: 라이즈 오브 스카이워커', 'date': '2020-01-08', 'sale': '4,704,790,210', 'audience': '507,265', 'screen': '957', 'screen_number': '28,695'}, {'rank': '30', 'name': '스파이 지니어스', 'date': '2020-01-22', 'sale': '3,699,691,180', 'audience': '450,932', 'screen': '712', 'screen_number': '22,244'}, {'rank': '31', 'name': '이웃사촌', 'date': '2020-11-25', 'sale': '3,647,897,960', 'audience': '424,764', 'screen': '1,363', 'screen_number': '65,450'}, {'rank': '32', 'name': '온워드: 단 하루의 기적', 'date': '2020-06-17', 'sale': '3,590,809,620', 'audience': '418,084', 'screen': '1,138', 'screen_number': '45,697'}, {'rank': '33', 'name': '소리도 없이', 'date': '2020-10-15', 'sale': '3,558,905,900', 'audience': '403,424', 'screen': '1,084', 'screen_number': '41,127'}, {'rank': '34', 'name': '버즈 오브 프레이(할리 퀸의 황홀한 해방)', 'date': '2020-02-05', 'sale': '3,558,359,190', 'audience': '402,035', 'screen': '963', 'screen_number': '38,319'}, {'rank': '35', 'name': '원더 우먼 1984', 'date': '2020-12-23', 'sale': '3,490,431,460', 'audience': '390,986', 'screen': '2,260', 'screen_number': '45,347'}, {'rank': '36', 'name': '겨울왕국 2', 'date': '2019-11-21', 'sale': '3,214,172,730', 'audience': '378,728', 'screen': '665', 'screen_number': '16,777'}, {'rank': '37', 'name': '오! 문희', 'date': '2020-09-02', 'sale': '2,802,734,600', 'audience': '351,730', 'screen': '1,110', 'screen_number': '52,239'}, {'rank': '38', 'name': '그린랜드', 'date': '2020-09-29', 'sale': '2,777,724,520', 'audience': '325,869', 'screen': '779', 'screen_number': '26,421'}, {'rank': '39', 'name': '위대한 쇼맨', 'date': '2017-12-20', 'sale': '1,897,251,570', 'audience': '306,419', 'screen': '598', 'screen_number': '31,915'}, {'rank': '40', 'name': '런', 'date': '2020-11-20', 'sale': '2,560,440,600', 'audience': '278,818', 'screen': '799', 'screen_number': '38,955'}, {'rank': '41', 'name': '뮬란', 'date': '2020-09-17', 'sale': '2,079,737,620', 'audience': '236,247', 'screen': '1,420', 'screen_number': '38,703'}, {'rank': '42', 'name': '내가 죽던 날', 'date': '2020-11-12', 'sale': '2,135,396,020', 'audience': '233,112', 'screen': '909', 'screen_number': '29,390'}, {'rank': '43', 'name': '기생충', 'date': '2019-05-30', 'sale': '1,576,539,450', 'audience': '227,870', 'screen': '456', 'screen_number': '13,536'}, {'rank': '44', 'name': '신비아파트 극장판 하늘도깨비 대 요르문간드', 'date': '2019-12-19', 'sale': '1,757,416,340', 'audience': '222,234', 'screen': '539', 'screen_number': '8,629'}, {'rank': '45', 'name': '프리즌 이스케이프', 'date': '2020-05-06', 'sale': '1,848,297,600', 'audience': '217,056', 'screen': '547', 'screen_number': '29,305'}, {'rank': '46', 'name': '검객', 'date': '2020-09-23', 'sale': '1,619,781,870', 'audience': '190,237', 'screen': '832', 'screen_number': '21,595'}, {'rank': '47', 'name': '조제', 'date': '2020-12-10', 'sale': '1,673,427,570', 'audience': '186,647', 'screen': '1,179', 'screen_number': '38,291'}, {'rank': '48', 'name': '사라진 시간', 'date': '2020-06-18', 'sale': '1,652,522,580', 'audience': '185,802', 'screen': '874', 'screen_number': '20,790'}, {'rank': '49', 'name': '밤쉘: 세상을 바꾼 폭탄선언', 'date': '2020-07-08', 'sale': '1,544,025,340', 'audience': '182,026', 'screen': '882', 'screen_number': '27,363'}, {'rank': '50', 'name': '알라딘', 'date': '2019-05-23', 'sale': '1,205,410,680', 'audience': '171,494', 'screen': '549', 'screen_number': '15,752'}, {'rank': '1', 'name': '스파이더맨: 노 웨이 홈', 'date': '2021-12-15', 'sale': '55,697,413,760', 'audience': '5,560,940', 'screen': '2,948', 'screen_number': '144,754'}, {'rank': '2', 'name': '모가디슈', 'date': '2021-07-28', 'sale': '34,558,297,730', 'audience': '3,613,984', 'screen': '1,688', 'screen_number': '210,740'}, {'rank': '3', 'name': '이터널스', 'date': '2021-11-03', 'sale': '31,729,284,450', 'audience': '3,050,132', 'screen': '2,648', 'screen_number': '162,435'}, {'rank': '4', 'name': '블랙 위도우', 'date': '2021-07-07', 'sale': '29,996,075,620', 'audience': '2,962,088', 'screen': '2,528', 'screen_number': '155,016'}, {'rank': '5', 'name': '분노의 질주: 더 얼티메이트', 'date': '2021-05-19', 'sale': '22,059,658,060', 'audience': '2,292,415', 'screen': '2,297', 'screen_number': '131,856'}, {'rank': '6', 'name': '싱크홀', 'date': '2021-08-11', 'sale': '21,395,652,690', 'audience': '2,195,683', 'screen': '1,603', 'screen_number': '121,841'}, {'rank': '7', 'name': '극장판 귀멸의 칼날: 무한열차편', 'date': '2021-01-27', 'sale': '20,656,041,700', 'audience': '2,151,861', 'screen': '900', 'screen_number': '151,898'}, {'rank': '8', 'name': '베놈 2: 렛 데어 비 카니지', 'date': '2021-10-13', 'sale': '21,115,762,990', 'audience': '2,123,573', 'screen': '1,998', 'screen_number': '151,687'}, {'rank': '9', 'name': '소울', 'date': '2021-01-20', 'sale': '19,034,915,180', 'audience': '2,048,228', 'screen': '2,018', 'screen_number': '160,728'}, {'rank': '10', 'name': '크루엘라', 'date': '2021-05-26', 'sale': '19,252,879,640', 'audience': '1,983,397', 'screen': '1,186', 'screen_number': '122,643'}, {'rank': '11', 'name': '샹치와 텐 링즈의 전설', 'date': '2021-09-01', 'sale': '17,715,109,720', 'audience': '1,740,868', 'screen': '1,784', 'screen_number': '117,475'}, {'rank': '12', 'name': '인질', 'date': '2021-08-18', 'sale': '15,585,244,870', 'audience': '1,638,439', 'screen': '1,294', 'screen_number': '110,424'}, {'rank': '13', 'name': '듄', 'date': '2021-10-20', 'sale': '16,903,293,110', 'audience': '1,549,346', 'screen': '1,576', 'screen_number': '103,745'}, {'rank': '14', 'name': '보이스', 'date': '2021-09-15', 'sale': '14,025,546,720', 'audience': '1,426,357', 'screen': '1,296', 'screen_number': '118,227'}, {'rank': '15', 'name': '007 노 타임 투 다이', 'date': '2021-09-29', 'sale': '12,009,884,680', 'audience': '1,229,971', 'screen': '2,201', 'screen_number': '98,167'}, {'rank': '16', 'name': '미나리', 'date': '2021-03-03', 'sale': '10,211,664,650', 'audience': '1,134,177', 'screen': '1,162', 'screen_number': '112,903'}, {'rank': '17', 'name': '발신제한', 'date': '2021-06-23', 'sale': '9,102,830,540', 'audience': '955,808', 'screen': '1,010', 'screen_number': '71,157'}, {'rank': '18', 'name': '보스 베이비 2', 'date': '2021-07-21', 'sale': '8,292,685,050', 'audience': '925,238', 'screen': '1,343', 'screen_number': '58,566'}, {'rank': '19', 'name': '콰이어트 플레이스 2', 'date': '2021-06-16', 'sale': '8,550,116,360', 'audience': '863,339', 'screen': '1,137', 'screen_number': '62,891'}, {'rank': '20', 'name': '랑종', 'date': '2021-07-14', 'sale': '8,639,576,030', 'audience': '834,338', 'screen': '1,403', 'screen_number': '51,793'}, {'rank': '21', 'name': '유체이탈자', 'date': '2021-11-24', 'sale': '7,899,580,790', 'audience': '811,169', 'screen': '1,216', 'screen_number': '83,847'}, {'rank': '22', 'name': '컨저링3: 악마가 시켰다', 'date': '2021-06-03', 'sale': '8,026,047,360', 'audience': '799,457', 'screen': '1,133', 'screen_number': '51,745'}, {'rank': '23', 'name': '기적', 'date': '2021-09-15', 'sale': '6,634,949,710', 'audience': '715,877', 'screen': '1,198', 'screen_number': '78,592'}, {'rank': '24', 'name': '고질라 VS. 콩', 'date': '2021-03-25', 'sale': '6,772,634,130', 'audience': '703,485', 'screen': '1,295', 'screen_number': '62,374'}, {'rank': '25', 'name': '킹스맨: 퍼스트 에이전트', 'date': '2021-12-22', 'sale': '6,154,017,260', 'audience': '622,461', 'screen': '1,061', 'screen_number': '26,294'}, {'rank': '26', 'name': '엔칸토: 마법의 세계', 'date': '2021-11-24', 'sale': '5,882,752,180', 'audience': '620,095', 'screen': '1,102', 'screen_number': '52,164'}, {'rank': '27', 'name': '연애 빠진 로맨스', 'date': '2021-11-24', 'sale': '6,120,461,000', 'audience': '603,015', 'screen': '967', 'screen_number': '66,729'}, {'rank': '28', 'name': '장르만 로맨스', 'date': '2021-11-17', 'sale': '5,192,955,940', 'audience': '518,441', 'screen': '1,194', 'screen_number': '49,322'}, {'rank': '29', 'name': '미션 파서블', 'date': '2021-02-17', 'sale': '4,064,666,600', 'audience': '447,111', 'screen': '930', 'screen_number': '45,091'}, {'rank': '30', 'name': '더 수어사이드 스쿼드', 'date': '2021-08-04', 'sale': '4,403,922,930', 'audience': '419,796', 'screen': '1,066', 'screen_number': '29,298'}, {'rank': '31', 'name': '비와 당신의 이야기', 'date': '2021-04-28', 'sale': '3,646,657,350', 'audience': '400,958', 'screen': '957', 'screen_number': '44,038'}, {'rank': '32', 'name': '서복', 'date': '2021-04-15', 'sale': '3,628,177,450', 'audience': '385,409', 'screen': '1,382', 'screen_number': '49,517'}, {'rank': '33', 'name': '킬러의 보디가드 2', 'date': '2021-06-23', 'sale': '3,769,396,180', 'audience': '384,997', 'screen': '975', 'screen_number': '36,205'}, {'rank': '34', 'name': '루카', 'date': '2021-06-17', 'sale': '3,393,832,110', 'audience': '371,572', 'screen': '856', 'screen_number': '28,520'}, {'rank': '35', 'name': '자산어보', 'date': '2021-03-31', 'sale': '3,016,006,790', 'audience': '342,538', 'screen': '1,250', 'screen_number': '50,695'}, {'rank': '36', 'name': '내일의 기억', 'date': '2021-04-21', 'sale': '3,036,236,660', 'audience': '335,025', 'screen': '957', 'screen_number': '41,477'}, {'rank': '37', 'name': '라야와 마지막 드래곤', 'date': '2021-03-04', 'sale': '2,978,557,390', 'audience': '322,833', 'screen': '1,056', 'screen_number': '33,869'}, {'rank': '38', 'name': '프리 가이', 'date': '2021-08-11', 'sale': '3,135,627,670', 'audience': '313,728', 'screen': '750', 'screen_number': '23,641'}, {'rank': '39', 'name': '더 스파이', 'date': '2021-04-28', 'sale': '2,866,544,830', 'audience': '313,022', 'screen': '710', 'screen_number': '32,887'}, {'rank': '40', 'name': '강릉', 'date': '2021-11-10', 'sale': '3,172,047,770', 'audience': '306,422', 'screen': '761', 'screen_number': '28,494'}, {'rank': '41', 'name': '정글 크루즈', 'date': '2021-07-28', 'sale': '2,307,504,720', 'audience': '251,071', 'screen': '831', 'screen_number': '20,933'}, {'rank': '42', 'name': '명탐정 코난: 비색의 탄환', 'date': '2021-04-16', 'sale': '2,196,867,840', 'audience': '232,871', 'screen': '844', 'screen_number': '25,780'}, {'rank': '43', 'name': '캐시트럭', 'date': '2021-06-09', 'sale': '2,182,507,790', 'audience': '231,992', 'screen': '938', 'screen_number': '27,954'}, {'rank': '44', 'name': '크루즈 패밀리: 뉴 에이지', 'date': '2021-05-05', 'sale': '2,022,787,700', 'audience': '230,017', 'screen': '1,082', 'screen_number': '21,365'}, {'rank': '45', 'name': '이스케이프 룸 2: 노 웨이 아웃', 'date': '2021-07-14', 'sale': '2,219,351,090', 'audience': '223,313', 'screen': '728', 'screen_number': '19,842'}, {'rank': '46', 'name': '극장판 포켓몬스터: 정글의 아이, 코코', 'date': '2021-09-15', 'sale': '1,941,940,320', 'audience': '213,913', 'screen': '699', 'screen_number': '14,044'}, {'rank': '47', 'name': '극장판 짱구는 못말려: 격돌! 낙서왕국과 얼추 네 명의 용사들', 'date': '2021-09-15', 'sale': '1,896,872,490', 'audience': '199,726', 'screen': '593', 'screen_number': '13,880'}, {'rank': '48', 'name': '매트릭스: 리저렉션', 'date': '2021-12-22', 'sale': '1,923,032,630', 'audience': '191,280', 'screen': '970', 'screen_number': '15,414'}, {'rank': '49', 'name': '방법: 재차의', 'date': '2021-07-28', 'sale': '1,556,061,010', 'audience': '175,578', 'screen': '838', 'screen_number': '19,136'}, {'rank': '50', 'name': '새해전야', 'date': '2021-02-10', 'sale': '1,571,840,850', 'audience': '171,451', 'screen': '906', 'screen_number': '21,525'}, {'rank': '1', 'name': '범죄도시2', 'date': '2022-05-18', 'sale': '131,297,440,478', 'audience': '12,693,302', 'screen': '2,521', 'screen_number': '355,767'}, {'rank': '2', 'name': '탑건: 매버릭', 'date': '2022-06-22', 'sale': '87,855,360,975', 'audience': '8,177,446', 'screen': '1,975', 'screen_number': '249,415'}, {'rank': '3', 'name': '아바타: 물의 길', 'date': '2022-12-14', 'sale': '90,296,839,202', 'audience': '7,313,149', 'screen': '2,809', 'screen_number': '152,626'}, {'rank': '4', 'name': '한산: 용의 출현', 'date': '2022-07-27', 'sale': '73,700,628,377', 'audience': '7,264,934', 'screen': '2,223', 'screen_number': '217,713'}, {'rank': '5', 'name': '공조2: 인터내셔날', 'date': '2022-09-07', 'sale': '70,916,352,586', 'audience': '6,982,840', 'screen': '2,389', 'screen_number': '275,814'}, {'rank': '6', 'name': '닥터 스트레인지: 대혼돈의 멀티버스', 'date': '2022-05-04', 'sale': '62,648,728,870', 'audience': '5,884,587', 'screen': '2,691', 'screen_number': '211,097'}, {'rank': '7', 'name': '헌트', 'date': '2022-08-10', 'sale': '44,600,858,153', 'audience': '4,352,390', 'screen': '1,625', 'screen_number': '170,963'}, {'rank': '8', 'name': '올빼미', 'date': '2022-11-23', 'sale': '31,769,067,550', 'audience': '3,222,767', 'screen': '1,541', 'screen_number': '142,130'}, {'rank': '9', 'name': '쥬라기 월드: 도미니언', 'date': '2022-06-01', 'sale': '29,237,071,310', 'audience': '2,837,410', 'screen': '2,218', 'screen_number': '86,427'}, {'rank': '10', 'name': '마녀(魔女) Part2. The Other One', 'date': '2022-06-15', 'sale': '28,922,488,670', 'audience': '2,806,501', 'screen': '1,796', 'screen_number': '94,940'}, {'rank': '11', 'name': '토르: 러브 앤 썬더', 'date': '2022-07-06', 'sale': '29,505,081,721', 'audience': '2,716,306', 'screen': '2,143', 'screen_number': '107,527'}, {'rank': '12', 'name': '미니언즈2', 'date': '2022-07-20', 'sale': '21,999,556,172', 'audience': '2,269,024', 'screen': '1,394', 'screen_number': '78,960'}, {'rank': '13', 'name': '블랙 팬서: 와칸다 포에버', 'date': '2022-11-09', 'sale': '22,203,069,405', 'audience': '2,105,641', 'screen': '2,571', 'screen_number': '121,601'}, {'rank': '14', 'name': '비상선언', 'date': '2022-08-03', 'sale': '20,927,363,328', 'audience': '2,058,869', 'screen': '1,734', 'screen_number': '73,045'}, {'rank': '15', 'name': '스파이더맨: 노 웨이 홈', 'date': '2021-12-15', 'sale': '19,496,498,450', 'audience': '1,991,050', 'screen': '2,162', 'screen_number': '131,941'}, {'rank': '16', 'name': '육사오(6/45)', 'date': '2022-08-24', 'sale': '19,791,166,880', 'audience': '1,980,769', 'screen': '1,339', 'screen_number': '105,933'}, {'rank': '17', 'name': '헤어질 결심', 'date': '2022-06-29', 'sale': '19,642,291,589', 'audience': '1,893,954', 'screen': '1,374', 'screen_number': '79,620'}, {'rank': '18', 'name': '외계+인 1부', 'date': '2022-07-20', 'sale': '15,995,553,548', 'audience': '1,539,362', 'screen': '1,959', 'screen_number': '68,414'}, {'rank': '19', 'name': '영웅', 'date': '2022-12-21', 'sale': '14,534,225,323', 'audience': '1,487,679', 'screen': '1,314', 'screen_number': '45,482'}, {'rank': '20', 'name': '해적: 도깨비 깃발', 'date': '2022-01-26', 'sale': '12,523,963,990', 'audience': '1,339,242', 'screen': '1,708', 'screen_number': '117,320'}, {'rank': '21', 'name': '브로커', 'date': '2022-06-08', 'sale': '12,586,786,030', 'audience': '1,261,131', 'screen': '1,594', 'screen_number': '66,203'}, {'rank': '22', 'name': '신비한 동물들과 덤블도어의 비밀', 'date': '2022-04-13', 'sale': '12,305,198,580', 'audience': '1,195,441', 'screen': '2,207', 'screen_number': '106,090'}, {'rank': '23', 'name': '인생은 아름다워', 'date': '2022-09-28', 'sale': '10,898,038,019', 'audience': '1,171,602', 'screen': '1,285', 'screen_number': '106,970'}, {'rank': '24', 'name': '더 배트맨', 'date': '2022-03-01', 'sale': '9,339,130,700', 'audience': '904,238', 'screen': '2,370', 'screen_number': '97,370'}, {'rank': '25', 'name': '데시벨', 'date': '2022-11-16', 'sale': '8,846,169,146', 'audience': '900,654', 'screen': '1,152', 'screen_number': '55,336'}, {'rank': '26', 'name': '정직한 후보2', 'date': '2022-09-28', 'sale': '8,446,139,162', 'audience': '899,684', 'screen': '1,318', 'screen_number': '77,220'}, {'rank': '27', 'name': '씽2게더', 'date': '2022-01-05', 'sale': '8,193,478,050', 'audience': '885,067', 'screen': '1,251', 'screen_number': '72,580'}, {'rank': '28', 'name': '극장판 짱구는 못말려: 수수께끼! 꽃피는 천하떡잎학교', 'date': '2022-09-28', 'sale': '8,363,867,924', 'audience': '836,665', 'screen': '873', 'screen_number': '41,965'}, {'rank': '29', 'name': '블랙 아담', 'date': '2022-10-19', 'sale': '8,040,723,608', 'audience': '779,485', 'screen': '1,524', 'screen_number': '77,116'}, {'rank': '30', 'name': '킹메이커', 'date': '2022-01-26', 'sale': '7,318,959,610', 'audience': '775,968', 'screen': '1,185', 'screen_number': '80,072'}, {'rank': '31', 'name': '자백', 'date': '2022-10-26', 'sale': '7,352,559,230', 'audience': '738,120', 'screen': '1,115', 'screen_number': '78,568'}, {'rank': '32', 'name': '언차티드', 'date': '2022-02-16', 'sale': '7,116,304,100', 'audience': '730,924', 'screen': '1,536', 'screen_number': '77,036'}, {'rank': '33', 'name': '경관의 피', 'date': '2022-01-05', 'sale': '6,687,389,520', 'audience': '679,503', 'screen': '1,187', 'screen_number': '57,409'}, {'rank': '34', 'name': '오늘 밤, 세계에서 이 사랑이 사라진다 해도', 'date': '2022-11-30', 'sale': '6,750,156,802', 'audience': '662,397', 'screen': '439', 'screen_number': '20,340'}, {'rank': '35', 'name': '극장판 주술회전 0', 'date': '2022-02-17', 'sale': '6,602,758,252', 'audience': '662,099', 'screen': '843', 'screen_number': '66,699'}, {'rank': '36', 'name': '압꾸정', 'date': '2022-11-30', 'sale': '5,722,751,661', 'audience': '608,197', 'screen': '1,229', 'screen_number': '47,408'}, {'rank': '37', 'name': '극장판 포켓몬스터DP: 기라티나와 하늘의 꽃다발 쉐이미', 'date': '2022-06-01', 'sale': '5,477,045,710', 'audience': '581,216', 'screen': '809', 'screen_number': '14,101'}, {'rank': '38', 'name': '이상한 나라의 수학자', 'date': '2022-03-09', 'sale': '5,045,184,520', 'audience': '534,287', 'screen': '1,357', 'screen_number': '72,424'}, {'rank': '39', 'name': '명탐정 코난: 할로윈의 신부', 'date': '2022-07-13', 'sale': '5,119,750,724', 'audience': '490,868', 'screen': '758', 'screen_number': '19,422'}, {'rank': '40', 'name': '동감', 'date': '2022-11-16', 'sale': '4,755,257,700', 'audience': '490,145', 'screen': '1,013', 'screen_number': '37,451'}, {'rank': '41', 'name': '모비우스', 'date': '2022-03-30', 'sale': '4,669,517,390', 'audience': '475,928', 'screen': '1,696', 'screen_number': '71,160'}, {'rank': '42', 'name': '늑대사냥', 'date': '2022-09-21', 'sale': '4,769,650,393', 'audience': '458,720', 'screen': '1,226', 'screen_number': '39,242'}, {'rank': '43', 'name': '뽀로로 극장판 드래곤캐슬 대모험', 'date': '2022-07-28', 'sale': '4,192,060,075', 'audience': '447,710', 'screen': '748', 'screen_number': '17,846'}, {'rank': '44', 'name': '특송', 'date': '2022-01-12', 'sale': '4,172,193,200', 'audience': '443,177', 'screen': '996', 'screen_number': '48,006'}, {'rank': '45', 'name': '니 부모 얼굴이 보고 싶다', 'date': '2022-04-27', 'sale': '3,949,569,280', 'audience': '416,523', 'screen': '1,008', 'screen_number': '39,190'}, {'rank': '46', 'name': '놉', 'date': '2022-08-17', 'sale': '4,709,541,135', 'audience': '415,969', 'screen': '1,031', 'screen_number': '31,744'}, {'rank': '47', 'name': '리멤버', 'date': '2022-10-26', 'sale': '3,969,817,717', 'audience': '412,778', 'screen': '1,189', 'screen_number': '51,985'}, {'rank': '48', 'name': '킹스맨: 퍼스트 에이전트', 'date': '2021-12-22', 'sale': '4,159,334,510', 'audience': '406,904', 'screen': '913', 'screen_number': '27,268'}, {'rank': '49', 'name': '배드 가이즈', 'date': '2022-05-04', 'sale': '3,781,458,170', 'audience': '400,329', 'screen': '844', 'screen_number': '22,867'}, {'rank': '50', 'name': '뜨거운 피', 'date': '2022-03-23', 'sale': '3,782,750,970', 'audience': '398,090', 'screen': '1,279', 'screen_number': '53,956'}, {'rank': '1', 'name': '서울의 봄', 'date': '2023-11-22', 'sale': '115,350,491,410', 'audience': '11,854,779', 'screen': '2,463', 'screen_number': '292,299'}, {'rank': '2', 'name': '범죄도시3', 'date': '2023-05-31', 'sale': '104,687,737,771', 'audience': '10,682,813', 'screen': '2,582', 'screen_number': '311,915'}, {'rank': '3', 'name': '엘리멘탈', 'date': '2023-06-14', 'sale': '71,120,500,040', 'audience': '7,238,453', 'screen': '1,664', 'screen_number': '247,169'}, {'rank': '4', 'name': '스즈메의 문단속', 'date': '2023-03-08', 'sale': '57,106,531,498', 'audience': '5,574,358', 'screen': '1,572', 'screen_number': '244,575'}, {'rank': '5', 'name': '밀수', 'date': '2023-07-26', 'sale': '49,685,009,003', 'audience': '5,143,219', 'screen': '1,932', 'screen_number': '167,669'}, {'rank': '6', 'name': '더 퍼스트 슬램덩크', 'date': '2023-01-04', 'sale': '50,057,140,100', 'audience': '4,786,406', 'screen': '1,060', 'screen_number': '231,062'}, {'rank': '7', 'name': '가디언즈 오브 갤럭시: Volume 3', 'date': '2023-05-03', 'sale': '44,357,156,661', 'audience': '4,209,118', 'screen': '1,819', 'screen_number': '153,711'}, {'rank': '8', 'name': '미션 임파서블: 데드 레코닝 PART ONE', 'date': '2023-07-12', 'sale': '40,428,788,113', 'audience': '4,022,072', 'screen': '2,437', 'screen_number': '137,933'}, {'rank': '9', 'name': '콘크리트 유토피아', 'date': '2023-08-09', 'sale': '37,412,802,232', 'audience': '3,849,242', 'screen': '1,731', 'screen_number': '150,918'}, {'rank': '10', 'name': '아바타: 물의 길', 'date': '2022-12-14', 'sale': '47,350,889,697', 'audience': '3,491,920', 'screen': '2,047', 'screen_number': '130,410'}, {'rank': '11', 'name': '노량: 죽음의 바다', 'date': '2023-12-20', 'sale': '34,032,608,940', 'audience': '3,438,133', 'screen': '2,196', 'screen_number': '81,643'}, {'rank': '12', 'name': '오펜하이머', 'date': '2023-08-15', 'sale': '34,375,467,901', 'audience': '3,232,774', 'screen': '1,636', 'screen_number': '131,798'}, {'rank': '13', 'name': '슈퍼 마리오 브라더스', 'date': '2023-04-26', 'sale': '23,558,835,482', 'audience': '2,395,519', 'screen': '1,576', 'screen_number': '94,685'}, {'rank': '14', 'name': '30일', 'date': '2023-10-03', 'sale': '21,256,881,514', 'audience': '2,165,358', 'screen': '1,226', 'screen_number': '130,509'}, {'rank': '15', 'name': '그대들은 어떻게 살 것인가', 'date': '2023-10-25', 'sale': '19,540,266,642', 'audience': '2,009,398', 'screen': '1,733', 'screen_number': '119,191'}, {'rank': '16', 'name': '존 윅 4', 'date': '2023-04-12', 'sale': '19,956,652,129', 'audience': '1,924,768', 'screen': '1,535', 'screen_number': '89,561'}, {'rank': '17', 'name': '천박사 퇴마 연구소: 설경의 비밀', 'date': '2023-09-27', 'sale': '18,635,492,555', 'audience': '1,916,429', 'screen': '1,511', 'screen_number': '98,823'}, {'rank': '18', 'name': '영웅', 'date': '2022-12-21', 'sale': '17,768,606,427', 'audience': '1,787,536', 'screen': '1,099', 'screen_number': '88,177'}, {'rank': '19', 'name': '분노의 질주: 라이드 오어 다이', 'date': '2023-05-17', 'sale': '18,474,198,210', 'audience': '1,773,424', 'screen': '1,731', 'screen_number': '93,148'}, {'rank': '20', 'name': '교섭', 'date': '2023-01-18', 'sale': '17,460,908,740', 'audience': '1,721,100', 'screen': '1,289', 'screen_number': '92,618'}, {'rank': '21', 'name': '앤트맨과 와스프: 퀀텀매니아', 'date': '2023-02-15', 'sale': '16,346,738,806', 'audience': '1,551,129', 'screen': '2,090', 'screen_number': '104,768'}, {'rank': '22', 'name': '잠', 'date': '2023-09-06', 'sale': '13,894,258,933', 'audience': '1,470,359', 'screen': '1,231', 'screen_number': '103,697'}, {'rank': '23', 'name': '달짝지근해: 7510', 'date': '2023-08-15', 'sale': '13,445,519,901', 'audience': '1,388,309', 'screen': '1,032', 'screen_number': '86,601'}, {'rank': '24', 'name': '드림', 'date': '2023-04-26', 'sale': '10,821,044,597', 'audience': '1,128,375', 'screen': '1,285', 'screen_number': '61,736'}, {'rank': '25', 'name': '비공식작전', 'date': '2023-08-02', 'sale': '10,192,841,216', 'audience': '1,058,745', 'screen': '1,151', 'screen_number': '45,082'}, {'rank': '26', 'name': '1947 보스톤', 'date': '2023-09-27', 'sale': '9,464,132,798', 'audience': '1,026,878', 'screen': '1,282', 'screen_number': '63,548'}, {'rank': '27', 'name': '스파이더맨: 어크로스 더 유니버스', 'date': '2023-06-21', 'sale': '9,492,413,667', 'audience': '920,169', 'screen': '1,103', 'screen_number': '47,139'}, {'rank': '28', 'name': '인디아나 존스: 운명의 다이얼', 'date': '2023-06-28', 'sale': '8,504,251,466', 'audience': '860,470', 'screen': '1,268', 'screen_number': '46,174'}, {'rank': '29', 'name': '장화신은 고양이: 끝내주는 모험', 'date': '2023-01-04', 'sale': '7,872,245,363', 'audience': '831,209', 'screen': '924', 'screen_number': '43,468'}, {'rank': '30', 'name': '명탐정코난: 흑철의 어영', 'date': '2023-07-20', 'sale': '7,705,318,105', 'audience': '801,511', 'screen': '1,030', 'screen_number': '34,473'}, {'rank': '31', 'name': '트랜스포머: 비스트의 서막', 'date': '2023-06-06', 'sale': '7,786,907,316', 'audience': '769,993', 'screen': '1,123', 'screen_number': '45,195'}, {'rank': '32', 'name': '대외비', 'date': '2023-03-01', 'sale': '7,469,378,721', 'audience': '756,355', 'screen': '1,157', 'screen_number': '53,616'}, {'rank': '33', 'name': '극장판 짱구는 못말려: 동물소환 닌자 배꼽수비대', 'date': '2023-05-04', 'sale': '7,262,598,609', 'audience': '732,188', 'screen': '844', 'screen_number': '28,899'}, {'rank': '34', 'name': '아쿠아맨과 로스트 킹덤', 'date': '2023-12-20', 'sale': '7,459,599,772', 'audience': '722,986', 'screen': '965', 'screen_number': '25,387'}, {'rank': '35', 'name': '프레디의 피자가게', 'date': '2023-11-15', 'sale': '6,959,703,516', 'audience': '712,241', 'screen': '1,041', 'screen_number': '35,024'}, {'rank': '36', 'name': '리바운드', 'date': '2023-04-05', 'sale': '6,702,452,348', 'audience': '699,243', 'screen': '1,154', 'screen_number': '56,697'}, {'rank': '37', 'name': '더 마블스', 'date': '2023-11-08', 'sale': '6,841,156,465', 'audience': '690,814', 'screen': '1,532', 'screen_number': '66,818'}, {'rank': '38', 'name': '귀공자', 'date': '2023-06-21', 'sale': '6,704,211,465', 'audience': '682,856', 'screen': '966', 'screen_number': '44,887'}, {'rank': '39', 'name': '유령', 'date': '2023-01-18', 'sale': '6,760,765,879', 'audience': '664,146', 'screen': '1,099', 'screen_number': '46,961'}, {'rank': '40', 'name': '인어공주', 'date': '2023-05-24', 'sale': '6,668,613,190', 'audience': '647,706', 'screen': '1,364', 'screen_number': '37,592'}, {'rank': '41', 'name': '플래시', 'date': '2023-06-14', 'sale': '6,735,756,989', 'audience': '635,269', 'screen': '1,258', 'screen_number': '43,343'}, {'rank': '42', 'name': '바비', 'date': '2023-07-19', 'sale': '5,752,206,126', 'audience': '585,502', 'screen': '780', 'screen_number': '27,520'}, {'rank': '43', 'name': '신차원! 짱구는 못말려 더 무비 초능력 대결전 ~날아라 수제김밥~', 'date': '2023-12-22', 'sale': '5,506,327,689', 'audience': '568,269', 'screen': '883', 'screen_number': '15,379'}, {'rank': '44', 'name': '귀멸의 칼날: 상현집결, 그리고 도공 마을로', 'date': '2023-03-02', 'sale': '6,586,552,900', 'audience': '535,969', 'screen': '410', 'screen_number': '20,955'}, {'rank': '45', 'name': '더 문', 'date': '2023-08-02', 'sale': '5,207,712,778', 'audience': '516,556', 'screen': '1,187', 'screen_number': '30,181'}, {'rank': '46', 'name': '오늘 밤, 세계에서 이 사랑이 사라진다 해도', 'date': '2022-11-30', 'sale': '5,198,084,474', 'audience': '514,915', 'screen': '402', 'screen_number': '27,669'}, {'rank': '47', 'name': '3일의 휴가', 'date': '2023-12-06', 'sale': '4,835,070,689', 'audience': '514,541', 'screen': '863', 'screen_number': '31,547'}, {'rank': '48', 'name': '소년들', 'date': '2023-11-01', 'sale': '4,470,423,586', 'audience': '471,425', 'screen': '1,042', 'screen_number': '43,356'}, {'rank': '49', 'name': '타이타닉', 'date': '1998-02-20', 'sale': '6,528,961,730', 'audience': '454,336', 'screen': '447', 'screen_number': '14,296'}, {'rank': '50', 'name': '타겟', 'date': '2023-08-30', 'sale': '4,003,424,694', 'audience': '424,916', 'screen': '986', 'screen_number': '43,332'}]\n"
     ]
    }
   ],
   "source": [
    "import re \n",
    "from tqdm.notebook import tqdm\n",
    "\n",
    "movie_chart_data=[]\n",
    "\n",
    "for y_list in tqdm(year_list):\n",
    "    search_m = driver.find_element(By.ID, \"sSearchYearFrom\")\n",
    "    search_m.click()\n",
    "    search_m.send_keys(y_list)\n",
    "    driver.find_element(By.CLASS_NAME,\"btn_blue\").click()\n",
    "    driver.implicitly_wait(3)\n",
    "\n",
    "    result = driver.find_element(By.CLASS_NAME,\"tbl_comm.th_sort\")\n",
    "    table = result.find_element(By.TAG_NAME,\"tbody\")\n",
    "    rows = table.find_elements(By.TAG_NAME,\"tr\")\n",
    "\n",
    "\n",
    "    for row in rows:\n",
    "        movie = row.find_element(By.ID,\"td_movie\")\n",
    "        rnk = row.find_element(By.ID, \"td_rank\").text\n",
    "        name = row.find_element(By.CLASS_NAME, \"ellip.per90\").text\n",
    "        date = row.find_element(By.ID, \"td_openDt\").text\n",
    "        sale = row.find_element(By.ID,\"td_salesAcc\").text\n",
    "        audience = row.find_element(By.ID, \"td_audiAcc\").text\n",
    "        screen = row.find_element(By.ID, \"td_scrnCnt\").text\n",
    "        screen_number = row.find_element(By.ID, \"td_showCnt\").text\n",
    "        \n",
    "        movie_chart = {\n",
    "            \"rank\": rnk,\n",
    "            \"name\": name,\n",
    "            \"date\" : date,\n",
    "            \"sale\" : sale,\n",
    "            \"audience\" : audience,\n",
    "            \"screen\" : screen,\n",
    "            \"screen_number\" : screen_number\n",
    "        }\n",
    "        \n",
    "        movie_chart_data.append(movie_chart)\n",
    "        driver.implicitly_wait(1)\n",
    "\n",
    "print(len(movie_chart_data), movie_chart_data[3:])\n",
    "\n",
    "\n"
   ]
  },
  {
   "cell_type": "code",
   "execution_count": 10,
   "metadata": {},
   "outputs": [],
   "source": [
    "driver.quit()"
   ]
  },
  {
   "cell_type": "markdown",
   "metadata": {},
   "source": [
    "### 3. Pandas로 저장"
   ]
  },
  {
   "cell_type": "code",
   "execution_count": 11,
   "metadata": {},
   "outputs": [],
   "source": [
    "import pandas as pd \n"
   ]
  },
  {
   "cell_type": "code",
   "execution_count": 12,
   "metadata": {},
   "outputs": [
    {
     "data": {
      "text/html": [
       "<div>\n",
       "<style scoped>\n",
       "    .dataframe tbody tr th:only-of-type {\n",
       "        vertical-align: middle;\n",
       "    }\n",
       "\n",
       "    .dataframe tbody tr th {\n",
       "        vertical-align: top;\n",
       "    }\n",
       "\n",
       "    .dataframe thead th {\n",
       "        text-align: right;\n",
       "    }\n",
       "</style>\n",
       "<table border=\"1\" class=\"dataframe\">\n",
       "  <thead>\n",
       "    <tr style=\"text-align: right;\">\n",
       "      <th></th>\n",
       "      <th>rank</th>\n",
       "      <th>name</th>\n",
       "      <th>date</th>\n",
       "      <th>sale</th>\n",
       "      <th>audience</th>\n",
       "      <th>screen</th>\n",
       "      <th>screen_number</th>\n",
       "    </tr>\n",
       "  </thead>\n",
       "  <tbody>\n",
       "    <tr>\n",
       "      <th>0</th>\n",
       "      <td>1</td>\n",
       "      <td>명량</td>\n",
       "      <td>2014-07-30</td>\n",
       "      <td>135,748,398,910</td>\n",
       "      <td>17,613,682</td>\n",
       "      <td>1,587</td>\n",
       "      <td>188,611</td>\n",
       "    </tr>\n",
       "    <tr>\n",
       "      <th>1</th>\n",
       "      <td>2</td>\n",
       "      <td>겨울왕국</td>\n",
       "      <td>2014-01-16</td>\n",
       "      <td>82,461,504,400</td>\n",
       "      <td>10,296,101</td>\n",
       "      <td>1,010</td>\n",
       "      <td>157,683</td>\n",
       "    </tr>\n",
       "    <tr>\n",
       "      <th>2</th>\n",
       "      <td>3</td>\n",
       "      <td>인터스텔라</td>\n",
       "      <td>2014-11-06</td>\n",
       "      <td>80,671,424,300</td>\n",
       "      <td>10,105,247</td>\n",
       "      <td>1,410</td>\n",
       "      <td>166,218</td>\n",
       "    </tr>\n",
       "    <tr>\n",
       "      <th>3</th>\n",
       "      <td>4</td>\n",
       "      <td>해적: 바다로 간 산적</td>\n",
       "      <td>2014-08-06</td>\n",
       "      <td>66,370,682,706</td>\n",
       "      <td>8,666,046</td>\n",
       "      <td>910</td>\n",
       "      <td>133,350</td>\n",
       "    </tr>\n",
       "    <tr>\n",
       "      <th>4</th>\n",
       "      <td>5</td>\n",
       "      <td>수상한 그녀</td>\n",
       "      <td>2014-01-22</td>\n",
       "      <td>62,705,348,249</td>\n",
       "      <td>8,657,982</td>\n",
       "      <td>1,027</td>\n",
       "      <td>136,975</td>\n",
       "    </tr>\n",
       "  </tbody>\n",
       "</table>\n",
       "</div>"
      ],
      "text/plain": [
       "  rank          name        date             sale    audience screen  \\\n",
       "0    1            명량  2014-07-30  135,748,398,910  17,613,682  1,587   \n",
       "1    2          겨울왕국  2014-01-16   82,461,504,400  10,296,101  1,010   \n",
       "2    3         인터스텔라  2014-11-06   80,671,424,300  10,105,247  1,410   \n",
       "3    4  해적: 바다로 간 산적  2014-08-06   66,370,682,706   8,666,046    910   \n",
       "4    5        수상한 그녀  2014-01-22   62,705,348,249   8,657,982  1,027   \n",
       "\n",
       "  screen_number  \n",
       "0       188,611  \n",
       "1       157,683  \n",
       "2       166,218  \n",
       "3       133,350  \n",
       "4       136,975  "
      ]
     },
     "execution_count": 12,
     "metadata": {},
     "output_type": "execute_result"
    }
   ],
   "source": [
    "df = pd.DataFrame(movie_chart_data)\n",
    "df.head(5)"
   ]
  },
  {
   "cell_type": "code",
   "execution_count": 13,
   "metadata": {},
   "outputs": [],
   "source": [
    "df.to_csv(\"movie_chart.csv\", index=False, encoding=\"utf-8-sig\")"
   ]
  }
 ],
 "metadata": {
  "kernelspec": {
   "display_name": "eda_venv",
   "language": "python",
   "name": "python3"
  },
  "language_info": {
   "codemirror_mode": {
    "name": "ipython",
    "version": 3
   },
   "file_extension": ".py",
   "mimetype": "text/x-python",
   "name": "python",
   "nbconvert_exporter": "python",
   "pygments_lexer": "ipython3",
   "version": "3.10.12"
  }
 },
 "nbformat": 4,
 "nbformat_minor": 2
}
