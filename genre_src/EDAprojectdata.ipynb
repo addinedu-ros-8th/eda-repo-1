{
 "cells": [
  {
   "cell_type": "code",
   "execution_count": 1,
   "metadata": {},
   "outputs": [],
   "source": [
    "from selenium import webdriver\n",
    "from selenium.webdriver.chrome.service import Service\n",
    "from selenium.webdriver.chrome.options import Options\n",
    "from selenium.webdriver.common.by import By\n",
    "from tqdm import tqdm\n",
    "import ipywidgets as widgets\n",
    "import time\n",
    "from bs4 import BeautifulSoup\n",
    "from selenium.webdriver.common.keys import Keys\n",
    "from selenium.webdriver.support.wait import WebDriverWait\n",
    "from selenium.webdriver.support import expected_conditions as EC\n",
    "from selenium.webdriver.common.action_chains import ActionChains\n",
    "import re\n",
    "from selenium.webdriver.support.ui import Select"
   ]
  },
  {
   "cell_type": "code",
   "execution_count": 2,
   "metadata": {},
   "outputs": [],
   "source": [
    "import pandas as pd\n",
    "import numpy as np"
   ]
  },
  {
   "cell_type": "code",
   "execution_count": 4,
   "metadata": {},
   "outputs": [],
   "source": [
    "options = webdriver.ChromeOptions()\n",
    "\n",
    "prefs = {\"download.default_directory\" : \"/home/lim/dev_ws/eda/data\", \"download.prompt_for_download\":False}\n",
    "options.add_experimental_option(\"prefs\", prefs)\n",
    "\n",
    "url = \"https://www.kobis.or.kr/kobis/business/stat/boxs/findYearlyBoxOfficeList.do\"\n",
    "driver = webdriver.Chrome(service=Service(\"/home/lim/dev_ws/eda/driver/chromedriver\"), options=options)\n",
    "\n",
    "driver.get(url)\n",
    "driver.set_window_size(1800, 1300)"
   ]
  },
  {
   "cell_type": "code",
   "execution_count": 9,
   "metadata": {},
   "outputs": [
    {
     "data": {
      "text/plain": [
       "['2013',\n",
       " '2014',\n",
       " '2015',\n",
       " '2016',\n",
       " '2017',\n",
       " '2018',\n",
       " '2019',\n",
       " '2020',\n",
       " '2021',\n",
       " '2022',\n",
       " '2023',\n",
       " '2024']"
      ]
     },
     "execution_count": 9,
     "metadata": {},
     "output_type": "execute_result"
    }
   ],
   "source": [
    "year = driver.find_element(By.ID, \"sSearchYearFrom\")\n",
    "years = []\n",
    "years_list = year.find_elements(By.TAG_NAME, \"option\")\n",
    "for yearly in years_list:\n",
    "    yearly = yearly.get_attribute(\"value\")\n",
    "    years.append(yearly)\n",
    "years = years[9:]\n",
    "years"
   ]
  },
  {
   "cell_type": "code",
   "execution_count": 10,
   "metadata": {},
   "outputs": [],
   "source": [
    "year.send_keys(years[-1])"
   ]
  },
  {
   "cell_type": "code",
   "execution_count": 11,
   "metadata": {},
   "outputs": [
    {
     "data": {
      "text/plain": [
       "['파묘',\n",
       " '범죄도시4',\n",
       " '인사이드 아웃 2',\n",
       " '베테랑2',\n",
       " '파일럿',\n",
       " '웡카',\n",
       " '모아나 2',\n",
       " '소방관',\n",
       " '탈주',\n",
       " '듄: 파트2',\n",
       " '에이리언: 로물루스',\n",
       " '데드풀과 울버린',\n",
       " '위키드',\n",
       " '핸섬가이즈',\n",
       " '하이재킹',\n",
       " '쿵푸팬더4',\n",
       " '베놈: 라스트 댄스',\n",
       " '시민덕희',\n",
       " '퓨리오사: 매드맥스 사가',\n",
       " '슈퍼배드 4',\n",
       " '하얼빈',\n",
       " '외계+인 2부',\n",
       " '위시',\n",
       " '서울의 봄',\n",
       " '사랑의 하츄핑',\n",
       " '그녀가 죽었다',\n",
       " '건국전쟁',\n",
       " '노량: 죽음의 바다',\n",
       " '히든페이스',\n",
       " '댓글부대',\n",
       " '글래디에이터 Ⅱ',\n",
       " '혹성탈출: 새로운 시대',\n",
       " '대도시의 사랑법',\n",
       " '청설',\n",
       " '명탐정 코난: 100만 달러의 펜타그램',\n",
       " '극장판 하이큐!! 쓰레기장의 결전',\n",
       " '행복의 나라',\n",
       " '탈출: 프로젝트 사일런스',\n",
       " '와일드 로봇',\n",
       " '보통의 가족',\n",
       " '원더랜드',\n",
       " '트위스터스',\n",
       " '조커: 폴리 아 되',\n",
       " '아마존 활명수',\n",
       " '콰이어트 플레이스: 첫째 날',\n",
       " '설계자',\n",
       " '고질라 X 콩: 뉴 엠파이어',\n",
       " '빅토리',\n",
       " '귀멸의 칼날: 인연의 기적, 그리고 합동 강화 훈련으로',\n",
       " '무파사: 라이온 킹']"
      ]
     },
     "execution_count": 11,
     "metadata": {},
     "output_type": "execute_result"
    }
   ],
   "source": [
    "movie_names = []\n",
    "page = driver.page_source\n",
    "soup = BeautifulSoup(page, \"html.parser\")\n",
    "movies = soup.find(\"table\", \"tbl_comm th_sort\")\n",
    "moviesList = movies.find_all(\"span\", class_=\"ellip per90\")\n",
    "for movie in moviesList:\n",
    "    movie = movie.find(\"a\").text\n",
    "    movie_names.append(movie)\n",
    "\n",
    "movie_names"
   ]
  },
  {
   "cell_type": "code",
   "execution_count": 12,
   "metadata": {},
   "outputs": [
    {
     "data": {
      "text/plain": [
       "['11,914,716',\n",
       " '11,502,779',\n",
       " '8,799,013',\n",
       " '7,525,339',\n",
       " '4,718,036',\n",
       " '3,531,717',\n",
       " '3,238,576',\n",
       " '2,983,233',\n",
       " '2,561,872',\n",
       " '2,019,129',\n",
       " '2,002,033',\n",
       " '1,977,010',\n",
       " '1,971,872',\n",
       " '1,776,995',\n",
       " '1,774,150',\n",
       " '1,771,738',\n",
       " '1,763,723',\n",
       " '1,715,064',\n",
       " '1,606,378',\n",
       " '1,562,001',\n",
       " '1,481,814',\n",
       " '1,430,121',\n",
       " '1,403,486',\n",
       " '1,273,640',\n",
       " '1,239,064',\n",
       " '1,237,103',\n",
       " '1,173,927',\n",
       " '1,135,516',\n",
       " '1,008,846',\n",
       " '972,991',\n",
       " '909,478',\n",
       " '907,155',\n",
       " '879,096',\n",
       " '801,345',\n",
       " '753,606',\n",
       " '744,521',\n",
       " '710,620',\n",
       " '689,603',\n",
       " '682,036',\n",
       " '650,336',\n",
       " '625,908',\n",
       " '620,240',\n",
       " '612,831',\n",
       " '606,612',\n",
       " '552,619',\n",
       " '525,369',\n",
       " '510,370',\n",
       " '508,467',\n",
       " '497,320',\n",
       " '494,680']"
      ]
     },
     "execution_count": 12,
     "metadata": {},
     "output_type": "execute_result"
    }
   ],
   "source": [
    "movie_viewers = []\n",
    "movieL = driver.find_elements(By.ID, \"td_audiAcc\")\n",
    "for movie in movieL:\n",
    "    movie_viewers.append(movie.text)\n",
    "\n",
    "movie_viewers"
   ]
  },
  {
   "cell_type": "code",
   "execution_count": 13,
   "metadata": {},
   "outputs": [
    {
     "name": "stderr",
     "output_type": "stream",
     "text": [
      "  0%|          | 0/50 [00:00<?, ?it/s]"
     ]
    },
    {
     "name": "stdout",
     "output_type": "stream",
     "text": [
      "파묘\n"
     ]
    },
    {
     "name": "stderr",
     "output_type": "stream",
     "text": [
      "/tmp/ipykernel_6880/1525041506.py:10: DeprecationWarning: The 'text' argument to find()-type methods is deprecated. Use 'string' instead.\n",
      "  for dt in soup.find_all(\"dt\", text=\"요약정보\"):\n",
      "  2%|▏         | 1/50 [00:03<02:30,  3.06s/it]"
     ]
    },
    {
     "name": "stdout",
     "output_type": "stream",
     "text": [
      "범죄도시4\n"
     ]
    },
    {
     "name": "stderr",
     "output_type": "stream",
     "text": [
      "  4%|▍         | 2/50 [00:05<02:03,  2.58s/it]"
     ]
    },
    {
     "name": "stdout",
     "output_type": "stream",
     "text": [
      "인사이드 아웃 2\n"
     ]
    },
    {
     "name": "stderr",
     "output_type": "stream",
     "text": [
      "  6%|▌         | 3/50 [00:06<01:31,  1.94s/it]"
     ]
    },
    {
     "name": "stdout",
     "output_type": "stream",
     "text": [
      "베테랑2\n"
     ]
    },
    {
     "name": "stderr",
     "output_type": "stream",
     "text": [
      "  8%|▊         | 4/50 [00:09<01:43,  2.25s/it]"
     ]
    },
    {
     "name": "stdout",
     "output_type": "stream",
     "text": [
      "파일럿\n"
     ]
    },
    {
     "name": "stderr",
     "output_type": "stream",
     "text": [
      " 10%|█         | 5/50 [00:11<01:44,  2.33s/it]"
     ]
    },
    {
     "name": "stdout",
     "output_type": "stream",
     "text": [
      "웡카\n"
     ]
    },
    {
     "name": "stderr",
     "output_type": "stream",
     "text": [
      " 12%|█▏        | 6/50 [00:13<01:28,  2.02s/it]"
     ]
    },
    {
     "name": "stdout",
     "output_type": "stream",
     "text": [
      "모아나 2\n"
     ]
    },
    {
     "name": "stderr",
     "output_type": "stream",
     "text": [
      " 14%|█▍        | 7/50 [00:14<01:14,  1.74s/it]"
     ]
    },
    {
     "name": "stdout",
     "output_type": "stream",
     "text": [
      "소방관\n"
     ]
    },
    {
     "name": "stderr",
     "output_type": "stream",
     "text": [
      " 16%|█▌        | 8/50 [00:15<01:11,  1.70s/it]"
     ]
    },
    {
     "name": "stdout",
     "output_type": "stream",
     "text": [
      "탈주\n"
     ]
    },
    {
     "name": "stderr",
     "output_type": "stream",
     "text": [
      " 18%|█▊        | 9/50 [00:18<01:17,  1.89s/it]"
     ]
    },
    {
     "name": "stdout",
     "output_type": "stream",
     "text": [
      "듄: 파트2\n"
     ]
    },
    {
     "name": "stderr",
     "output_type": "stream",
     "text": [
      " 20%|██        | 10/50 [00:19<01:09,  1.74s/it]"
     ]
    },
    {
     "name": "stdout",
     "output_type": "stream",
     "text": [
      "에이리언: 로물루스\n"
     ]
    },
    {
     "name": "stderr",
     "output_type": "stream",
     "text": [
      " 22%|██▏       | 11/50 [00:20<01:03,  1.62s/it]"
     ]
    },
    {
     "name": "stdout",
     "output_type": "stream",
     "text": [
      "데드풀과 울버린\n"
     ]
    },
    {
     "name": "stderr",
     "output_type": "stream",
     "text": [
      " 24%|██▍       | 12/50 [00:22<00:57,  1.52s/it]"
     ]
    },
    {
     "name": "stdout",
     "output_type": "stream",
     "text": [
      "위키드\n"
     ]
    },
    {
     "name": "stderr",
     "output_type": "stream",
     "text": [
      " 26%|██▌       | 13/50 [00:23<00:52,  1.41s/it]"
     ]
    },
    {
     "name": "stdout",
     "output_type": "stream",
     "text": [
      "핸섬가이즈\n"
     ]
    },
    {
     "name": "stderr",
     "output_type": "stream",
     "text": [
      " 28%|██▊       | 14/50 [00:24<00:50,  1.40s/it]"
     ]
    },
    {
     "name": "stdout",
     "output_type": "stream",
     "text": [
      "하이재킹\n"
     ]
    },
    {
     "name": "stderr",
     "output_type": "stream",
     "text": [
      " 30%|███       | 15/50 [00:27<01:03,  1.80s/it]"
     ]
    },
    {
     "name": "stdout",
     "output_type": "stream",
     "text": [
      "쿵푸팬더4\n"
     ]
    },
    {
     "name": "stderr",
     "output_type": "stream",
     "text": [
      " 32%|███▏      | 16/50 [00:29<01:00,  1.77s/it]"
     ]
    },
    {
     "name": "stdout",
     "output_type": "stream",
     "text": [
      "베놈: 라스트 댄스\n"
     ]
    },
    {
     "name": "stderr",
     "output_type": "stream",
     "text": [
      " 34%|███▍      | 17/50 [00:31<00:59,  1.79s/it]"
     ]
    },
    {
     "name": "stdout",
     "output_type": "stream",
     "text": [
      "시민덕희\n"
     ]
    },
    {
     "name": "stderr",
     "output_type": "stream",
     "text": [
      " 36%|███▌      | 18/50 [00:32<00:58,  1.82s/it]"
     ]
    },
    {
     "name": "stdout",
     "output_type": "stream",
     "text": [
      "퓨리오사: 매드맥스 사가\n"
     ]
    },
    {
     "name": "stderr",
     "output_type": "stream",
     "text": [
      " 38%|███▊      | 19/50 [00:34<00:54,  1.75s/it]"
     ]
    },
    {
     "name": "stdout",
     "output_type": "stream",
     "text": [
      "슈퍼배드 4\n"
     ]
    },
    {
     "name": "stderr",
     "output_type": "stream",
     "text": [
      " 40%|████      | 20/50 [00:36<00:50,  1.69s/it]"
     ]
    },
    {
     "name": "stdout",
     "output_type": "stream",
     "text": [
      "하얼빈\n"
     ]
    },
    {
     "name": "stderr",
     "output_type": "stream",
     "text": [
      " 42%|████▏     | 21/50 [00:37<00:49,  1.70s/it]"
     ]
    },
    {
     "name": "stdout",
     "output_type": "stream",
     "text": [
      "외계+인 2부\n"
     ]
    },
    {
     "name": "stderr",
     "output_type": "stream",
     "text": [
      " 44%|████▍     | 22/50 [00:41<01:07,  2.42s/it]"
     ]
    },
    {
     "name": "stdout",
     "output_type": "stream",
     "text": [
      "위시\n"
     ]
    },
    {
     "name": "stderr",
     "output_type": "stream",
     "text": [
      " 46%|████▌     | 23/50 [00:43<00:59,  2.22s/it]"
     ]
    },
    {
     "name": "stdout",
     "output_type": "stream",
     "text": [
      "서울의 봄\n"
     ]
    },
    {
     "name": "stderr",
     "output_type": "stream",
     "text": [
      " 48%|████▊     | 24/50 [00:47<01:07,  2.61s/it]"
     ]
    },
    {
     "name": "stdout",
     "output_type": "stream",
     "text": [
      "사랑의 하츄핑\n"
     ]
    },
    {
     "name": "stderr",
     "output_type": "stream",
     "text": [
      " 50%|█████     | 25/50 [00:49<01:00,  2.42s/it]"
     ]
    },
    {
     "name": "stdout",
     "output_type": "stream",
     "text": [
      "그녀가 죽었다\n"
     ]
    },
    {
     "name": "stderr",
     "output_type": "stream",
     "text": [
      " 52%|█████▏    | 26/50 [00:50<00:53,  2.21s/it]"
     ]
    },
    {
     "name": "stdout",
     "output_type": "stream",
     "text": [
      "건국전쟁\n"
     ]
    },
    {
     "name": "stderr",
     "output_type": "stream",
     "text": [
      " 54%|█████▍    | 27/50 [00:52<00:43,  1.91s/it]"
     ]
    },
    {
     "name": "stdout",
     "output_type": "stream",
     "text": [
      "노량: 죽음의 바다\n"
     ]
    },
    {
     "name": "stderr",
     "output_type": "stream",
     "text": [
      " 56%|█████▌    | 28/50 [00:56<00:56,  2.57s/it]"
     ]
    },
    {
     "name": "stdout",
     "output_type": "stream",
     "text": [
      "히든페이스\n"
     ]
    },
    {
     "name": "stderr",
     "output_type": "stream",
     "text": [
      " 58%|█████▊    | 29/50 [00:58<00:54,  2.58s/it]"
     ]
    },
    {
     "name": "stdout",
     "output_type": "stream",
     "text": [
      "댓글부대\n"
     ]
    },
    {
     "name": "stderr",
     "output_type": "stream",
     "text": [
      " 60%|██████    | 30/50 [01:01<00:50,  2.51s/it]"
     ]
    },
    {
     "name": "stdout",
     "output_type": "stream",
     "text": [
      "글래디에이터 Ⅱ\n"
     ]
    },
    {
     "name": "stderr",
     "output_type": "stream",
     "text": [
      " 62%|██████▏   | 31/50 [01:02<00:39,  2.09s/it]"
     ]
    },
    {
     "name": "stdout",
     "output_type": "stream",
     "text": [
      "혹성탈출: 새로운 시대\n"
     ]
    },
    {
     "name": "stderr",
     "output_type": "stream",
     "text": [
      " 64%|██████▍   | 32/50 [01:03<00:33,  1.86s/it]"
     ]
    },
    {
     "name": "stdout",
     "output_type": "stream",
     "text": [
      "대도시의 사랑법\n"
     ]
    },
    {
     "name": "stderr",
     "output_type": "stream",
     "text": [
      " 66%|██████▌   | 33/50 [01:06<00:34,  2.05s/it]"
     ]
    },
    {
     "name": "stdout",
     "output_type": "stream",
     "text": [
      "청설\n"
     ]
    },
    {
     "name": "stderr",
     "output_type": "stream",
     "text": [
      " 68%|██████▊   | 34/50 [01:08<00:32,  2.05s/it]"
     ]
    },
    {
     "name": "stdout",
     "output_type": "stream",
     "text": [
      "명탐정 코난: 100만 달러의 펜타그램\n"
     ]
    },
    {
     "name": "stderr",
     "output_type": "stream",
     "text": [
      " 70%|███████   | 35/50 [01:09<00:29,  1.95s/it]"
     ]
    },
    {
     "name": "stdout",
     "output_type": "stream",
     "text": [
      "극장판 하이큐!! 쓰레기장의 결전\n"
     ]
    },
    {
     "name": "stderr",
     "output_type": "stream",
     "text": [
      " 72%|███████▏  | 36/50 [01:11<00:26,  1.90s/it]"
     ]
    },
    {
     "name": "stdout",
     "output_type": "stream",
     "text": [
      "행복의 나라\n"
     ]
    },
    {
     "name": "stderr",
     "output_type": "stream",
     "text": [
      " 74%|███████▍  | 37/50 [01:13<00:23,  1.82s/it]"
     ]
    },
    {
     "name": "stdout",
     "output_type": "stream",
     "text": [
      "탈출: 프로젝트 사일런스\n"
     ]
    },
    {
     "name": "stderr",
     "output_type": "stream",
     "text": [
      " 76%|███████▌  | 38/50 [01:16<00:28,  2.37s/it]"
     ]
    },
    {
     "name": "stdout",
     "output_type": "stream",
     "text": [
      "와일드 로봇\n"
     ]
    },
    {
     "name": "stderr",
     "output_type": "stream",
     "text": [
      " 78%|███████▊  | 39/50 [01:18<00:23,  2.15s/it]"
     ]
    },
    {
     "name": "stdout",
     "output_type": "stream",
     "text": [
      "보통의 가족\n"
     ]
    },
    {
     "name": "stderr",
     "output_type": "stream",
     "text": [
      " 80%|████████  | 40/50 [01:20<00:20,  2.09s/it]"
     ]
    },
    {
     "name": "stdout",
     "output_type": "stream",
     "text": [
      "원더랜드\n"
     ]
    },
    {
     "name": "stderr",
     "output_type": "stream",
     "text": [
      " 82%|████████▏ | 41/50 [01:22<00:19,  2.15s/it]"
     ]
    },
    {
     "name": "stdout",
     "output_type": "stream",
     "text": [
      "트위스터스\n"
     ]
    },
    {
     "name": "stderr",
     "output_type": "stream",
     "text": [
      " 84%|████████▍ | 42/50 [01:24<00:15,  1.99s/it]"
     ]
    },
    {
     "name": "stdout",
     "output_type": "stream",
     "text": [
      "조커: 폴리 아 되\n"
     ]
    },
    {
     "name": "stderr",
     "output_type": "stream",
     "text": [
      " 86%|████████▌ | 43/50 [01:26<00:13,  1.89s/it]"
     ]
    },
    {
     "name": "stdout",
     "output_type": "stream",
     "text": [
      "아마존 활명수\n"
     ]
    },
    {
     "name": "stderr",
     "output_type": "stream",
     "text": [
      " 88%|████████▊ | 44/50 [01:28<00:11,  1.91s/it]"
     ]
    },
    {
     "name": "stdout",
     "output_type": "stream",
     "text": [
      "콰이어트 플레이스: 첫째 날\n"
     ]
    },
    {
     "name": "stderr",
     "output_type": "stream",
     "text": [
      " 90%|█████████ | 45/50 [01:29<00:08,  1.79s/it]"
     ]
    },
    {
     "name": "stdout",
     "output_type": "stream",
     "text": [
      "설계자\n"
     ]
    },
    {
     "name": "stderr",
     "output_type": "stream",
     "text": [
      " 92%|█████████▏| 46/50 [01:31<00:06,  1.75s/it]"
     ]
    },
    {
     "name": "stdout",
     "output_type": "stream",
     "text": [
      "고질라 X 콩: 뉴 엠파이어\n"
     ]
    },
    {
     "name": "stderr",
     "output_type": "stream",
     "text": [
      " 94%|█████████▍| 47/50 [01:32<00:04,  1.58s/it]"
     ]
    },
    {
     "name": "stdout",
     "output_type": "stream",
     "text": [
      "빅토리\n"
     ]
    },
    {
     "name": "stderr",
     "output_type": "stream",
     "text": [
      " 96%|█████████▌| 48/50 [01:34<00:03,  1.68s/it]"
     ]
    },
    {
     "name": "stdout",
     "output_type": "stream",
     "text": [
      "귀멸의 칼날: 인연의 기적, 그리고 합동 강화 훈련으로\n"
     ]
    },
    {
     "name": "stderr",
     "output_type": "stream",
     "text": [
      " 98%|█████████▊| 49/50 [01:35<00:01,  1.48s/it]"
     ]
    },
    {
     "name": "stdout",
     "output_type": "stream",
     "text": [
      "무파사: 라이온 킹\n"
     ]
    },
    {
     "name": "stderr",
     "output_type": "stream",
     "text": [
      "100%|██████████| 50/50 [01:36<00:00,  1.93s/it]\n"
     ]
    },
    {
     "data": {
      "text/plain": [
       "(['미스터리',\n",
       "  '공포(호러)',\n",
       "  '액션',\n",
       "  '범죄',\n",
       "  '액션',\n",
       "  '범죄',\n",
       "  '판타지',\n",
       "  '드라마',\n",
       "  '공포(호러)',\n",
       "  'SF',\n",
       "  '액션',\n",
       "  '코미디',\n",
       "  'SF',\n",
       "  '판타지',\n",
       "  '뮤지컬',\n",
       "  '범죄',\n",
       "  '액션',\n",
       "  '애니메이션',\n",
       "  '액션',\n",
       "  '코미디',\n",
       "  '액션',\n",
       "  'SF',\n",
       "  '스릴러',\n",
       "  '애니메이션',\n",
       "  '액션',\n",
       "  '어드벤처',\n",
       "  '코미디',\n",
       "  '미스터리',\n",
       "  '스릴러',\n",
       "  '사극',\n",
       "  '액션',\n",
       "  '범죄',\n",
       "  '드라마',\n",
       "  '액션',\n",
       "  '사극',\n",
       "  '액션',\n",
       "  'SF',\n",
       "  '드라마',\n",
       "  '멜로/로맨스',\n",
       "  '액션',\n",
       "  '어드벤처',\n",
       "  '드라마',\n",
       "  '범죄',\n",
       "  '드라마',\n",
       "  '뮤지컬',\n",
       "  '범죄',\n",
       "  '드라마',\n",
       "  '액션',\n",
       "  '어드벤처',\n",
       "  'SF'],\n",
       " 50)"
      ]
     },
     "execution_count": 13,
     "metadata": {},
     "output_type": "execute_result"
    }
   ],
   "source": [
    "movie_genre = []\n",
    "for movie in tqdm(movie_names):\n",
    "    print(movie)\n",
    "    link = WebDriverWait(driver, 10).until(EC.element_to_be_clickable((By.LINK_TEXT, movie)))\n",
    "    link.click()\n",
    "\n",
    "    page = driver.page_source\n",
    "    soup = BeautifulSoup(page, \"html.parser\")\n",
    "\n",
    "    for dt in soup.find_all(\"dt\", text=\"요약정보\"):\n",
    "        dd = dt.find_next(\"dd\")  # Get the associated <dd> element\n",
    "        if dd:\n",
    "            # Extract and clean the genre information\n",
    "            raw_text = dd.get_text(separator=\"|\").strip()  # Use '|' as separator for clarity\n",
    "            parts = raw_text.split(\"|\")  # Split by '|'\n",
    "            genre_parts = [part.strip() for part in parts if \",\" in part]  # Filter parts with commas (genres)\n",
    "            for genre in genre_parts:\n",
    "                # Further split by commas to separate multiple genres\n",
    "                movie_genre.extend([g.strip() for g in genre.split(\",\")])\n",
    "                genres = [\n",
    "                    '미스터리', '공포(호러)', '액션', '범죄', '판타지', '드라마', 'SF', \n",
    "                    '코미디', '뮤지컬', '애니메이션', '스릴러', '어드벤처', '사극', '멜로/로맨스'\n",
    "                ]\n",
    "\n",
    "                movie_genre = [item for item in movie_genre if item in genres]\n",
    "\n",
    "    close = driver.find_element(By.CLASS_NAME, \"close\")\n",
    "    close.click()\n",
    "\n",
    "movie_genre, len(movie_genre)"
   ]
  },
  {
   "cell_type": "code",
   "execution_count": 80,
   "metadata": {},
   "outputs": [
    {
     "name": "stderr",
     "output_type": "stream",
     "text": [
      "  0%|          | 0/2 [00:00<?, ?it/s]C:\\Users\\AAA\\AppData\\Local\\Temp\\ipykernel_18688\\2590976463.py:66: DeprecationWarning: The 'text' argument to find()-type methods is deprecated. Use 'string' instead.\n",
      "  dt = soup.find(\"dt\", text=\"요약정보\")\n"
     ]
    },
    {
     "name": "stdout",
     "output_type": "stream",
     "text": [
      "['장편 ', ' \\n\\n\\t\\t\\t\\t\\t\\t\\n\\t\\t\\t\\t\\t\\t\\t\\n\\t\\t\\t\\t\\t\\t\\t\\n\\t\\t\\t\\t\\t\\t\\t\\n\\t\\t\\t\\t\\t\\t\\t\\n\\t\\t\\t\\t\\t\\t\\t\\n\\t\\t\\t\\t\\t\\t\\t\\n\\t\\t\\t\\t\\t\\t\\t\\n\\t\\t\\t\\t\\t\\t\\t일반영화\\n\\t\\t\\t\\t\\t\\t\\n\\n\\t\\t\\t\\t\\t\\t\\n\\t\\t\\t\\t\\t\\t\\t', '\\n\\t                       \\t\\n\\t                       \\t\\t\\t코미디,\\n\\t                       \\t\\n\\t                       \\t\\t\\t드라마\\n\\t                       \\t\\n                       \\t\\n\\n\\t\\t\\t\\t\\t\\t\\n\\t\\t\\t\\t\\t\\t\\t', '\\n\\t\\t\\t\\t\\t\\t\\t127분 0초\\n\\t\\t\\t\\t\\t\\t\\n\\n\\t\\t\\t\\t\\t\\t\\n\\t\\t\\t\\t\\t\\t\\t', '\\n\\t\\t\\t\\t\\t\\t\\t\\n\\t\\t\\t\\t\\t\\t\\t\\t\\n                           \\t\\t\\t15세이상관람가\\n\\t\\t\\t\\t\\t\\t\\t\\t\\n                          \\t\\n\\t\\t\\t\\t\\t\\t\\n\\n\\t\\t\\t\\t\\t\\t\\n\\t\\t\\t\\t\\t\\t\\t', '\\n\\t\\t\\t\\t\\t\\t\\t\\n\\t                        \\t한국\\n\\t                        \\n\\t\\t\\t\\t\\t\\t\\n\\t\\t\\t\\t\\t\\t', '\\n\\t\\t\\t\\t\\t\\t\\n\\n\\t\\t\\t\\t\\t\\t\\t\\n\\t\\t\\t\\t\\t\\t\\t\\n\\t\\t\\t\\t\\t\\t\\n\\n\\t\\t\\t\\t\\t\\t\\t\\n\\t\\t\\t\\t\\t\\t\\t\\n\\t\\t\\t\\t\\t\\t\\n\\n\\t\\t\\t\\t\\t\\t\\t\\n\\t\\t\\t\\t\\t\\t\\t\\n\\t\\t\\t\\t\\t\\t\\n\\n\\t\\t\\t\\t\\t\\t\\t\\n\\t\\t\\t\\t\\t\\t\\t\\n\\t\\t\\t\\t\\t\\t\\n\\n\\t\\t\\t\\t\\t\\t\\t\\n\\t\\t\\t\\t\\t\\t\\t\\n\\t\\t\\t\\t\\t\\t\\n\\n\\t\\t\\t\\t\\t\\t\\t\\n\\t\\t\\t\\t\\t\\t\\t\\n\\t\\t\\t\\t\\t\\t\\n\\n\\t\\t\\t\\t\\t\\t\\t\\n\\t\\t\\t\\t\\t\\t\\t\\n\\t\\t\\t\\t\\t\\t\\n\\n\\t\\t\\t\\t\\t\\t\\t\\n\\t\\t\\t\\t\\t\\t\\t\\n\\t\\t\\t\\t\\t\\t\\n\\n\\t\\t\\t\\t\\t\\t\\t\\n\\t\\t\\t\\t\\t\\t\\t\\n\\t\\t\\t\\t\\t\\t\\n\\n\\t\\t\\t\\t\\t\\t\\t\\n\\t\\t\\t\\t\\t\\t\\t\\t', ' 한글자막(CC)\\n\\t\\t\\t\\t\\t\\t\\t\\n\\t\\t\\t\\t\\t\\t\\t\\n\\t\\t\\t\\t\\t\\t\\n\\n\\t\\t\\t\\t\\t\\t\\t\\n\\t\\t\\t\\t\\t\\t\\t\\n\\t\\t\\t\\t\\t\\t\\t\\t\\n\\t\\t\\t\\t\\t\\t\\t\\t\\t\\n\\t\\t\\t\\t\\t\\t\\t\\t\\t\\t, 화면해설(AD)']\n",
      "['코미디', '드라마']\n",
      "['코미디', '드라마']\n"
     ]
    },
    {
     "name": "stderr",
     "output_type": "stream",
     "text": []
    },
    {
     "name": "stdout",
     "output_type": "stream",
     "text": [
      "['장편 ', ' \\n\\n\\t\\t\\t\\t\\t\\t\\n\\t\\t\\t\\t\\t\\t\\t\\n\\t\\t\\t\\t\\t\\t\\t\\n\\t\\t\\t\\t\\t\\t\\t\\n\\t\\t\\t\\t\\t\\t\\t\\n\\t\\t\\t\\t\\t\\t\\t\\n\\t\\t\\t\\t\\t\\t\\t\\n\\t\\t\\t\\t\\t\\t\\t\\n\\t\\t\\t\\t\\t\\t\\t일반영화\\n\\t\\t\\t\\t\\t\\t\\n\\n\\t\\t\\t\\t\\t\\t\\n\\t\\t\\t\\t\\t\\t\\t', '\\n\\t                       \\t\\n\\t                       \\t\\t\\tSF,\\n\\t                       \\t\\n\\t                       \\t\\t\\t액션\\n\\t                       \\t\\n                       \\t\\n\\n\\t\\t\\t\\t\\t\\t\\n\\t\\t\\t\\t\\t\\t\\t', '\\n\\t\\t\\t\\t\\t\\t\\t125분 46초\\n\\t\\t\\t\\t\\t\\t\\n\\n\\t\\t\\t\\t\\t\\t\\n\\t\\t\\t\\t\\t\\t\\t', '\\n\\t\\t\\t\\t\\t\\t\\t\\n\\t\\t\\t\\t\\t\\t\\t\\t\\n                           \\t\\t\\t15세이상관람가\\n\\t\\t\\t\\t\\t\\t\\t\\t\\n                          \\t\\n\\t\\t\\t\\t\\t\\t\\n\\n\\t\\t\\t\\t\\t\\t\\n\\t\\t\\t\\t\\t\\t\\t', '\\n\\t\\t\\t\\t\\t\\t\\t\\n\\t                        \\t한국,\\n\\t                        \\n\\t                        \\t체코\\n\\t                        \\n\\t\\t\\t\\t\\t\\t\\n\\t\\t\\t\\t\\t\\t', '']\n",
      "['SF', '액션']\n",
      "['SF', '액션']\n"
     ]
    },
    {
     "name": "stderr",
     "output_type": "stream",
     "text": []
    },
    {
     "name": "stdout",
     "output_type": "stream",
     "text": [
      "['장편 ', ' \\n\\n\\t\\t\\t\\t\\t\\t\\n\\t\\t\\t\\t\\t\\t\\t\\n\\t\\t\\t\\t\\t\\t\\t\\n\\t\\t\\t\\t\\t\\t\\t\\n\\t\\t\\t\\t\\t\\t\\t\\n\\t\\t\\t\\t\\t\\t\\t\\n\\t\\t\\t\\t\\t\\t\\t\\n\\t\\t\\t\\t\\t\\t\\t\\n\\t\\t\\t\\t\\t\\t\\t일반영화\\n\\t\\t\\t\\t\\t\\t\\n\\n\\t\\t\\t\\t\\t\\t\\n\\t\\t\\t\\t\\t\\t\\t', '\\n\\t                       \\t\\n\\t                       \\t\\t\\t사극,\\n\\t                       \\t\\n\\t                       \\t\\t\\t드라마\\n\\t                       \\t\\n                       \\t\\n\\n\\t\\t\\t\\t\\t\\t\\n\\t\\t\\t\\t\\t\\t\\t', '\\n\\t\\t\\t\\t\\t\\t\\t139분 40초\\n\\t\\t\\t\\t\\t\\t\\n\\n\\t\\t\\t\\t\\t\\t\\n\\t\\t\\t\\t\\t\\t\\t', '\\n\\t\\t\\t\\t\\t\\t\\t\\n\\t\\t\\t\\t\\t\\t\\t\\t\\n                           \\t\\t\\t15세이상관람가\\n\\t\\t\\t\\t\\t\\t\\t\\t\\n                          \\t\\n\\t\\t\\t\\t\\t\\t\\n\\n\\t\\t\\t\\t\\t\\t\\n\\t\\t\\t\\t\\t\\t\\t', '\\n\\t\\t\\t\\t\\t\\t\\t\\n\\t                        \\t한국\\n\\t                        \\n\\t\\t\\t\\t\\t\\t\\n\\t\\t\\t\\t\\t\\t', '\\n\\t\\t\\t\\t\\t\\t\\n\\n\\t\\t\\t\\t\\t\\t\\t\\n\\t\\t\\t\\t\\t\\t\\t\\n\\t\\t\\t\\t\\t\\t\\n\\n\\t\\t\\t\\t\\t\\t\\t\\n\\t\\t\\t\\t\\t\\t\\t\\n\\t\\t\\t\\t\\t\\t\\n\\n\\t\\t\\t\\t\\t\\t\\t\\n\\t\\t\\t\\t\\t\\t\\t\\n\\t\\t\\t\\t\\t\\t\\n\\n\\t\\t\\t\\t\\t\\t\\t\\n\\t\\t\\t\\t\\t\\t\\t\\n\\t\\t\\t\\t\\t\\t\\n\\n\\t\\t\\t\\t\\t\\t\\t\\n\\t\\t\\t\\t\\t\\t\\t\\n\\t\\t\\t\\t\\t\\t\\n\\n\\t\\t\\t\\t\\t\\t\\t\\n\\t\\t\\t\\t\\t\\t\\t\\n\\t\\t\\t\\t\\t\\t\\n\\n\\t\\t\\t\\t\\t\\t\\t\\n\\t\\t\\t\\t\\t\\t\\t\\n\\t\\t\\t\\t\\t\\t\\n\\n\\t\\t\\t\\t\\t\\t\\t\\n\\t\\t\\t\\t\\t\\t\\t\\t', ' 한글자막(CC)\\n\\t\\t\\t\\t\\t\\t\\t\\n\\t\\t\\t\\t\\t\\t\\t\\n\\t\\t\\t\\t\\t\\t\\n\\n\\t\\t\\t\\t\\t\\t\\t\\n\\t\\t\\t\\t\\t\\t\\t\\n\\t\\t\\t\\t\\t\\t\\t\\t\\n\\t\\t\\t\\t\\t\\t\\t\\t\\t\\n\\t\\t\\t\\t\\t\\t\\t\\t\\t\\t, 화면해설(AD)']\n",
      "['사극', '드라마']\n",
      "['사극', '드라마']\n"
     ]
    },
    {
     "name": "stderr",
     "output_type": "stream",
     "text": []
    },
    {
     "name": "stdout",
     "output_type": "stream",
     "text": [
      "['장편 ', ' \\n\\n\\t\\t\\t\\t\\t\\t\\n\\t\\t\\t\\t\\t\\t\\t\\n\\t\\t\\t\\t\\t\\t\\t\\n\\t\\t\\t\\t\\t\\t\\t\\n\\t\\t\\t\\t\\t\\t\\t\\n\\t\\t\\t\\t\\t\\t\\t\\n\\t\\t\\t\\t\\t\\t\\t\\n\\t\\t\\t\\t\\t\\t\\t\\n\\t\\t\\t\\t\\t\\t\\t일반영화\\n\\t\\t\\t\\t\\t\\t\\n\\n\\t\\t\\t\\t\\t\\t\\n\\t\\t\\t\\t\\t\\t\\t', '\\n\\t                       \\t\\n\\t                       \\t\\t\\t액션,\\n\\t                       \\t\\n\\t                       \\t\\t\\t어드벤처,\\n\\t                       \\t\\n\\t                       \\t\\t\\tSF\\n\\t                       \\t\\n                       \\t\\n\\n\\t\\t\\t\\t\\t\\t\\n\\t\\t\\t\\t\\t\\t\\t', '\\n\\t\\t\\t\\t\\t\\t\\t130분 22초\\n\\t\\t\\t\\t\\t\\t\\n\\n\\t\\t\\t\\t\\t\\t\\n\\t\\t\\t\\t\\t\\t\\t', '\\n\\t\\t\\t\\t\\t\\t\\t\\n\\t\\t\\t\\t\\t\\t\\t\\t\\n                          \\t\\n\\t\\t\\t\\t\\t\\t\\t\\t\\n                           \\t\\t\\t12세이상관람가\\n\\t\\t\\t\\t\\t\\t\\t\\t\\n                          \\t\\n\\t\\t\\t\\t\\t\\t\\n\\n\\t\\t\\t\\t\\t\\t\\n\\t\\t\\t\\t\\t\\t\\t', '\\n\\t\\t\\t\\t\\t\\t\\t\\n\\t                        \\t미국\\n\\t                        \\n\\t\\t\\t\\t\\t\\t\\n\\t\\t\\t\\t\\t\\t', '']\n",
      "['액션', '어드벤처', 'SF']\n"
     ]
    },
    {
     "name": "stderr",
     "output_type": "stream",
     "text": []
    },
    {
     "name": "stdout",
     "output_type": "stream",
     "text": [
      "['장편 ', ' \\n\\n\\t\\t\\t\\t\\t\\t\\n\\t\\t\\t\\t\\t\\t\\t\\n\\t\\t\\t\\t\\t\\t\\t\\n\\t\\t\\t\\t\\t\\t\\t\\n\\t\\t\\t\\t\\t\\t\\t\\n\\t\\t\\t\\t\\t\\t\\t\\n\\t\\t\\t\\t\\t\\t\\t\\n\\t\\t\\t\\t\\t\\t\\t\\n\\t\\t\\t\\t\\t\\t\\t일반영화\\n\\t\\t\\t\\t\\t\\t\\n\\n\\t\\t\\t\\t\\t\\t\\n\\t\\t\\t\\t\\t\\t\\t', '\\n\\t                       \\t\\n\\t                       \\t\\t\\t액션\\n\\t                       \\t\\n                       \\t\\n\\n\\t\\t\\t\\t\\t\\t\\n\\t\\t\\t\\t\\t\\t\\t', '\\n\\t\\t\\t\\t\\t\\t\\t120분 0초\\n\\t\\t\\t\\t\\t\\t\\n\\n\\t\\t\\t\\t\\t\\t\\n\\t\\t\\t\\t\\t\\t\\t', '\\n\\t\\t\\t\\t\\t\\t\\t\\n\\t\\t\\t\\t\\t\\t\\t\\t\\n                           \\t\\t\\t15세이상관람가\\n\\t\\t\\t\\t\\t\\t\\t\\t\\n                          \\t\\n\\t\\t\\t\\t\\t\\t\\n\\n\\t\\t\\t\\t\\t\\t\\n\\t\\t\\t\\t\\t\\t\\t', '\\n\\t\\t\\t\\t\\t\\t\\t\\n\\t                        \\t한국,\\n\\t                        \\n\\t                        \\t독일\\n\\t                        \\n\\t\\t\\t\\t\\t\\t\\n\\t\\t\\t\\t\\t\\t', '\\n\\t\\t\\t\\t\\t\\t\\n\\n\\t\\t\\t\\t\\t\\t\\t\\n\\t\\t\\t\\t\\t\\t\\t\\n\\t\\t\\t\\t\\t\\t\\n\\n\\t\\t\\t\\t\\t\\t\\t\\n\\t\\t\\t\\t\\t\\t\\t\\n\\t\\t\\t\\t\\t\\t\\n\\n\\t\\t\\t\\t\\t\\t\\t\\n\\t\\t\\t\\t\\t\\t\\t\\n\\t\\t\\t\\t\\t\\t\\n\\n\\t\\t\\t\\t\\t\\t\\t\\n\\t\\t\\t\\t\\t\\t\\t\\n\\t\\t\\t\\t\\t\\t\\n\\n\\t\\t\\t\\t\\t\\t\\t\\n\\t\\t\\t\\t\\t\\t\\t\\n\\t\\t\\t\\t\\t\\t\\n\\n\\t\\t\\t\\t\\t\\t\\t\\n\\t\\t\\t\\t\\t\\t\\t\\n\\t\\t\\t\\t\\t\\t\\n\\n\\t\\t\\t\\t\\t\\t\\t\\n\\t\\t\\t\\t\\t\\t\\t\\n\\t\\t\\t\\t\\t\\t\\n\\n\\t\\t\\t\\t\\t\\t\\t\\n\\t\\t\\t\\t\\t\\t\\t\\n\\t\\t\\t\\t\\t\\t\\n\\n\\t\\t\\t\\t\\t\\t\\t\\n\\t\\t\\t\\t\\t\\t\\t\\n\\t\\t\\t\\t\\t\\t\\n\\n\\t\\t\\t\\t\\t\\t\\t\\n\\t\\t\\t\\t\\t\\t\\t\\n\\t\\t\\t\\t\\t\\t\\n\\n\\t\\t\\t\\t\\t\\t\\t\\n\\t\\t\\t\\t\\t\\t\\t\\n\\t\\t\\t\\t\\t\\t\\n\\n\\t\\t\\t\\t\\t\\t\\t\\n\\t\\t\\t\\t\\t\\t\\t\\n\\t\\t\\t\\t\\t\\t\\n\\n\\t\\t\\t\\t\\t\\t\\t\\n\\t\\t\\t\\t\\t\\t\\t\\n\\t\\t\\t\\t\\t\\t\\n\\n\\t\\t\\t\\t\\t\\t\\t\\n\\t\\t\\t\\t\\t\\t\\t\\n\\t\\t\\t\\t\\t\\t\\n\\n\\t\\t\\t\\t\\t\\t\\t\\n\\t\\t\\t\\t\\t\\t\\t\\n\\t\\t\\t\\t\\t\\t\\n\\n\\t\\t\\t\\t\\t\\t\\t\\n\\t\\t\\t\\t\\t\\t\\t\\n\\t\\t\\t\\t\\t\\t\\n\\n\\t\\t\\t\\t\\t\\t\\t\\n\\t\\t\\t\\t\\t\\t\\t\\n\\t\\t\\t\\t\\t\\t\\n\\n\\t\\t\\t\\t\\t\\t\\t\\n\\t\\t\\t\\t\\t\\t\\t\\n\\t\\t\\t\\t\\t\\t\\n\\n\\t\\t\\t\\t\\t\\t\\t\\n\\t\\t\\t\\t\\t\\t\\t\\t', ' 한글자막(CC)\\n\\t\\t\\t\\t\\t\\t\\t\\n\\t\\t\\t\\t\\t\\t\\t\\n\\t\\t\\t\\t\\t\\t\\n\\n\\t\\t\\t\\t\\t\\t\\t\\n\\t\\t\\t\\t\\t\\t\\t\\n\\t\\t\\t\\t\\t\\t\\t\\t\\n\\t\\t\\t\\t\\t\\t\\t\\t\\t\\n\\t\\t\\t\\t\\t\\t\\t\\t\\t\\t, 화면해설(AD)']\n",
      "[]\n",
      "[]\n"
     ]
    },
    {
     "name": "stderr",
     "output_type": "stream",
     "text": []
    },
    {
     "name": "stdout",
     "output_type": "stream",
     "text": [
      "['장편 ', ' \\n\\n\\t\\t\\t\\t\\t\\t\\n\\t\\t\\t\\t\\t\\t\\t\\n\\t\\t\\t\\t\\t\\t\\t\\n\\t\\t\\t\\t\\t\\t\\t\\n\\t\\t\\t\\t\\t\\t\\t\\n\\t\\t\\t\\t\\t\\t\\t\\n\\t\\t\\t\\t\\t\\t\\t\\n\\t\\t\\t\\t\\t\\t\\t\\n\\t\\t\\t\\t\\t\\t\\t일반영화\\n\\t\\t\\t\\t\\t\\t\\n\\n\\t\\t\\t\\t\\t\\t\\n\\t\\t\\t\\t\\t\\t\\t', '\\n\\t                       \\t\\n\\t                       \\t\\t\\t액션,\\n\\t                       \\t\\n\\t                       \\t\\t\\t코미디,\\n\\t                       \\t\\n\\t                       \\t\\t\\t드라마\\n\\t                       \\t\\n                       \\t\\n\\n\\t\\t\\t\\t\\t\\t\\n\\t\\t\\t\\t\\t\\t\\t', '\\n\\t\\t\\t\\t\\t\\t\\t123분 47초\\n\\t\\t\\t\\t\\t\\t\\n\\n\\t\\t\\t\\t\\t\\t\\n\\t\\t\\t\\t\\t\\t\\t', '\\n\\t\\t\\t\\t\\t\\t\\t\\n\\t\\t\\t\\t\\t\\t\\t\\t\\n                           \\t\\t\\t15세이상관람가\\n\\t\\t\\t\\t\\t\\t\\t\\t\\n                          \\t\\n\\t\\t\\t\\t\\t\\t\\n\\n\\t\\t\\t\\t\\t\\t\\n\\t\\t\\t\\t\\t\\t\\t', '\\n\\t\\t\\t\\t\\t\\t\\t\\n\\t                        \\t한국\\n\\t                        \\n\\t\\t\\t\\t\\t\\t\\n\\t\\t\\t\\t\\t\\t', '\\n\\t\\t\\t\\t\\t\\t\\n\\n\\t\\t\\t\\t\\t\\t\\t\\n\\t\\t\\t\\t\\t\\t\\t\\n\\t\\t\\t\\t\\t\\t\\n\\n\\t\\t\\t\\t\\t\\t\\t\\n\\t\\t\\t\\t\\t\\t\\t\\n\\t\\t\\t\\t\\t\\t\\n\\n\\t\\t\\t\\t\\t\\t\\t\\n\\t\\t\\t\\t\\t\\t\\t\\n\\t\\t\\t\\t\\t\\t\\n\\n\\t\\t\\t\\t\\t\\t\\t\\n\\t\\t\\t\\t\\t\\t\\t\\n\\t\\t\\t\\t\\t\\t\\n\\n\\t\\t\\t\\t\\t\\t\\t\\n\\t\\t\\t\\t\\t\\t\\t\\n\\t\\t\\t\\t\\t\\t\\n\\n\\t\\t\\t\\t\\t\\t\\t\\n\\t\\t\\t\\t\\t\\t\\t\\n\\t\\t\\t\\t\\t\\t\\n\\n\\t\\t\\t\\t\\t\\t\\t\\n\\t\\t\\t\\t\\t\\t\\t\\n\\t\\t\\t\\t\\t\\t\\n\\n\\t\\t\\t\\t\\t\\t\\t\\n\\t\\t\\t\\t\\t\\t\\t\\n\\t\\t\\t\\t\\t\\t\\n\\n\\t\\t\\t\\t\\t\\t\\t\\n\\t\\t\\t\\t\\t\\t\\t\\t', ' 한글자막(CC)\\n\\t\\t\\t\\t\\t\\t\\t\\n\\t\\t\\t\\t\\t\\t\\t\\n\\t\\t\\t\\t\\t\\t\\n\\n\\t\\t\\t\\t\\t\\t\\t\\n\\t\\t\\t\\t\\t\\t\\t\\n\\t\\t\\t\\t\\t\\t\\t\\t\\n\\t\\t\\t\\t\\t\\t\\t\\t\\t\\n\\t\\t\\t\\t\\t\\t\\t\\t\\t\\t, 화면해설(AD)']\n",
      "['액션', '코미디', '드라마']\n",
      "['액션', '코미디', '드라마']\n"
     ]
    },
    {
     "name": "stderr",
     "output_type": "stream",
     "text": [
      " 12%|█▏        | 6/50 [00:10<01:19,  1.80s/it]\n",
      "  0%|          | 0/2 [00:12<?, ?it/s]\n"
     ]
    },
    {
     "ename": "KeyboardInterrupt",
     "evalue": "",
     "output_type": "error",
     "traceback": [
      "\u001b[1;31m---------------------------------------------------------------------------\u001b[0m",
      "\u001b[1;31mKeyboardInterrupt\u001b[0m                         Traceback (most recent call last)",
      "Cell \u001b[1;32mIn[80], line 61\u001b[0m\n\u001b[0;32m     59\u001b[0m movieG \u001b[38;5;241m=\u001b[39m []\n\u001b[0;32m     60\u001b[0m link \u001b[38;5;241m=\u001b[39m WebDriverWait(driver, \u001b[38;5;241m10\u001b[39m)\u001b[38;5;241m.\u001b[39muntil(EC\u001b[38;5;241m.\u001b[39melement_to_be_clickable((By\u001b[38;5;241m.\u001b[39mLINK_TEXT, movie)))\n\u001b[1;32m---> 61\u001b[0m \u001b[43mlink\u001b[49m\u001b[38;5;241;43m.\u001b[39;49m\u001b[43mclick\u001b[49m\u001b[43m(\u001b[49m\u001b[43m)\u001b[49m\n\u001b[0;32m     63\u001b[0m page \u001b[38;5;241m=\u001b[39m driver\u001b[38;5;241m.\u001b[39mpage_source\n\u001b[0;32m     64\u001b[0m soup \u001b[38;5;241m=\u001b[39m BeautifulSoup(page, \u001b[38;5;124m\"\u001b[39m\u001b[38;5;124mhtml.parser\u001b[39m\u001b[38;5;124m\"\u001b[39m)\n",
      "File \u001b[1;32mc:\\Users\\AAA\\.vscode\\workspace\\AddInEdu\\venv_eda\\Lib\\site-packages\\selenium\\webdriver\\remote\\webelement.py:94\u001b[0m, in \u001b[0;36mWebElement.click\u001b[1;34m(self)\u001b[0m\n\u001b[0;32m     92\u001b[0m \u001b[38;5;28;01mdef\u001b[39;00m \u001b[38;5;21mclick\u001b[39m(\u001b[38;5;28mself\u001b[39m) \u001b[38;5;241m-\u001b[39m\u001b[38;5;241m>\u001b[39m \u001b[38;5;28;01mNone\u001b[39;00m:\n\u001b[0;32m     93\u001b[0m \u001b[38;5;250m    \u001b[39m\u001b[38;5;124;03m\"\"\"Clicks the element.\"\"\"\u001b[39;00m\n\u001b[1;32m---> 94\u001b[0m     \u001b[38;5;28;43mself\u001b[39;49m\u001b[38;5;241;43m.\u001b[39;49m\u001b[43m_execute\u001b[49m\u001b[43m(\u001b[49m\u001b[43mCommand\u001b[49m\u001b[38;5;241;43m.\u001b[39;49m\u001b[43mCLICK_ELEMENT\u001b[49m\u001b[43m)\u001b[49m\n",
      "File \u001b[1;32mc:\\Users\\AAA\\.vscode\\workspace\\AddInEdu\\venv_eda\\Lib\\site-packages\\selenium\\webdriver\\remote\\webelement.py:395\u001b[0m, in \u001b[0;36mWebElement._execute\u001b[1;34m(self, command, params)\u001b[0m\n\u001b[0;32m    393\u001b[0m     params \u001b[38;5;241m=\u001b[39m {}\n\u001b[0;32m    394\u001b[0m params[\u001b[38;5;124m\"\u001b[39m\u001b[38;5;124mid\u001b[39m\u001b[38;5;124m\"\u001b[39m] \u001b[38;5;241m=\u001b[39m \u001b[38;5;28mself\u001b[39m\u001b[38;5;241m.\u001b[39m_id\n\u001b[1;32m--> 395\u001b[0m \u001b[38;5;28;01mreturn\u001b[39;00m \u001b[38;5;28;43mself\u001b[39;49m\u001b[38;5;241;43m.\u001b[39;49m\u001b[43m_parent\u001b[49m\u001b[38;5;241;43m.\u001b[39;49m\u001b[43mexecute\u001b[49m\u001b[43m(\u001b[49m\u001b[43mcommand\u001b[49m\u001b[43m,\u001b[49m\u001b[43m \u001b[49m\u001b[43mparams\u001b[49m\u001b[43m)\u001b[49m\n",
      "File \u001b[1;32mc:\\Users\\AAA\\.vscode\\workspace\\AddInEdu\\venv_eda\\Lib\\site-packages\\selenium\\webdriver\\remote\\webdriver.py:382\u001b[0m, in \u001b[0;36mWebDriver.execute\u001b[1;34m(self, driver_command, params)\u001b[0m\n\u001b[0;32m    379\u001b[0m     \u001b[38;5;28;01melif\u001b[39;00m \u001b[38;5;124m\"\u001b[39m\u001b[38;5;124msessionId\u001b[39m\u001b[38;5;124m\"\u001b[39m \u001b[38;5;129;01mnot\u001b[39;00m \u001b[38;5;129;01min\u001b[39;00m params:\n\u001b[0;32m    380\u001b[0m         params[\u001b[38;5;124m\"\u001b[39m\u001b[38;5;124msessionId\u001b[39m\u001b[38;5;124m\"\u001b[39m] \u001b[38;5;241m=\u001b[39m \u001b[38;5;28mself\u001b[39m\u001b[38;5;241m.\u001b[39msession_id\n\u001b[1;32m--> 382\u001b[0m response \u001b[38;5;241m=\u001b[39m \u001b[38;5;28;43mself\u001b[39;49m\u001b[38;5;241;43m.\u001b[39;49m\u001b[43mcommand_executor\u001b[49m\u001b[38;5;241;43m.\u001b[39;49m\u001b[43mexecute\u001b[49m\u001b[43m(\u001b[49m\u001b[43mdriver_command\u001b[49m\u001b[43m,\u001b[49m\u001b[43m \u001b[49m\u001b[43mparams\u001b[49m\u001b[43m)\u001b[49m\n\u001b[0;32m    383\u001b[0m \u001b[38;5;28;01mif\u001b[39;00m response:\n\u001b[0;32m    384\u001b[0m     \u001b[38;5;28mself\u001b[39m\u001b[38;5;241m.\u001b[39merror_handler\u001b[38;5;241m.\u001b[39mcheck_response(response)\n",
      "File \u001b[1;32mc:\\Users\\AAA\\.vscode\\workspace\\AddInEdu\\venv_eda\\Lib\\site-packages\\selenium\\webdriver\\remote\\remote_connection.py:404\u001b[0m, in \u001b[0;36mRemoteConnection.execute\u001b[1;34m(self, command, params)\u001b[0m\n\u001b[0;32m    402\u001b[0m trimmed \u001b[38;5;241m=\u001b[39m \u001b[38;5;28mself\u001b[39m\u001b[38;5;241m.\u001b[39m_trim_large_entries(params)\n\u001b[0;32m    403\u001b[0m LOGGER\u001b[38;5;241m.\u001b[39mdebug(\u001b[38;5;124m\"\u001b[39m\u001b[38;5;132;01m%s\u001b[39;00m\u001b[38;5;124m \u001b[39m\u001b[38;5;132;01m%s\u001b[39;00m\u001b[38;5;124m \u001b[39m\u001b[38;5;132;01m%s\u001b[39;00m\u001b[38;5;124m\"\u001b[39m, command_info[\u001b[38;5;241m0\u001b[39m], url, \u001b[38;5;28mstr\u001b[39m(trimmed))\n\u001b[1;32m--> 404\u001b[0m \u001b[38;5;28;01mreturn\u001b[39;00m \u001b[38;5;28;43mself\u001b[39;49m\u001b[38;5;241;43m.\u001b[39;49m\u001b[43m_request\u001b[49m\u001b[43m(\u001b[49m\u001b[43mcommand_info\u001b[49m\u001b[43m[\u001b[49m\u001b[38;5;241;43m0\u001b[39;49m\u001b[43m]\u001b[49m\u001b[43m,\u001b[49m\u001b[43m \u001b[49m\u001b[43murl\u001b[49m\u001b[43m,\u001b[49m\u001b[43m \u001b[49m\u001b[43mbody\u001b[49m\u001b[38;5;241;43m=\u001b[39;49m\u001b[43mdata\u001b[49m\u001b[43m)\u001b[49m\n",
      "File \u001b[1;32mc:\\Users\\AAA\\.vscode\\workspace\\AddInEdu\\venv_eda\\Lib\\site-packages\\selenium\\webdriver\\remote\\remote_connection.py:428\u001b[0m, in \u001b[0;36mRemoteConnection._request\u001b[1;34m(self, method, url, body)\u001b[0m\n\u001b[0;32m    425\u001b[0m     body \u001b[38;5;241m=\u001b[39m \u001b[38;5;28;01mNone\u001b[39;00m\n\u001b[0;32m    427\u001b[0m \u001b[38;5;28;01mif\u001b[39;00m \u001b[38;5;28mself\u001b[39m\u001b[38;5;241m.\u001b[39m_client_config\u001b[38;5;241m.\u001b[39mkeep_alive:\n\u001b[1;32m--> 428\u001b[0m     response \u001b[38;5;241m=\u001b[39m \u001b[38;5;28;43mself\u001b[39;49m\u001b[38;5;241;43m.\u001b[39;49m\u001b[43m_conn\u001b[49m\u001b[38;5;241;43m.\u001b[39;49m\u001b[43mrequest\u001b[49m\u001b[43m(\u001b[49m\u001b[43mmethod\u001b[49m\u001b[43m,\u001b[49m\u001b[43m \u001b[49m\u001b[43murl\u001b[49m\u001b[43m,\u001b[49m\u001b[43m \u001b[49m\u001b[43mbody\u001b[49m\u001b[38;5;241;43m=\u001b[39;49m\u001b[43mbody\u001b[49m\u001b[43m,\u001b[49m\u001b[43m \u001b[49m\u001b[43mheaders\u001b[49m\u001b[38;5;241;43m=\u001b[39;49m\u001b[43mheaders\u001b[49m\u001b[43m,\u001b[49m\u001b[43m \u001b[49m\u001b[43mtimeout\u001b[49m\u001b[38;5;241;43m=\u001b[39;49m\u001b[38;5;28;43mself\u001b[39;49m\u001b[38;5;241;43m.\u001b[39;49m\u001b[43m_client_config\u001b[49m\u001b[38;5;241;43m.\u001b[39;49m\u001b[43mtimeout\u001b[49m\u001b[43m)\u001b[49m\n\u001b[0;32m    429\u001b[0m     statuscode \u001b[38;5;241m=\u001b[39m response\u001b[38;5;241m.\u001b[39mstatus\n\u001b[0;32m    430\u001b[0m \u001b[38;5;28;01melse\u001b[39;00m:\n",
      "File \u001b[1;32mc:\\Users\\AAA\\.vscode\\workspace\\AddInEdu\\venv_eda\\Lib\\site-packages\\urllib3\\_request_methods.py:143\u001b[0m, in \u001b[0;36mRequestMethods.request\u001b[1;34m(self, method, url, body, fields, headers, json, **urlopen_kw)\u001b[0m\n\u001b[0;32m    135\u001b[0m     \u001b[38;5;28;01mreturn\u001b[39;00m \u001b[38;5;28mself\u001b[39m\u001b[38;5;241m.\u001b[39mrequest_encode_url(\n\u001b[0;32m    136\u001b[0m         method,\n\u001b[0;32m    137\u001b[0m         url,\n\u001b[1;32m   (...)\u001b[0m\n\u001b[0;32m    140\u001b[0m         \u001b[38;5;241m*\u001b[39m\u001b[38;5;241m*\u001b[39murlopen_kw,\n\u001b[0;32m    141\u001b[0m     )\n\u001b[0;32m    142\u001b[0m \u001b[38;5;28;01melse\u001b[39;00m:\n\u001b[1;32m--> 143\u001b[0m     \u001b[38;5;28;01mreturn\u001b[39;00m \u001b[38;5;28;43mself\u001b[39;49m\u001b[38;5;241;43m.\u001b[39;49m\u001b[43mrequest_encode_body\u001b[49m\u001b[43m(\u001b[49m\n\u001b[0;32m    144\u001b[0m \u001b[43m        \u001b[49m\u001b[43mmethod\u001b[49m\u001b[43m,\u001b[49m\u001b[43m \u001b[49m\u001b[43murl\u001b[49m\u001b[43m,\u001b[49m\u001b[43m \u001b[49m\u001b[43mfields\u001b[49m\u001b[38;5;241;43m=\u001b[39;49m\u001b[43mfields\u001b[49m\u001b[43m,\u001b[49m\u001b[43m \u001b[49m\u001b[43mheaders\u001b[49m\u001b[38;5;241;43m=\u001b[39;49m\u001b[43mheaders\u001b[49m\u001b[43m,\u001b[49m\u001b[43m \u001b[49m\u001b[38;5;241;43m*\u001b[39;49m\u001b[38;5;241;43m*\u001b[39;49m\u001b[43murlopen_kw\u001b[49m\n\u001b[0;32m    145\u001b[0m \u001b[43m    \u001b[49m\u001b[43m)\u001b[49m\n",
      "File \u001b[1;32mc:\\Users\\AAA\\.vscode\\workspace\\AddInEdu\\venv_eda\\Lib\\site-packages\\urllib3\\_request_methods.py:278\u001b[0m, in \u001b[0;36mRequestMethods.request_encode_body\u001b[1;34m(self, method, url, fields, headers, encode_multipart, multipart_boundary, **urlopen_kw)\u001b[0m\n\u001b[0;32m    274\u001b[0m     extra_kw[\u001b[38;5;124m\"\u001b[39m\u001b[38;5;124mheaders\u001b[39m\u001b[38;5;124m\"\u001b[39m]\u001b[38;5;241m.\u001b[39msetdefault(\u001b[38;5;124m\"\u001b[39m\u001b[38;5;124mContent-Type\u001b[39m\u001b[38;5;124m\"\u001b[39m, content_type)\n\u001b[0;32m    276\u001b[0m extra_kw\u001b[38;5;241m.\u001b[39mupdate(urlopen_kw)\n\u001b[1;32m--> 278\u001b[0m \u001b[38;5;28;01mreturn\u001b[39;00m \u001b[38;5;28;43mself\u001b[39;49m\u001b[38;5;241;43m.\u001b[39;49m\u001b[43murlopen\u001b[49m\u001b[43m(\u001b[49m\u001b[43mmethod\u001b[49m\u001b[43m,\u001b[49m\u001b[43m \u001b[49m\u001b[43murl\u001b[49m\u001b[43m,\u001b[49m\u001b[43m \u001b[49m\u001b[38;5;241;43m*\u001b[39;49m\u001b[38;5;241;43m*\u001b[39;49m\u001b[43mextra_kw\u001b[49m\u001b[43m)\u001b[49m\n",
      "File \u001b[1;32mc:\\Users\\AAA\\.vscode\\workspace\\AddInEdu\\venv_eda\\Lib\\site-packages\\urllib3\\poolmanager.py:443\u001b[0m, in \u001b[0;36mPoolManager.urlopen\u001b[1;34m(self, method, url, redirect, **kw)\u001b[0m\n\u001b[0;32m    441\u001b[0m     response \u001b[38;5;241m=\u001b[39m conn\u001b[38;5;241m.\u001b[39murlopen(method, url, \u001b[38;5;241m*\u001b[39m\u001b[38;5;241m*\u001b[39mkw)\n\u001b[0;32m    442\u001b[0m \u001b[38;5;28;01melse\u001b[39;00m:\n\u001b[1;32m--> 443\u001b[0m     response \u001b[38;5;241m=\u001b[39m \u001b[43mconn\u001b[49m\u001b[38;5;241;43m.\u001b[39;49m\u001b[43murlopen\u001b[49m\u001b[43m(\u001b[49m\u001b[43mmethod\u001b[49m\u001b[43m,\u001b[49m\u001b[43m \u001b[49m\u001b[43mu\u001b[49m\u001b[38;5;241;43m.\u001b[39;49m\u001b[43mrequest_uri\u001b[49m\u001b[43m,\u001b[49m\u001b[43m \u001b[49m\u001b[38;5;241;43m*\u001b[39;49m\u001b[38;5;241;43m*\u001b[39;49m\u001b[43mkw\u001b[49m\u001b[43m)\u001b[49m\n\u001b[0;32m    445\u001b[0m redirect_location \u001b[38;5;241m=\u001b[39m redirect \u001b[38;5;129;01mand\u001b[39;00m response\u001b[38;5;241m.\u001b[39mget_redirect_location()\n\u001b[0;32m    446\u001b[0m \u001b[38;5;28;01mif\u001b[39;00m \u001b[38;5;129;01mnot\u001b[39;00m redirect_location:\n",
      "File \u001b[1;32mc:\\Users\\AAA\\.vscode\\workspace\\AddInEdu\\venv_eda\\Lib\\site-packages\\urllib3\\connectionpool.py:789\u001b[0m, in \u001b[0;36mHTTPConnectionPool.urlopen\u001b[1;34m(self, method, url, body, headers, retries, redirect, assert_same_host, timeout, pool_timeout, release_conn, chunked, body_pos, preload_content, decode_content, **response_kw)\u001b[0m\n\u001b[0;32m    786\u001b[0m response_conn \u001b[38;5;241m=\u001b[39m conn \u001b[38;5;28;01mif\u001b[39;00m \u001b[38;5;129;01mnot\u001b[39;00m release_conn \u001b[38;5;28;01melse\u001b[39;00m \u001b[38;5;28;01mNone\u001b[39;00m\n\u001b[0;32m    788\u001b[0m \u001b[38;5;66;03m# Make the request on the HTTPConnection object\u001b[39;00m\n\u001b[1;32m--> 789\u001b[0m response \u001b[38;5;241m=\u001b[39m \u001b[38;5;28;43mself\u001b[39;49m\u001b[38;5;241;43m.\u001b[39;49m\u001b[43m_make_request\u001b[49m\u001b[43m(\u001b[49m\n\u001b[0;32m    790\u001b[0m \u001b[43m    \u001b[49m\u001b[43mconn\u001b[49m\u001b[43m,\u001b[49m\n\u001b[0;32m    791\u001b[0m \u001b[43m    \u001b[49m\u001b[43mmethod\u001b[49m\u001b[43m,\u001b[49m\n\u001b[0;32m    792\u001b[0m \u001b[43m    \u001b[49m\u001b[43murl\u001b[49m\u001b[43m,\u001b[49m\n\u001b[0;32m    793\u001b[0m \u001b[43m    \u001b[49m\u001b[43mtimeout\u001b[49m\u001b[38;5;241;43m=\u001b[39;49m\u001b[43mtimeout_obj\u001b[49m\u001b[43m,\u001b[49m\n\u001b[0;32m    794\u001b[0m \u001b[43m    \u001b[49m\u001b[43mbody\u001b[49m\u001b[38;5;241;43m=\u001b[39;49m\u001b[43mbody\u001b[49m\u001b[43m,\u001b[49m\n\u001b[0;32m    795\u001b[0m \u001b[43m    \u001b[49m\u001b[43mheaders\u001b[49m\u001b[38;5;241;43m=\u001b[39;49m\u001b[43mheaders\u001b[49m\u001b[43m,\u001b[49m\n\u001b[0;32m    796\u001b[0m \u001b[43m    \u001b[49m\u001b[43mchunked\u001b[49m\u001b[38;5;241;43m=\u001b[39;49m\u001b[43mchunked\u001b[49m\u001b[43m,\u001b[49m\n\u001b[0;32m    797\u001b[0m \u001b[43m    \u001b[49m\u001b[43mretries\u001b[49m\u001b[38;5;241;43m=\u001b[39;49m\u001b[43mretries\u001b[49m\u001b[43m,\u001b[49m\n\u001b[0;32m    798\u001b[0m \u001b[43m    \u001b[49m\u001b[43mresponse_conn\u001b[49m\u001b[38;5;241;43m=\u001b[39;49m\u001b[43mresponse_conn\u001b[49m\u001b[43m,\u001b[49m\n\u001b[0;32m    799\u001b[0m \u001b[43m    \u001b[49m\u001b[43mpreload_content\u001b[49m\u001b[38;5;241;43m=\u001b[39;49m\u001b[43mpreload_content\u001b[49m\u001b[43m,\u001b[49m\n\u001b[0;32m    800\u001b[0m \u001b[43m    \u001b[49m\u001b[43mdecode_content\u001b[49m\u001b[38;5;241;43m=\u001b[39;49m\u001b[43mdecode_content\u001b[49m\u001b[43m,\u001b[49m\n\u001b[0;32m    801\u001b[0m \u001b[43m    \u001b[49m\u001b[38;5;241;43m*\u001b[39;49m\u001b[38;5;241;43m*\u001b[39;49m\u001b[43mresponse_kw\u001b[49m\u001b[43m,\u001b[49m\n\u001b[0;32m    802\u001b[0m \u001b[43m\u001b[49m\u001b[43m)\u001b[49m\n\u001b[0;32m    804\u001b[0m \u001b[38;5;66;03m# Everything went great!\u001b[39;00m\n\u001b[0;32m    805\u001b[0m clean_exit \u001b[38;5;241m=\u001b[39m \u001b[38;5;28;01mTrue\u001b[39;00m\n",
      "File \u001b[1;32mc:\\Users\\AAA\\.vscode\\workspace\\AddInEdu\\venv_eda\\Lib\\site-packages\\urllib3\\connectionpool.py:536\u001b[0m, in \u001b[0;36mHTTPConnectionPool._make_request\u001b[1;34m(self, conn, method, url, body, headers, retries, timeout, chunked, response_conn, preload_content, decode_content, enforce_content_length)\u001b[0m\n\u001b[0;32m    534\u001b[0m \u001b[38;5;66;03m# Receive the response from the server\u001b[39;00m\n\u001b[0;32m    535\u001b[0m \u001b[38;5;28;01mtry\u001b[39;00m:\n\u001b[1;32m--> 536\u001b[0m     response \u001b[38;5;241m=\u001b[39m \u001b[43mconn\u001b[49m\u001b[38;5;241;43m.\u001b[39;49m\u001b[43mgetresponse\u001b[49m\u001b[43m(\u001b[49m\u001b[43m)\u001b[49m\n\u001b[0;32m    537\u001b[0m \u001b[38;5;28;01mexcept\u001b[39;00m (BaseSSLError, \u001b[38;5;167;01mOSError\u001b[39;00m) \u001b[38;5;28;01mas\u001b[39;00m e:\n\u001b[0;32m    538\u001b[0m     \u001b[38;5;28mself\u001b[39m\u001b[38;5;241m.\u001b[39m_raise_timeout(err\u001b[38;5;241m=\u001b[39me, url\u001b[38;5;241m=\u001b[39murl, timeout_value\u001b[38;5;241m=\u001b[39mread_timeout)\n",
      "File \u001b[1;32mc:\\Users\\AAA\\.vscode\\workspace\\AddInEdu\\venv_eda\\Lib\\site-packages\\urllib3\\connection.py:507\u001b[0m, in \u001b[0;36mHTTPConnection.getresponse\u001b[1;34m(self)\u001b[0m\n\u001b[0;32m    504\u001b[0m \u001b[38;5;28;01mfrom\u001b[39;00m \u001b[38;5;21;01m.\u001b[39;00m\u001b[38;5;21;01mresponse\u001b[39;00m \u001b[38;5;28;01mimport\u001b[39;00m HTTPResponse\n\u001b[0;32m    506\u001b[0m \u001b[38;5;66;03m# Get the response from http.client.HTTPConnection\u001b[39;00m\n\u001b[1;32m--> 507\u001b[0m httplib_response \u001b[38;5;241m=\u001b[39m \u001b[38;5;28;43msuper\u001b[39;49m\u001b[43m(\u001b[49m\u001b[43m)\u001b[49m\u001b[38;5;241;43m.\u001b[39;49m\u001b[43mgetresponse\u001b[49m\u001b[43m(\u001b[49m\u001b[43m)\u001b[49m\n\u001b[0;32m    509\u001b[0m \u001b[38;5;28;01mtry\u001b[39;00m:\n\u001b[0;32m    510\u001b[0m     assert_header_parsing(httplib_response\u001b[38;5;241m.\u001b[39mmsg)\n",
      "File \u001b[1;32m~\\AppData\\Local\\Programs\\Python\\Python313\\Lib\\http\\client.py:1428\u001b[0m, in \u001b[0;36mHTTPConnection.getresponse\u001b[1;34m(self)\u001b[0m\n\u001b[0;32m   1426\u001b[0m \u001b[38;5;28;01mtry\u001b[39;00m:\n\u001b[0;32m   1427\u001b[0m     \u001b[38;5;28;01mtry\u001b[39;00m:\n\u001b[1;32m-> 1428\u001b[0m         \u001b[43mresponse\u001b[49m\u001b[38;5;241;43m.\u001b[39;49m\u001b[43mbegin\u001b[49m\u001b[43m(\u001b[49m\u001b[43m)\u001b[49m\n\u001b[0;32m   1429\u001b[0m     \u001b[38;5;28;01mexcept\u001b[39;00m \u001b[38;5;167;01mConnectionError\u001b[39;00m:\n\u001b[0;32m   1430\u001b[0m         \u001b[38;5;28mself\u001b[39m\u001b[38;5;241m.\u001b[39mclose()\n",
      "File \u001b[1;32m~\\AppData\\Local\\Programs\\Python\\Python313\\Lib\\http\\client.py:331\u001b[0m, in \u001b[0;36mHTTPResponse.begin\u001b[1;34m(self)\u001b[0m\n\u001b[0;32m    329\u001b[0m \u001b[38;5;66;03m# read until we get a non-100 response\u001b[39;00m\n\u001b[0;32m    330\u001b[0m \u001b[38;5;28;01mwhile\u001b[39;00m \u001b[38;5;28;01mTrue\u001b[39;00m:\n\u001b[1;32m--> 331\u001b[0m     version, status, reason \u001b[38;5;241m=\u001b[39m \u001b[38;5;28;43mself\u001b[39;49m\u001b[38;5;241;43m.\u001b[39;49m\u001b[43m_read_status\u001b[49m\u001b[43m(\u001b[49m\u001b[43m)\u001b[49m\n\u001b[0;32m    332\u001b[0m     \u001b[38;5;28;01mif\u001b[39;00m status \u001b[38;5;241m!=\u001b[39m CONTINUE:\n\u001b[0;32m    333\u001b[0m         \u001b[38;5;28;01mbreak\u001b[39;00m\n",
      "File \u001b[1;32m~\\AppData\\Local\\Programs\\Python\\Python313\\Lib\\http\\client.py:292\u001b[0m, in \u001b[0;36mHTTPResponse._read_status\u001b[1;34m(self)\u001b[0m\n\u001b[0;32m    291\u001b[0m \u001b[38;5;28;01mdef\u001b[39;00m \u001b[38;5;21m_read_status\u001b[39m(\u001b[38;5;28mself\u001b[39m):\n\u001b[1;32m--> 292\u001b[0m     line \u001b[38;5;241m=\u001b[39m \u001b[38;5;28mstr\u001b[39m(\u001b[38;5;28;43mself\u001b[39;49m\u001b[38;5;241;43m.\u001b[39;49m\u001b[43mfp\u001b[49m\u001b[38;5;241;43m.\u001b[39;49m\u001b[43mreadline\u001b[49m\u001b[43m(\u001b[49m\u001b[43m_MAXLINE\u001b[49m\u001b[43m \u001b[49m\u001b[38;5;241;43m+\u001b[39;49m\u001b[43m \u001b[49m\u001b[38;5;241;43m1\u001b[39;49m\u001b[43m)\u001b[49m, \u001b[38;5;124m\"\u001b[39m\u001b[38;5;124miso-8859-1\u001b[39m\u001b[38;5;124m\"\u001b[39m)\n\u001b[0;32m    293\u001b[0m     \u001b[38;5;28;01mif\u001b[39;00m \u001b[38;5;28mlen\u001b[39m(line) \u001b[38;5;241m>\u001b[39m _MAXLINE:\n\u001b[0;32m    294\u001b[0m         \u001b[38;5;28;01mraise\u001b[39;00m LineTooLong(\u001b[38;5;124m\"\u001b[39m\u001b[38;5;124mstatus line\u001b[39m\u001b[38;5;124m\"\u001b[39m)\n",
      "File \u001b[1;32m~\\AppData\\Local\\Programs\\Python\\Python313\\Lib\\socket.py:719\u001b[0m, in \u001b[0;36mSocketIO.readinto\u001b[1;34m(self, b)\u001b[0m\n\u001b[0;32m    717\u001b[0m     \u001b[38;5;28;01mraise\u001b[39;00m \u001b[38;5;167;01mOSError\u001b[39;00m(\u001b[38;5;124m\"\u001b[39m\u001b[38;5;124mcannot read from timed out object\u001b[39m\u001b[38;5;124m\"\u001b[39m)\n\u001b[0;32m    718\u001b[0m \u001b[38;5;28;01mtry\u001b[39;00m:\n\u001b[1;32m--> 719\u001b[0m     \u001b[38;5;28;01mreturn\u001b[39;00m \u001b[38;5;28;43mself\u001b[39;49m\u001b[38;5;241;43m.\u001b[39;49m\u001b[43m_sock\u001b[49m\u001b[38;5;241;43m.\u001b[39;49m\u001b[43mrecv_into\u001b[49m\u001b[43m(\u001b[49m\u001b[43mb\u001b[49m\u001b[43m)\u001b[49m\n\u001b[0;32m    720\u001b[0m \u001b[38;5;28;01mexcept\u001b[39;00m timeout:\n\u001b[0;32m    721\u001b[0m     \u001b[38;5;28mself\u001b[39m\u001b[38;5;241m.\u001b[39m_timeout_occurred \u001b[38;5;241m=\u001b[39m \u001b[38;5;28;01mTrue\u001b[39;00m\n",
      "\u001b[1;31mKeyboardInterrupt\u001b[0m: "
     ]
    }
   ],
   "source": [
    "movie_names = []\n",
    "movie_viewers = []\n",
    "movie_genre = []\n",
    "movie_years = []\n",
    "movieG = []\n",
    "\n",
    "options = webdriver.ChromeOptions()\n",
    "\n",
    "prefs = {\"download.default_directory\" : \"/home/lim/dev_ws/eda/data\", \"download.prompt_for_download\":False}\n",
    "options.add_experimental_option(\"prefs\", prefs)\n",
    "\n",
    "url = \"https://www.kobis.or.kr/kobis/business/stat/boxs/findYearlyBoxOfficeList.do\"\n",
    "driver = webdriver.Chrome(service=Service(\"C:/Users/AAA/.vscode/workspace/AddInEdu/driver/chromedriver-win64/chromedriver.exe\"), options=options)\n",
    "\n",
    "driver.get(url)\n",
    "driver.set_window_size(1800, 1300)\n",
    "\n",
    "year_dropdown = driver.find_element(By.ID, \"sSearchYearFrom\")\n",
    "select = Select(year_dropdown)  # Use Select to interact with the dropdown\n",
    "years_list = select.options  # Get all options in the dropdown\n",
    "\n",
    "years = []\n",
    "for option in years_list:\n",
    "    years.append(option.get_attribute(\"value\"))\n",
    "\n",
    "# Limit to the last few years (example: from the 10th year onward)\n",
    "years = years[9:]\n",
    "years = years[:2]\n",
    "# Loop through the years and perform scraping\n",
    "for yearly in tqdm(years):\n",
    "    year_dropdown = driver.find_element(By.ID, \"sSearchYearFrom\")\n",
    "    select = Select(year_dropdown)  # Re-initialize the Select object\n",
    "    \n",
    "    driver.execute_script(\"window.scrollTo(0, 0)\")\n",
    "    select.select_by_value(yearly)  # Select the year from the dropdown\n",
    "    \n",
    "    # Click the \"show\" button to load the data\n",
    "    show = driver.find_element(By.CLASS_NAME, \"wrap_btn\")\n",
    "    show.click()\n",
    "    time.sleep(1)\n",
    "\n",
    "    movieN = []\n",
    "    # Wait for the page to load and parse it\n",
    "    page = driver.page_source\n",
    "    soup = BeautifulSoup(page, \"html.parser\")\n",
    "    movies = soup.find(\"table\", \"tbl_comm th_sort\")\n",
    "    moviesList = movies.find_all(\"span\", class_=\"ellip per90\")\n",
    "    for movie in moviesList:\n",
    "        movie = movie.find(\"a\").text\n",
    "        movie_names.append(movie)\n",
    "        movieN.append(movie)\n",
    "        movie_years.append(yearly)\n",
    "    \n",
    "    movieL = driver.find_elements(By.ID, \"td_audiAcc\")\n",
    "    for movie in movieL:\n",
    "        movie_viewers.append(movie.text)\n",
    "\n",
    "    for movie in tqdm(movieN):\n",
    "        movieG = []\n",
    "        link = WebDriverWait(driver, 10).until(EC.element_to_be_clickable((By.LINK_TEXT, movie)))\n",
    "        link.click()\n",
    "\n",
    "        page = driver.page_source\n",
    "        soup = BeautifulSoup(page, \"html.parser\")\n",
    "\n",
    "        dt = soup.find(\"dt\", text=\"요약정보\")\n",
    "        if dt:\n",
    "            dd = dt.find_next(\"dd\")  # Get the associated <dd> element\n",
    "            if dd:\n",
    "                # Extract and clean the genre information\n",
    "                raw_text = dd.get_text(separator=\"|\").strip()  # Use '|' as separator for clarity\n",
    "                parts = raw_text.split(\"|\")  # Split by '|'\n",
    "                genre_parts = [part.strip() for part in parts if \",\" in part]  # Filter parts with commas (genres)\n",
    "                for genre in genre_parts:\n",
    "                    # Further split by commas to separate multiple genres\n",
    "                    movieG.extend([g.strip() for g in genre.split(\",\")])\n",
    "                    # Filter only recognized genres\n",
    "                    genres = [                print(parts)\n",
    "                        '미스터리', '공포(호러)', '액션', '범죄', '판타지', '드라마', 'SF', \n",
    "                        '코미디', '뮤지컬', '애니메이션', '스릴러', '어드벤처', '사극', '멜로/로맨스'\n",
    "                    ]\n",
    "                    current_movie_genres = [item for item in movieG if item in genres]\n",
    "                    print(current_movie_genres)\n",
    "                movie_genre.append(current_movie_genres)\n",
    "            else:\n",
    "                # If no <dd> found, append an empty list\n",
    "                movie_genre.append([])\n",
    "        else:\n",
    "            # If no \"요약정보\" section, append an empty list\n",
    "            movie_genre.append([])\n",
    "\n",
    "        close = driver.find_element(By.CLASS_NAME, \"close\")\n",
    "        close.click()\n",
    "\n",
    "len(movie_names), len(movie_viewers), len(movie_genre), len(movie_years)"
   ]
  },
  {
   "cell_type": "code",
   "execution_count": 75,
   "metadata": {},
   "outputs": [
    {
     "data": {
      "text/plain": [
       "(100, 100, 100, 100)"
      ]
     },
     "execution_count": 75,
     "metadata": {},
     "output_type": "execute_result"
    }
   ],
   "source": [
    "len(movie_names), len(movie_viewers), len(movie_genre), len(movie_years)"
   ]
  },
  {
   "cell_type": "code",
   "execution_count": 16,
   "metadata": {},
   "outputs": [
    {
     "data": {
      "text/plain": [
       "(['미스터리',\n",
       "  '공포(호러)',\n",
       "  '액션',\n",
       "  '범죄',\n",
       "  '액션',\n",
       "  '범죄',\n",
       "  '판타지',\n",
       "  '드라마',\n",
       "  '공포(호러)',\n",
       "  'SF',\n",
       "  '액션',\n",
       "  '코미디',\n",
       "  'SF',\n",
       "  '판타지',\n",
       "  '뮤지컬',\n",
       "  '범죄',\n",
       "  '액션',\n",
       "  '애니메이션',\n",
       "  '액션',\n",
       "  '코미디',\n",
       "  '액션',\n",
       "  'SF',\n",
       "  '스릴러',\n",
       "  '애니메이션',\n",
       "  '액션',\n",
       "  '어드벤처',\n",
       "  '코미디',\n",
       "  '미스터리',\n",
       "  '스릴러',\n",
       "  '사극',\n",
       "  '액션',\n",
       "  '범죄',\n",
       "  '드라마',\n",
       "  '액션',\n",
       "  '사극',\n",
       "  '액션',\n",
       "  'SF',\n",
       "  '드라마',\n",
       "  '멜로/로맨스',\n",
       "  '액션',\n",
       "  '어드벤처',\n",
       "  '드라마',\n",
       "  '범죄',\n",
       "  '드라마',\n",
       "  '뮤지컬',\n",
       "  '범죄',\n",
       "  '드라마',\n",
       "  '액션',\n",
       "  '어드벤처',\n",
       "  'SF'],\n",
       " 50)"
      ]
     },
     "execution_count": 16,
     "metadata": {},
     "output_type": "execute_result"
    }
   ],
   "source": [
    "movie_genre, len(movie_genre)"
   ]
  },
  {
   "cell_type": "code",
   "execution_count": 46,
   "metadata": {},
   "outputs": [
    {
     "name": "stderr",
     "output_type": "stream",
     "text": [
      "  0%|          | 0/6 [00:00<?, ?it/s]"
     ]
    },
    {
     "name": "stdout",
     "output_type": "stream",
     "text": [
      "2019\n"
     ]
    },
    {
     "name": "stderr",
     "output_type": "stream",
     "text": []
    },
    {
     "name": "stdout",
     "output_type": "stream",
     "text": [
      "극한직업\n"
     ]
    },
    {
     "name": "stderr",
     "output_type": "stream",
     "text": [
      "C:\\Users\\AAA\\AppData\\Local\\Temp\\ipykernel_18688\\3651094932.py:60: DeprecationWarning: The 'text' argument to find()-type methods is deprecated. Use 'string' instead.\n",
      "  for dt in soup.find_all(\"dt\", text=\"요약정보\"):\n"
     ]
    },
    {
     "name": "stdout",
     "output_type": "stream",
     "text": [
      "어벤져스: 엔드게임\n"
     ]
    },
    {
     "name": "stderr",
     "output_type": "stream",
     "text": []
    },
    {
     "name": "stdout",
     "output_type": "stream",
     "text": [
      "겨울왕국 2\n"
     ]
    },
    {
     "name": "stderr",
     "output_type": "stream",
     "text": []
    },
    {
     "name": "stdout",
     "output_type": "stream",
     "text": [
      "알라딘\n"
     ]
    },
    {
     "name": "stderr",
     "output_type": "stream",
     "text": []
    },
    {
     "name": "stdout",
     "output_type": "stream",
     "text": [
      "기생충\n"
     ]
    },
    {
     "name": "stderr",
     "output_type": "stream",
     "text": []
    },
    {
     "name": "stdout",
     "output_type": "stream",
     "text": [
      "엑시트\n"
     ]
    },
    {
     "name": "stderr",
     "output_type": "stream",
     "text": []
    },
    {
     "name": "stdout",
     "output_type": "stream",
     "text": [
      "스파이더맨: 파 프롬 홈\n"
     ]
    },
    {
     "name": "stderr",
     "output_type": "stream",
     "text": []
    },
    {
     "name": "stdout",
     "output_type": "stream",
     "text": [
      "백두산\n"
     ]
    },
    {
     "name": "stderr",
     "output_type": "stream",
     "text": []
    },
    {
     "name": "stdout",
     "output_type": "stream",
     "text": [
      "캡틴 마블\n"
     ]
    },
    {
     "name": "stderr",
     "output_type": "stream",
     "text": []
    },
    {
     "name": "stdout",
     "output_type": "stream",
     "text": [
      "조커\n"
     ]
    },
    {
     "name": "stderr",
     "output_type": "stream",
     "text": []
    },
    {
     "name": "stdout",
     "output_type": "stream",
     "text": [
      "봉오동 전투\n"
     ]
    },
    {
     "name": "stderr",
     "output_type": "stream",
     "text": []
    },
    {
     "name": "stdout",
     "output_type": "stream",
     "text": [
      "라이온 킹\n"
     ]
    },
    {
     "name": "stderr",
     "output_type": "stream",
     "text": []
    },
    {
     "name": "stdout",
     "output_type": "stream",
     "text": [
      "나쁜 녀석들: 더 무비\n"
     ]
    },
    {
     "name": "stderr",
     "output_type": "stream",
     "text": []
    },
    {
     "name": "stdout",
     "output_type": "stream",
     "text": [
      "82년생 김지영\n"
     ]
    },
    {
     "name": "stderr",
     "output_type": "stream",
     "text": []
    },
    {
     "name": "stdout",
     "output_type": "stream",
     "text": [
      "분노의 질주: 홉스&쇼\n"
     ]
    },
    {
     "name": "stderr",
     "output_type": "stream",
     "text": []
    },
    {
     "name": "stdout",
     "output_type": "stream",
     "text": [
      "토이 스토리 4\n"
     ]
    },
    {
     "name": "stderr",
     "output_type": "stream",
     "text": []
    },
    {
     "name": "stdout",
     "output_type": "stream",
     "text": [
      "돈\n"
     ]
    },
    {
     "name": "stderr",
     "output_type": "stream",
     "text": []
    },
    {
     "name": "stdout",
     "output_type": "stream",
     "text": [
      "악인전\n"
     ]
    },
    {
     "name": "stderr",
     "output_type": "stream",
     "text": []
    },
    {
     "name": "stdout",
     "output_type": "stream",
     "text": [
      "가장 보통의 연애\n"
     ]
    },
    {
     "name": "stderr",
     "output_type": "stream",
     "text": []
    },
    {
     "name": "stdout",
     "output_type": "stream",
     "text": [
      "말모이\n"
     ]
    },
    {
     "name": "stderr",
     "output_type": "stream",
     "text": []
    },
    {
     "name": "stdout",
     "output_type": "stream",
     "text": [
      "증인\n"
     ]
    },
    {
     "name": "stderr",
     "output_type": "stream",
     "text": []
    },
    {
     "name": "stdout",
     "output_type": "stream",
     "text": [
      "시동\n"
     ]
    },
    {
     "name": "stderr",
     "output_type": "stream",
     "text": []
    },
    {
     "name": "stdout",
     "output_type": "stream",
     "text": [
      "블랙머니\n"
     ]
    },
    {
     "name": "stderr",
     "output_type": "stream",
     "text": []
    },
    {
     "name": "stdout",
     "output_type": "stream",
     "text": [
      "터미네이터: 다크 페이트\n"
     ]
    },
    {
     "name": "stderr",
     "output_type": "stream",
     "text": []
    },
    {
     "name": "stdout",
     "output_type": "stream",
     "text": [
      "사바하\n"
     ]
    },
    {
     "name": "stderr",
     "output_type": "stream",
     "text": []
    },
    {
     "name": "stdout",
     "output_type": "stream",
     "text": [
      "타짜: 원 아이드 잭\n"
     ]
    },
    {
     "name": "stderr",
     "output_type": "stream",
     "text": []
    },
    {
     "name": "stdout",
     "output_type": "stream",
     "text": [
      "신의 한 수: 귀수편\n"
     ]
    },
    {
     "name": "stderr",
     "output_type": "stream",
     "text": []
    },
    {
     "name": "stdout",
     "output_type": "stream",
     "text": [
      "알리타: 배틀 엔젤\n"
     ]
    },
    {
     "name": "stderr",
     "output_type": "stream",
     "text": []
    },
    {
     "name": "stdout",
     "output_type": "stream",
     "text": [
      "내안의 그놈\n"
     ]
    },
    {
     "name": "stderr",
     "output_type": "stream",
     "text": []
    },
    {
     "name": "stdout",
     "output_type": "stream",
     "text": [
      "뺑반\n"
     ]
    },
    {
     "name": "stderr",
     "output_type": "stream",
     "text": []
    },
    {
     "name": "stdout",
     "output_type": "stream",
     "text": [
      "변신\n"
     ]
    },
    {
     "name": "stderr",
     "output_type": "stream",
     "text": []
    },
    {
     "name": "stdout",
     "output_type": "stream",
     "text": [
      "주먹왕 랄프 2: 인터넷 속으로\n"
     ]
    },
    {
     "name": "stderr",
     "output_type": "stream",
     "text": []
    },
    {
     "name": "stdout",
     "output_type": "stream",
     "text": [
      "걸캅스\n"
     ]
    },
    {
     "name": "stderr",
     "output_type": "stream",
     "text": []
    },
    {
     "name": "stdout",
     "output_type": "stream",
     "text": [
      "사자\n"
     ]
    },
    {
     "name": "stderr",
     "output_type": "stream",
     "text": []
    },
    {
     "name": "stdout",
     "output_type": "stream",
     "text": [
      "아쿠아맨\n"
     ]
    },
    {
     "name": "stderr",
     "output_type": "stream",
     "text": []
    },
    {
     "name": "stdout",
     "output_type": "stream",
     "text": [
      "드래곤 길들이기 3\n"
     ]
    },
    {
     "name": "stderr",
     "output_type": "stream",
     "text": []
    },
    {
     "name": "stdout",
     "output_type": "stream",
     "text": [
      "나의 특별한 형제\n"
     ]
    },
    {
     "name": "stderr",
     "output_type": "stream",
     "text": []
    },
    {
     "name": "stdout",
     "output_type": "stream",
     "text": [
      "어스\n"
     ]
    },
    {
     "name": "stderr",
     "output_type": "stream",
     "text": []
    },
    {
     "name": "stdout",
     "output_type": "stream",
     "text": [
      "말레피센트 2\n"
     ]
    },
    {
     "name": "stderr",
     "output_type": "stream",
     "text": []
    },
    {
     "name": "stdout",
     "output_type": "stream",
     "text": [
      "유열의 음악앨범\n"
     ]
    },
    {
     "name": "stderr",
     "output_type": "stream",
     "text": []
    },
    {
     "name": "stdout",
     "output_type": "stream",
     "text": [
      "퍼펙트맨\n"
     ]
    },
    {
     "name": "stderr",
     "output_type": "stream",
     "text": []
    },
    {
     "name": "stdout",
     "output_type": "stream",
     "text": [
      "포드 V 페라리\n"
     ]
    },
    {
     "name": "stderr",
     "output_type": "stream",
     "text": []
    },
    {
     "name": "stdout",
     "output_type": "stream",
     "text": [
      "생일\n"
     ]
    },
    {
     "name": "stderr",
     "output_type": "stream",
     "text": []
    },
    {
     "name": "stdout",
     "output_type": "stream",
     "text": [
      "힘을 내요, 미스터 리\n"
     ]
    },
    {
     "name": "stderr",
     "output_type": "stream",
     "text": []
    },
    {
     "name": "stdout",
     "output_type": "stream",
     "text": [
      "항거:유관순 이야기\n"
     ]
    },
    {
     "name": "stderr",
     "output_type": "stream",
     "text": []
    },
    {
     "name": "stdout",
     "output_type": "stream",
     "text": [
      "장사리 : 잊혀진 영웅들\n"
     ]
    },
    {
     "name": "stderr",
     "output_type": "stream",
     "text": []
    },
    {
     "name": "stdout",
     "output_type": "stream",
     "text": [
      "마이펫의 이중생활 2\n"
     ]
    },
    {
     "name": "stderr",
     "output_type": "stream",
     "text": []
    },
    {
     "name": "stdout",
     "output_type": "stream",
     "text": [
      "롱 리브 더 킹: 목포 영웅\n"
     ]
    },
    {
     "name": "stderr",
     "output_type": "stream",
     "text": []
    },
    {
     "name": "stdout",
     "output_type": "stream",
     "text": [
      "쥬만지: 넥스트 레벨\n"
     ]
    },
    {
     "name": "stderr",
     "output_type": "stream",
     "text": []
    },
    {
     "name": "stdout",
     "output_type": "stream",
     "text": [
      "존 윅 3: 파라벨룸\n"
     ]
    },
    {
     "name": "stderr",
     "output_type": "stream",
     "text": [
      "100%|██████████| 50/50 [01:17<00:00,  1.55s/it]\n",
      " 17%|█▋        | 1/6 [01:19<06:38, 79.60s/it]"
     ]
    },
    {
     "name": "stdout",
     "output_type": "stream",
     "text": [
      "2020\n"
     ]
    },
    {
     "name": "stderr",
     "output_type": "stream",
     "text": []
    },
    {
     "name": "stdout",
     "output_type": "stream",
     "text": [
      "남산의 부장들\n"
     ]
    },
    {
     "name": "stderr",
     "output_type": "stream",
     "text": []
    },
    {
     "name": "stdout",
     "output_type": "stream",
     "text": [
      "다만 악에서 구하소서\n"
     ]
    },
    {
     "name": "stderr",
     "output_type": "stream",
     "text": []
    },
    {
     "name": "stdout",
     "output_type": "stream",
     "text": [
      "반도\n"
     ]
    },
    {
     "name": "stderr",
     "output_type": "stream",
     "text": []
    },
    {
     "name": "stdout",
     "output_type": "stream",
     "text": [
      "히트맨\n"
     ]
    },
    {
     "name": "stderr",
     "output_type": "stream",
     "text": []
    },
    {
     "name": "stdout",
     "output_type": "stream",
     "text": [
      "테넷\n"
     ]
    },
    {
     "name": "stderr",
     "output_type": "stream",
     "text": []
    },
    {
     "name": "stdout",
     "output_type": "stream",
     "text": [
      "백두산\n"
     ]
    },
    {
     "name": "stderr",
     "output_type": "stream",
     "text": []
    },
    {
     "name": "stdout",
     "output_type": "stream",
     "text": [
      "#살아있다\n"
     ]
    },
    {
     "name": "stderr",
     "output_type": "stream",
     "text": []
    },
    {
     "name": "stdout",
     "output_type": "stream",
     "text": [
      "강철비2: 정상회담\n"
     ]
    },
    {
     "name": "stderr",
     "output_type": "stream",
     "text": []
    },
    {
     "name": "stdout",
     "output_type": "stream",
     "text": [
      "담보\n"
     ]
    },
    {
     "name": "stderr",
     "output_type": "stream",
     "text": []
    },
    {
     "name": "stdout",
     "output_type": "stream",
     "text": [
      "닥터 두리틀\n"
     ]
    },
    {
     "name": "stderr",
     "output_type": "stream",
     "text": []
    },
    {
     "name": "stdout",
     "output_type": "stream",
     "text": [
      "삼진그룹 영어토익반\n"
     ]
    },
    {
     "name": "stderr",
     "output_type": "stream",
     "text": []
    },
    {
     "name": "stdout",
     "output_type": "stream",
     "text": [
      "정직한 후보\n"
     ]
    },
    {
     "name": "stderr",
     "output_type": "stream",
     "text": []
    },
    {
     "name": "stdout",
     "output_type": "stream",
     "text": [
      "도굴\n"
     ]
    },
    {
     "name": "stderr",
     "output_type": "stream",
     "text": []
    },
    {
     "name": "stdout",
     "output_type": "stream",
     "text": [
      "클로젯\n"
     ]
    },
    {
     "name": "stderr",
     "output_type": "stream",
     "text": []
    },
    {
     "name": "stdout",
     "output_type": "stream",
     "text": [
      "오케이 마담\n"
     ]
    },
    {
     "name": "stderr",
     "output_type": "stream",
     "text": []
    },
    {
     "name": "stdout",
     "output_type": "stream",
     "text": [
      "해치지않아\n"
     ]
    },
    {
     "name": "stderr",
     "output_type": "stream",
     "text": []
    },
    {
     "name": "stdout",
     "output_type": "stream",
     "text": [
      "천문: 하늘에 묻는다\n"
     ]
    },
    {
     "name": "stderr",
     "output_type": "stream",
     "text": []
    },
    {
     "name": "stdout",
     "output_type": "stream",
     "text": [
      "결백\n"
     ]
    },
    {
     "name": "stderr",
     "output_type": "stream",
     "text": []
    },
    {
     "name": "stdout",
     "output_type": "stream",
     "text": [
      "1917\n"
     ]
    },
    {
     "name": "stderr",
     "output_type": "stream",
     "text": []
    },
    {
     "name": "stdout",
     "output_type": "stream",
     "text": [
      "작은 아씨들\n"
     ]
    },
    {
     "name": "stderr",
     "output_type": "stream",
     "text": []
    },
    {
     "name": "stdout",
     "output_type": "stream",
     "text": [
      "미드웨이\n"
     ]
    },
    {
     "name": "stderr",
     "output_type": "stream",
     "text": []
    },
    {
     "name": "stdout",
     "output_type": "stream",
     "text": [
      "시동\n"
     ]
    },
    {
     "name": "stderr",
     "output_type": "stream",
     "text": []
    },
    {
     "name": "stdout",
     "output_type": "stream",
     "text": [
      "지푸라기라도 잡고 싶은 짐승들\n"
     ]
    },
    {
     "name": "stderr",
     "output_type": "stream",
     "text": []
    },
    {
     "name": "stdout",
     "output_type": "stream",
     "text": [
      "미스터 주: 사라진 VIP\n"
     ]
    },
    {
     "name": "stderr",
     "output_type": "stream",
     "text": []
    },
    {
     "name": "stdout",
     "output_type": "stream",
     "text": [
      "인비저블맨\n"
     ]
    },
    {
     "name": "stderr",
     "output_type": "stream",
     "text": []
    },
    {
     "name": "stdout",
     "output_type": "stream",
     "text": [
      "나쁜 녀석들: 포에버\n"
     ]
    },
    {
     "name": "stderr",
     "output_type": "stream",
     "text": []
    },
    {
     "name": "stdout",
     "output_type": "stream",
     "text": [
      "국제수사\n"
     ]
    },
    {
     "name": "stderr",
     "output_type": "stream",
     "text": []
    },
    {
     "name": "stdout",
     "output_type": "stream",
     "text": [
      "침입자\n"
     ]
    },
    {
     "name": "stderr",
     "output_type": "stream",
     "text": []
    },
    {
     "name": "stdout",
     "output_type": "stream",
     "text": [
      "스타워즈: 라이즈 오브 스카이워커\n"
     ]
    },
    {
     "name": "stderr",
     "output_type": "stream",
     "text": []
    },
    {
     "name": "stdout",
     "output_type": "stream",
     "text": [
      "스파이 지니어스\n"
     ]
    },
    {
     "name": "stderr",
     "output_type": "stream",
     "text": []
    },
    {
     "name": "stdout",
     "output_type": "stream",
     "text": [
      "이웃사촌\n"
     ]
    },
    {
     "name": "stderr",
     "output_type": "stream",
     "text": []
    },
    {
     "name": "stdout",
     "output_type": "stream",
     "text": [
      "온워드: 단 하루의 기적\n"
     ]
    },
    {
     "name": "stderr",
     "output_type": "stream",
     "text": []
    },
    {
     "name": "stdout",
     "output_type": "stream",
     "text": [
      "소리도 없이\n"
     ]
    },
    {
     "name": "stderr",
     "output_type": "stream",
     "text": []
    },
    {
     "name": "stdout",
     "output_type": "stream",
     "text": [
      "버즈 오브 프레이(할리 퀸의 황홀한 해방)\n"
     ]
    },
    {
     "name": "stderr",
     "output_type": "stream",
     "text": []
    },
    {
     "name": "stdout",
     "output_type": "stream",
     "text": [
      "원더 우먼 1984\n"
     ]
    },
    {
     "name": "stderr",
     "output_type": "stream",
     "text": []
    },
    {
     "name": "stdout",
     "output_type": "stream",
     "text": [
      "겨울왕국 2\n"
     ]
    },
    {
     "name": "stderr",
     "output_type": "stream",
     "text": []
    },
    {
     "name": "stdout",
     "output_type": "stream",
     "text": [
      "오! 문희\n"
     ]
    },
    {
     "name": "stderr",
     "output_type": "stream",
     "text": []
    },
    {
     "name": "stdout",
     "output_type": "stream",
     "text": [
      "그린랜드\n"
     ]
    },
    {
     "name": "stderr",
     "output_type": "stream",
     "text": []
    },
    {
     "name": "stdout",
     "output_type": "stream",
     "text": [
      "위대한 쇼맨\n"
     ]
    },
    {
     "name": "stderr",
     "output_type": "stream",
     "text": []
    },
    {
     "name": "stdout",
     "output_type": "stream",
     "text": [
      "런\n"
     ]
    },
    {
     "name": "stderr",
     "output_type": "stream",
     "text": []
    },
    {
     "name": "stdout",
     "output_type": "stream",
     "text": [
      "뮬란\n"
     ]
    },
    {
     "name": "stderr",
     "output_type": "stream",
     "text": []
    },
    {
     "name": "stdout",
     "output_type": "stream",
     "text": [
      "내가 죽던 날\n"
     ]
    },
    {
     "name": "stderr",
     "output_type": "stream",
     "text": []
    },
    {
     "name": "stdout",
     "output_type": "stream",
     "text": [
      "기생충\n"
     ]
    },
    {
     "name": "stderr",
     "output_type": "stream",
     "text": []
    },
    {
     "name": "stdout",
     "output_type": "stream",
     "text": [
      "신비아파트 극장판 하늘도깨비 대 요르문간드\n"
     ]
    },
    {
     "name": "stderr",
     "output_type": "stream",
     "text": []
    },
    {
     "name": "stdout",
     "output_type": "stream",
     "text": [
      "프리즌 이스케이프\n"
     ]
    },
    {
     "name": "stderr",
     "output_type": "stream",
     "text": []
    },
    {
     "name": "stdout",
     "output_type": "stream",
     "text": [
      "검객\n"
     ]
    },
    {
     "name": "stderr",
     "output_type": "stream",
     "text": []
    },
    {
     "name": "stdout",
     "output_type": "stream",
     "text": [
      "조제\n"
     ]
    },
    {
     "name": "stderr",
     "output_type": "stream",
     "text": []
    },
    {
     "name": "stdout",
     "output_type": "stream",
     "text": [
      "사라진 시간\n"
     ]
    },
    {
     "name": "stderr",
     "output_type": "stream",
     "text": []
    },
    {
     "name": "stdout",
     "output_type": "stream",
     "text": [
      "밤쉘: 세상을 바꾼 폭탄선언\n"
     ]
    },
    {
     "name": "stderr",
     "output_type": "stream",
     "text": []
    },
    {
     "name": "stdout",
     "output_type": "stream",
     "text": [
      "알라딘\n"
     ]
    },
    {
     "name": "stderr",
     "output_type": "stream",
     "text": [
      "100%|██████████| 50/50 [01:06<00:00,  1.32s/it]\n",
      " 33%|███▎      | 2/6 [02:28<04:53, 73.35s/it]"
     ]
    },
    {
     "name": "stdout",
     "output_type": "stream",
     "text": [
      "2021\n"
     ]
    },
    {
     "name": "stderr",
     "output_type": "stream",
     "text": []
    },
    {
     "name": "stdout",
     "output_type": "stream",
     "text": [
      "스파이더맨: 노 웨이 홈\n"
     ]
    },
    {
     "name": "stderr",
     "output_type": "stream",
     "text": []
    },
    {
     "name": "stdout",
     "output_type": "stream",
     "text": [
      "모가디슈\n"
     ]
    },
    {
     "name": "stderr",
     "output_type": "stream",
     "text": []
    },
    {
     "name": "stdout",
     "output_type": "stream",
     "text": [
      "이터널스\n"
     ]
    },
    {
     "name": "stderr",
     "output_type": "stream",
     "text": []
    },
    {
     "name": "stdout",
     "output_type": "stream",
     "text": [
      "블랙 위도우\n"
     ]
    },
    {
     "name": "stderr",
     "output_type": "stream",
     "text": []
    },
    {
     "name": "stdout",
     "output_type": "stream",
     "text": [
      "분노의 질주: 더 얼티메이트\n"
     ]
    },
    {
     "name": "stderr",
     "output_type": "stream",
     "text": []
    },
    {
     "name": "stdout",
     "output_type": "stream",
     "text": [
      "싱크홀\n"
     ]
    },
    {
     "name": "stderr",
     "output_type": "stream",
     "text": []
    },
    {
     "name": "stdout",
     "output_type": "stream",
     "text": [
      "극장판 귀멸의 칼날: 무한열차편\n"
     ]
    },
    {
     "name": "stderr",
     "output_type": "stream",
     "text": []
    },
    {
     "name": "stdout",
     "output_type": "stream",
     "text": [
      "베놈 2: 렛 데어 비 카니지\n"
     ]
    },
    {
     "name": "stderr",
     "output_type": "stream",
     "text": []
    },
    {
     "name": "stdout",
     "output_type": "stream",
     "text": [
      "소울\n"
     ]
    },
    {
     "name": "stderr",
     "output_type": "stream",
     "text": []
    },
    {
     "name": "stdout",
     "output_type": "stream",
     "text": [
      "크루엘라\n"
     ]
    },
    {
     "name": "stderr",
     "output_type": "stream",
     "text": []
    },
    {
     "name": "stdout",
     "output_type": "stream",
     "text": [
      "샹치와 텐 링즈의 전설\n"
     ]
    },
    {
     "name": "stderr",
     "output_type": "stream",
     "text": []
    },
    {
     "name": "stdout",
     "output_type": "stream",
     "text": [
      "인질\n"
     ]
    },
    {
     "name": "stderr",
     "output_type": "stream",
     "text": []
    },
    {
     "name": "stdout",
     "output_type": "stream",
     "text": [
      "듄\n"
     ]
    },
    {
     "name": "stderr",
     "output_type": "stream",
     "text": []
    },
    {
     "name": "stdout",
     "output_type": "stream",
     "text": [
      "보이스\n"
     ]
    },
    {
     "name": "stderr",
     "output_type": "stream",
     "text": []
    },
    {
     "name": "stdout",
     "output_type": "stream",
     "text": [
      "007 노 타임 투 다이\n"
     ]
    },
    {
     "name": "stderr",
     "output_type": "stream",
     "text": []
    },
    {
     "name": "stdout",
     "output_type": "stream",
     "text": [
      "미나리\n"
     ]
    },
    {
     "name": "stderr",
     "output_type": "stream",
     "text": []
    },
    {
     "name": "stdout",
     "output_type": "stream",
     "text": [
      "발신제한\n"
     ]
    },
    {
     "name": "stderr",
     "output_type": "stream",
     "text": []
    },
    {
     "name": "stdout",
     "output_type": "stream",
     "text": [
      "보스 베이비 2\n"
     ]
    },
    {
     "name": "stderr",
     "output_type": "stream",
     "text": []
    },
    {
     "name": "stdout",
     "output_type": "stream",
     "text": [
      "콰이어트 플레이스 2\n"
     ]
    },
    {
     "name": "stderr",
     "output_type": "stream",
     "text": []
    },
    {
     "name": "stdout",
     "output_type": "stream",
     "text": [
      "랑종\n"
     ]
    },
    {
     "name": "stderr",
     "output_type": "stream",
     "text": []
    },
    {
     "name": "stdout",
     "output_type": "stream",
     "text": [
      "유체이탈자\n"
     ]
    },
    {
     "name": "stderr",
     "output_type": "stream",
     "text": []
    },
    {
     "name": "stdout",
     "output_type": "stream",
     "text": [
      "컨저링3: 악마가 시켰다\n"
     ]
    },
    {
     "name": "stderr",
     "output_type": "stream",
     "text": []
    },
    {
     "name": "stdout",
     "output_type": "stream",
     "text": [
      "기적\n"
     ]
    },
    {
     "name": "stderr",
     "output_type": "stream",
     "text": []
    },
    {
     "name": "stdout",
     "output_type": "stream",
     "text": [
      "고질라 VS. 콩\n"
     ]
    },
    {
     "name": "stderr",
     "output_type": "stream",
     "text": []
    },
    {
     "name": "stdout",
     "output_type": "stream",
     "text": [
      "킹스맨: 퍼스트 에이전트\n"
     ]
    },
    {
     "name": "stderr",
     "output_type": "stream",
     "text": []
    },
    {
     "name": "stdout",
     "output_type": "stream",
     "text": [
      "엔칸토: 마법의 세계\n"
     ]
    },
    {
     "name": "stderr",
     "output_type": "stream",
     "text": []
    },
    {
     "name": "stdout",
     "output_type": "stream",
     "text": [
      "연애 빠진 로맨스\n"
     ]
    },
    {
     "name": "stderr",
     "output_type": "stream",
     "text": []
    },
    {
     "name": "stdout",
     "output_type": "stream",
     "text": [
      "장르만 로맨스\n"
     ]
    },
    {
     "name": "stderr",
     "output_type": "stream",
     "text": []
    },
    {
     "name": "stdout",
     "output_type": "stream",
     "text": [
      "미션 파서블\n"
     ]
    },
    {
     "name": "stderr",
     "output_type": "stream",
     "text": []
    },
    {
     "name": "stdout",
     "output_type": "stream",
     "text": [
      "더 수어사이드 스쿼드\n"
     ]
    },
    {
     "name": "stderr",
     "output_type": "stream",
     "text": []
    },
    {
     "name": "stdout",
     "output_type": "stream",
     "text": [
      "비와 당신의 이야기\n"
     ]
    },
    {
     "name": "stderr",
     "output_type": "stream",
     "text": []
    },
    {
     "name": "stdout",
     "output_type": "stream",
     "text": [
      "서복\n"
     ]
    },
    {
     "name": "stderr",
     "output_type": "stream",
     "text": []
    },
    {
     "name": "stdout",
     "output_type": "stream",
     "text": [
      "킬러의 보디가드 2\n"
     ]
    },
    {
     "name": "stderr",
     "output_type": "stream",
     "text": []
    },
    {
     "name": "stdout",
     "output_type": "stream",
     "text": [
      "루카\n"
     ]
    },
    {
     "name": "stderr",
     "output_type": "stream",
     "text": []
    },
    {
     "name": "stdout",
     "output_type": "stream",
     "text": [
      "자산어보\n"
     ]
    },
    {
     "name": "stderr",
     "output_type": "stream",
     "text": []
    },
    {
     "name": "stdout",
     "output_type": "stream",
     "text": [
      "내일의 기억\n"
     ]
    },
    {
     "name": "stderr",
     "output_type": "stream",
     "text": []
    },
    {
     "name": "stdout",
     "output_type": "stream",
     "text": [
      "라야와 마지막 드래곤\n"
     ]
    },
    {
     "name": "stderr",
     "output_type": "stream",
     "text": []
    },
    {
     "name": "stdout",
     "output_type": "stream",
     "text": [
      "프리 가이\n"
     ]
    },
    {
     "name": "stderr",
     "output_type": "stream",
     "text": []
    },
    {
     "name": "stdout",
     "output_type": "stream",
     "text": [
      "더 스파이\n"
     ]
    },
    {
     "name": "stderr",
     "output_type": "stream",
     "text": []
    },
    {
     "name": "stdout",
     "output_type": "stream",
     "text": [
      "강릉\n"
     ]
    },
    {
     "name": "stderr",
     "output_type": "stream",
     "text": []
    },
    {
     "name": "stdout",
     "output_type": "stream",
     "text": [
      "정글 크루즈\n"
     ]
    },
    {
     "name": "stderr",
     "output_type": "stream",
     "text": []
    },
    {
     "name": "stdout",
     "output_type": "stream",
     "text": [
      "명탐정 코난: 비색의 탄환\n"
     ]
    },
    {
     "name": "stderr",
     "output_type": "stream",
     "text": []
    },
    {
     "name": "stdout",
     "output_type": "stream",
     "text": [
      "캐시트럭\n"
     ]
    },
    {
     "name": "stderr",
     "output_type": "stream",
     "text": []
    },
    {
     "name": "stdout",
     "output_type": "stream",
     "text": [
      "크루즈 패밀리: 뉴 에이지\n"
     ]
    },
    {
     "name": "stderr",
     "output_type": "stream",
     "text": []
    },
    {
     "name": "stdout",
     "output_type": "stream",
     "text": [
      "이스케이프 룸 2: 노 웨이 아웃\n"
     ]
    },
    {
     "name": "stderr",
     "output_type": "stream",
     "text": []
    },
    {
     "name": "stdout",
     "output_type": "stream",
     "text": [
      "극장판 포켓몬스터: 정글의 아이, 코코\n"
     ]
    },
    {
     "name": "stderr",
     "output_type": "stream",
     "text": []
    },
    {
     "name": "stdout",
     "output_type": "stream",
     "text": [
      "극장판 짱구는 못말려: 격돌! 낙서왕국과 얼추 네 명의 용사들\n"
     ]
    },
    {
     "name": "stderr",
     "output_type": "stream",
     "text": []
    },
    {
     "name": "stdout",
     "output_type": "stream",
     "text": [
      "매트릭스: 리저렉션\n"
     ]
    },
    {
     "name": "stderr",
     "output_type": "stream",
     "text": []
    },
    {
     "name": "stdout",
     "output_type": "stream",
     "text": [
      "방법: 재차의\n"
     ]
    },
    {
     "name": "stderr",
     "output_type": "stream",
     "text": []
    },
    {
     "name": "stdout",
     "output_type": "stream",
     "text": [
      "새해전야\n"
     ]
    },
    {
     "name": "stderr",
     "output_type": "stream",
     "text": [
      "100%|██████████| 50/50 [00:59<00:00,  1.19s/it]\n",
      " 50%|█████     | 3/6 [03:30<03:25, 68.35s/it]"
     ]
    },
    {
     "name": "stdout",
     "output_type": "stream",
     "text": [
      "2022\n"
     ]
    },
    {
     "name": "stderr",
     "output_type": "stream",
     "text": []
    },
    {
     "name": "stdout",
     "output_type": "stream",
     "text": [
      "범죄도시2\n"
     ]
    },
    {
     "name": "stderr",
     "output_type": "stream",
     "text": []
    },
    {
     "name": "stdout",
     "output_type": "stream",
     "text": [
      "탑건: 매버릭\n"
     ]
    },
    {
     "name": "stderr",
     "output_type": "stream",
     "text": []
    },
    {
     "name": "stdout",
     "output_type": "stream",
     "text": [
      "아바타: 물의 길\n"
     ]
    },
    {
     "name": "stderr",
     "output_type": "stream",
     "text": []
    },
    {
     "name": "stdout",
     "output_type": "stream",
     "text": [
      "한산: 용의 출현\n"
     ]
    },
    {
     "name": "stderr",
     "output_type": "stream",
     "text": []
    },
    {
     "name": "stdout",
     "output_type": "stream",
     "text": [
      "공조2: 인터내셔날\n"
     ]
    },
    {
     "name": "stderr",
     "output_type": "stream",
     "text": []
    },
    {
     "name": "stdout",
     "output_type": "stream",
     "text": [
      "닥터 스트레인지: 대혼돈의 멀티버스\n"
     ]
    },
    {
     "name": "stderr",
     "output_type": "stream",
     "text": []
    },
    {
     "name": "stdout",
     "output_type": "stream",
     "text": [
      "헌트\n"
     ]
    },
    {
     "name": "stderr",
     "output_type": "stream",
     "text": []
    },
    {
     "name": "stdout",
     "output_type": "stream",
     "text": [
      "올빼미\n"
     ]
    },
    {
     "name": "stderr",
     "output_type": "stream",
     "text": []
    },
    {
     "name": "stdout",
     "output_type": "stream",
     "text": [
      "쥬라기 월드: 도미니언\n"
     ]
    },
    {
     "name": "stderr",
     "output_type": "stream",
     "text": []
    },
    {
     "name": "stdout",
     "output_type": "stream",
     "text": [
      "마녀(魔女) Part2. The Other One\n"
     ]
    },
    {
     "name": "stderr",
     "output_type": "stream",
     "text": []
    },
    {
     "name": "stdout",
     "output_type": "stream",
     "text": [
      "토르: 러브 앤 썬더\n"
     ]
    },
    {
     "name": "stderr",
     "output_type": "stream",
     "text": []
    },
    {
     "name": "stdout",
     "output_type": "stream",
     "text": [
      "미니언즈2\n"
     ]
    },
    {
     "name": "stderr",
     "output_type": "stream",
     "text": []
    },
    {
     "name": "stdout",
     "output_type": "stream",
     "text": [
      "블랙 팬서: 와칸다 포에버\n"
     ]
    },
    {
     "name": "stderr",
     "output_type": "stream",
     "text": []
    },
    {
     "name": "stdout",
     "output_type": "stream",
     "text": [
      "비상선언\n"
     ]
    },
    {
     "name": "stderr",
     "output_type": "stream",
     "text": []
    },
    {
     "name": "stdout",
     "output_type": "stream",
     "text": [
      "스파이더맨: 노 웨이 홈\n"
     ]
    },
    {
     "name": "stderr",
     "output_type": "stream",
     "text": []
    },
    {
     "name": "stdout",
     "output_type": "stream",
     "text": [
      "육사오(6/45)\n"
     ]
    },
    {
     "name": "stderr",
     "output_type": "stream",
     "text": []
    },
    {
     "name": "stdout",
     "output_type": "stream",
     "text": [
      "헤어질 결심\n"
     ]
    },
    {
     "name": "stderr",
     "output_type": "stream",
     "text": []
    },
    {
     "name": "stdout",
     "output_type": "stream",
     "text": [
      "외계+인 1부\n"
     ]
    },
    {
     "name": "stderr",
     "output_type": "stream",
     "text": []
    },
    {
     "name": "stdout",
     "output_type": "stream",
     "text": [
      "영웅\n"
     ]
    },
    {
     "name": "stderr",
     "output_type": "stream",
     "text": []
    },
    {
     "name": "stdout",
     "output_type": "stream",
     "text": [
      "해적: 도깨비 깃발\n"
     ]
    },
    {
     "name": "stderr",
     "output_type": "stream",
     "text": []
    },
    {
     "name": "stdout",
     "output_type": "stream",
     "text": [
      "브로커\n"
     ]
    },
    {
     "name": "stderr",
     "output_type": "stream",
     "text": []
    },
    {
     "name": "stdout",
     "output_type": "stream",
     "text": [
      "신비한 동물들과 덤블도어의 비밀\n"
     ]
    },
    {
     "name": "stderr",
     "output_type": "stream",
     "text": []
    },
    {
     "name": "stdout",
     "output_type": "stream",
     "text": [
      "인생은 아름다워\n"
     ]
    },
    {
     "name": "stderr",
     "output_type": "stream",
     "text": []
    },
    {
     "name": "stdout",
     "output_type": "stream",
     "text": [
      "더 배트맨\n"
     ]
    },
    {
     "name": "stderr",
     "output_type": "stream",
     "text": []
    },
    {
     "name": "stdout",
     "output_type": "stream",
     "text": [
      "데시벨\n"
     ]
    },
    {
     "name": "stderr",
     "output_type": "stream",
     "text": []
    },
    {
     "name": "stdout",
     "output_type": "stream",
     "text": [
      "정직한 후보2\n"
     ]
    },
    {
     "name": "stderr",
     "output_type": "stream",
     "text": []
    },
    {
     "name": "stdout",
     "output_type": "stream",
     "text": [
      "씽2게더\n"
     ]
    },
    {
     "name": "stderr",
     "output_type": "stream",
     "text": []
    },
    {
     "name": "stdout",
     "output_type": "stream",
     "text": [
      "극장판 짱구는 못말려: 수수께끼! 꽃피는 천하떡잎학교\n"
     ]
    },
    {
     "name": "stderr",
     "output_type": "stream",
     "text": []
    },
    {
     "name": "stdout",
     "output_type": "stream",
     "text": [
      "블랙 아담\n"
     ]
    },
    {
     "name": "stderr",
     "output_type": "stream",
     "text": []
    },
    {
     "name": "stdout",
     "output_type": "stream",
     "text": [
      "킹메이커\n"
     ]
    },
    {
     "name": "stderr",
     "output_type": "stream",
     "text": []
    },
    {
     "name": "stdout",
     "output_type": "stream",
     "text": [
      "자백\n"
     ]
    },
    {
     "name": "stderr",
     "output_type": "stream",
     "text": []
    },
    {
     "name": "stdout",
     "output_type": "stream",
     "text": [
      "언차티드\n"
     ]
    },
    {
     "name": "stderr",
     "output_type": "stream",
     "text": []
    },
    {
     "name": "stdout",
     "output_type": "stream",
     "text": [
      "경관의 피\n"
     ]
    },
    {
     "name": "stderr",
     "output_type": "stream",
     "text": []
    },
    {
     "name": "stdout",
     "output_type": "stream",
     "text": [
      "오늘 밤, 세계에서 이 사랑이 사라진다 해도\n"
     ]
    },
    {
     "name": "stderr",
     "output_type": "stream",
     "text": []
    },
    {
     "name": "stdout",
     "output_type": "stream",
     "text": [
      "극장판 주술회전 0\n"
     ]
    },
    {
     "name": "stderr",
     "output_type": "stream",
     "text": []
    },
    {
     "name": "stdout",
     "output_type": "stream",
     "text": [
      "압꾸정\n"
     ]
    },
    {
     "name": "stderr",
     "output_type": "stream",
     "text": []
    },
    {
     "name": "stdout",
     "output_type": "stream",
     "text": [
      "극장판 포켓몬스터DP: 기라티나와 하늘의 꽃다발 쉐이미\n"
     ]
    },
    {
     "name": "stderr",
     "output_type": "stream",
     "text": []
    },
    {
     "name": "stdout",
     "output_type": "stream",
     "text": [
      "이상한 나라의 수학자\n"
     ]
    },
    {
     "name": "stderr",
     "output_type": "stream",
     "text": []
    },
    {
     "name": "stdout",
     "output_type": "stream",
     "text": [
      "명탐정 코난: 할로윈의 신부\n"
     ]
    },
    {
     "name": "stderr",
     "output_type": "stream",
     "text": []
    },
    {
     "name": "stdout",
     "output_type": "stream",
     "text": [
      "동감\n"
     ]
    },
    {
     "name": "stderr",
     "output_type": "stream",
     "text": []
    },
    {
     "name": "stdout",
     "output_type": "stream",
     "text": [
      "모비우스\n"
     ]
    },
    {
     "name": "stderr",
     "output_type": "stream",
     "text": []
    },
    {
     "name": "stdout",
     "output_type": "stream",
     "text": [
      "늑대사냥\n"
     ]
    },
    {
     "name": "stderr",
     "output_type": "stream",
     "text": []
    },
    {
     "name": "stdout",
     "output_type": "stream",
     "text": [
      "뽀로로 극장판 드래곤캐슬 대모험\n"
     ]
    },
    {
     "name": "stderr",
     "output_type": "stream",
     "text": []
    },
    {
     "name": "stdout",
     "output_type": "stream",
     "text": [
      "특송\n"
     ]
    },
    {
     "name": "stderr",
     "output_type": "stream",
     "text": []
    },
    {
     "name": "stdout",
     "output_type": "stream",
     "text": [
      "니 부모 얼굴이 보고 싶다\n"
     ]
    },
    {
     "name": "stderr",
     "output_type": "stream",
     "text": []
    },
    {
     "name": "stdout",
     "output_type": "stream",
     "text": [
      "놉\n"
     ]
    },
    {
     "name": "stderr",
     "output_type": "stream",
     "text": []
    },
    {
     "name": "stdout",
     "output_type": "stream",
     "text": [
      "리멤버\n"
     ]
    },
    {
     "name": "stderr",
     "output_type": "stream",
     "text": []
    },
    {
     "name": "stdout",
     "output_type": "stream",
     "text": [
      "킹스맨: 퍼스트 에이전트\n"
     ]
    },
    {
     "name": "stderr",
     "output_type": "stream",
     "text": []
    },
    {
     "name": "stdout",
     "output_type": "stream",
     "text": [
      "배드 가이즈\n"
     ]
    },
    {
     "name": "stderr",
     "output_type": "stream",
     "text": []
    },
    {
     "name": "stdout",
     "output_type": "stream",
     "text": [
      "뜨거운 피\n"
     ]
    },
    {
     "name": "stderr",
     "output_type": "stream",
     "text": [
      "100%|██████████| 50/50 [01:20<00:00,  1.61s/it]\n",
      " 67%|██████▋   | 4/6 [04:54<02:28, 74.32s/it]"
     ]
    },
    {
     "name": "stdout",
     "output_type": "stream",
     "text": [
      "2023\n"
     ]
    },
    {
     "name": "stderr",
     "output_type": "stream",
     "text": []
    },
    {
     "name": "stdout",
     "output_type": "stream",
     "text": [
      "서울의 봄\n"
     ]
    },
    {
     "name": "stderr",
     "output_type": "stream",
     "text": []
    },
    {
     "name": "stdout",
     "output_type": "stream",
     "text": [
      "범죄도시3\n"
     ]
    },
    {
     "name": "stderr",
     "output_type": "stream",
     "text": []
    },
    {
     "name": "stdout",
     "output_type": "stream",
     "text": [
      "엘리멘탈\n"
     ]
    },
    {
     "name": "stderr",
     "output_type": "stream",
     "text": []
    },
    {
     "name": "stdout",
     "output_type": "stream",
     "text": [
      "스즈메의 문단속\n"
     ]
    },
    {
     "name": "stderr",
     "output_type": "stream",
     "text": []
    },
    {
     "name": "stdout",
     "output_type": "stream",
     "text": [
      "밀수\n"
     ]
    },
    {
     "name": "stderr",
     "output_type": "stream",
     "text": []
    },
    {
     "name": "stdout",
     "output_type": "stream",
     "text": [
      "더 퍼스트 슬램덩크\n"
     ]
    },
    {
     "name": "stderr",
     "output_type": "stream",
     "text": []
    },
    {
     "name": "stdout",
     "output_type": "stream",
     "text": [
      "가디언즈 오브 갤럭시: Volume 3\n"
     ]
    },
    {
     "name": "stderr",
     "output_type": "stream",
     "text": []
    },
    {
     "name": "stdout",
     "output_type": "stream",
     "text": [
      "미션 임파서블: 데드 레코닝 PART ONE\n"
     ]
    },
    {
     "name": "stderr",
     "output_type": "stream",
     "text": []
    },
    {
     "name": "stdout",
     "output_type": "stream",
     "text": [
      "콘크리트 유토피아\n"
     ]
    },
    {
     "name": "stderr",
     "output_type": "stream",
     "text": []
    },
    {
     "name": "stdout",
     "output_type": "stream",
     "text": [
      "아바타: 물의 길\n"
     ]
    },
    {
     "name": "stderr",
     "output_type": "stream",
     "text": []
    },
    {
     "name": "stdout",
     "output_type": "stream",
     "text": [
      "노량: 죽음의 바다\n"
     ]
    },
    {
     "name": "stderr",
     "output_type": "stream",
     "text": []
    },
    {
     "name": "stdout",
     "output_type": "stream",
     "text": [
      "오펜하이머\n"
     ]
    },
    {
     "name": "stderr",
     "output_type": "stream",
     "text": []
    },
    {
     "name": "stdout",
     "output_type": "stream",
     "text": [
      "슈퍼 마리오 브라더스\n"
     ]
    },
    {
     "name": "stderr",
     "output_type": "stream",
     "text": []
    },
    {
     "name": "stdout",
     "output_type": "stream",
     "text": [
      "30일\n"
     ]
    },
    {
     "name": "stderr",
     "output_type": "stream",
     "text": []
    },
    {
     "name": "stdout",
     "output_type": "stream",
     "text": [
      "그대들은 어떻게 살 것인가\n"
     ]
    },
    {
     "name": "stderr",
     "output_type": "stream",
     "text": []
    },
    {
     "name": "stdout",
     "output_type": "stream",
     "text": [
      "존 윅 4\n"
     ]
    },
    {
     "name": "stderr",
     "output_type": "stream",
     "text": []
    },
    {
     "name": "stdout",
     "output_type": "stream",
     "text": [
      "천박사 퇴마 연구소: 설경의 비밀\n"
     ]
    },
    {
     "name": "stderr",
     "output_type": "stream",
     "text": []
    },
    {
     "name": "stdout",
     "output_type": "stream",
     "text": [
      "영웅\n"
     ]
    },
    {
     "name": "stderr",
     "output_type": "stream",
     "text": []
    },
    {
     "name": "stdout",
     "output_type": "stream",
     "text": [
      "분노의 질주: 라이드 오어 다이\n"
     ]
    },
    {
     "name": "stderr",
     "output_type": "stream",
     "text": []
    },
    {
     "name": "stdout",
     "output_type": "stream",
     "text": [
      "교섭\n"
     ]
    },
    {
     "name": "stderr",
     "output_type": "stream",
     "text": []
    },
    {
     "name": "stdout",
     "output_type": "stream",
     "text": [
      "앤트맨과 와스프: 퀀텀매니아\n"
     ]
    },
    {
     "name": "stderr",
     "output_type": "stream",
     "text": []
    },
    {
     "name": "stdout",
     "output_type": "stream",
     "text": [
      "잠\n"
     ]
    },
    {
     "name": "stderr",
     "output_type": "stream",
     "text": []
    },
    {
     "name": "stdout",
     "output_type": "stream",
     "text": [
      "달짝지근해: 7510\n"
     ]
    },
    {
     "name": "stderr",
     "output_type": "stream",
     "text": []
    },
    {
     "name": "stdout",
     "output_type": "stream",
     "text": [
      "드림\n"
     ]
    },
    {
     "name": "stderr",
     "output_type": "stream",
     "text": []
    },
    {
     "name": "stdout",
     "output_type": "stream",
     "text": [
      "비공식작전\n"
     ]
    },
    {
     "name": "stderr",
     "output_type": "stream",
     "text": []
    },
    {
     "name": "stdout",
     "output_type": "stream",
     "text": [
      "1947 보스톤\n"
     ]
    },
    {
     "name": "stderr",
     "output_type": "stream",
     "text": []
    },
    {
     "name": "stdout",
     "output_type": "stream",
     "text": [
      "스파이더맨: 어크로스 더 유니버스\n"
     ]
    },
    {
     "name": "stderr",
     "output_type": "stream",
     "text": []
    },
    {
     "name": "stdout",
     "output_type": "stream",
     "text": [
      "인디아나 존스: 운명의 다이얼\n"
     ]
    },
    {
     "name": "stderr",
     "output_type": "stream",
     "text": []
    },
    {
     "name": "stdout",
     "output_type": "stream",
     "text": [
      "장화신은 고양이: 끝내주는 모험\n"
     ]
    },
    {
     "name": "stderr",
     "output_type": "stream",
     "text": []
    },
    {
     "name": "stdout",
     "output_type": "stream",
     "text": [
      "명탐정코난: 흑철의 어영\n"
     ]
    },
    {
     "name": "stderr",
     "output_type": "stream",
     "text": []
    },
    {
     "name": "stdout",
     "output_type": "stream",
     "text": [
      "트랜스포머: 비스트의 서막\n"
     ]
    },
    {
     "name": "stderr",
     "output_type": "stream",
     "text": []
    },
    {
     "name": "stdout",
     "output_type": "stream",
     "text": [
      "대외비\n"
     ]
    },
    {
     "name": "stderr",
     "output_type": "stream",
     "text": []
    },
    {
     "name": "stdout",
     "output_type": "stream",
     "text": [
      "극장판 짱구는 못말려: 동물소환 닌자 배꼽수비대\n"
     ]
    },
    {
     "name": "stderr",
     "output_type": "stream",
     "text": []
    },
    {
     "name": "stdout",
     "output_type": "stream",
     "text": [
      "아쿠아맨과 로스트 킹덤\n"
     ]
    },
    {
     "name": "stderr",
     "output_type": "stream",
     "text": []
    },
    {
     "name": "stdout",
     "output_type": "stream",
     "text": [
      "프레디의 피자가게\n"
     ]
    },
    {
     "name": "stderr",
     "output_type": "stream",
     "text": []
    },
    {
     "name": "stdout",
     "output_type": "stream",
     "text": [
      "리바운드\n"
     ]
    },
    {
     "name": "stderr",
     "output_type": "stream",
     "text": []
    },
    {
     "name": "stdout",
     "output_type": "stream",
     "text": [
      "더 마블스\n"
     ]
    },
    {
     "name": "stderr",
     "output_type": "stream",
     "text": []
    },
    {
     "name": "stdout",
     "output_type": "stream",
     "text": [
      "귀공자\n"
     ]
    },
    {
     "name": "stderr",
     "output_type": "stream",
     "text": []
    },
    {
     "name": "stdout",
     "output_type": "stream",
     "text": [
      "유령\n"
     ]
    },
    {
     "name": "stderr",
     "output_type": "stream",
     "text": []
    },
    {
     "name": "stdout",
     "output_type": "stream",
     "text": [
      "인어공주\n"
     ]
    },
    {
     "name": "stderr",
     "output_type": "stream",
     "text": []
    },
    {
     "name": "stdout",
     "output_type": "stream",
     "text": [
      "플래시\n"
     ]
    },
    {
     "name": "stderr",
     "output_type": "stream",
     "text": []
    },
    {
     "name": "stdout",
     "output_type": "stream",
     "text": [
      "바비\n"
     ]
    },
    {
     "name": "stderr",
     "output_type": "stream",
     "text": []
    },
    {
     "name": "stdout",
     "output_type": "stream",
     "text": [
      "신차원! 짱구는 못말려 더 무비 초능력 대결전 ~날아라 수제김밥~\n"
     ]
    },
    {
     "name": "stderr",
     "output_type": "stream",
     "text": []
    },
    {
     "name": "stdout",
     "output_type": "stream",
     "text": [
      "귀멸의 칼날: 상현집결, 그리고 도공 마을로\n"
     ]
    },
    {
     "name": "stderr",
     "output_type": "stream",
     "text": []
    },
    {
     "name": "stdout",
     "output_type": "stream",
     "text": [
      "더 문\n"
     ]
    },
    {
     "name": "stderr",
     "output_type": "stream",
     "text": []
    },
    {
     "name": "stdout",
     "output_type": "stream",
     "text": [
      "오늘 밤, 세계에서 이 사랑이 사라진다 해도\n"
     ]
    },
    {
     "name": "stderr",
     "output_type": "stream",
     "text": []
    },
    {
     "name": "stdout",
     "output_type": "stream",
     "text": [
      "3일의 휴가\n"
     ]
    },
    {
     "name": "stderr",
     "output_type": "stream",
     "text": []
    },
    {
     "name": "stdout",
     "output_type": "stream",
     "text": [
      "소년들\n"
     ]
    },
    {
     "name": "stderr",
     "output_type": "stream",
     "text": []
    },
    {
     "name": "stdout",
     "output_type": "stream",
     "text": [
      "타이타닉\n"
     ]
    },
    {
     "name": "stderr",
     "output_type": "stream",
     "text": []
    },
    {
     "name": "stdout",
     "output_type": "stream",
     "text": [
      "타겟\n"
     ]
    },
    {
     "name": "stderr",
     "output_type": "stream",
     "text": [
      "100%|██████████| 50/50 [01:18<00:00,  1.58s/it]\n",
      " 83%|████████▎ | 5/6 [06:15<01:16, 76.67s/it]"
     ]
    },
    {
     "name": "stdout",
     "output_type": "stream",
     "text": [
      "2024\n"
     ]
    },
    {
     "name": "stderr",
     "output_type": "stream",
     "text": []
    },
    {
     "name": "stdout",
     "output_type": "stream",
     "text": [
      "파묘\n"
     ]
    },
    {
     "name": "stderr",
     "output_type": "stream",
     "text": []
    },
    {
     "name": "stdout",
     "output_type": "stream",
     "text": [
      "범죄도시4\n"
     ]
    },
    {
     "name": "stderr",
     "output_type": "stream",
     "text": []
    },
    {
     "name": "stdout",
     "output_type": "stream",
     "text": [
      "인사이드 아웃 2\n"
     ]
    },
    {
     "name": "stderr",
     "output_type": "stream",
     "text": []
    },
    {
     "name": "stdout",
     "output_type": "stream",
     "text": [
      "베테랑2\n"
     ]
    },
    {
     "name": "stderr",
     "output_type": "stream",
     "text": []
    },
    {
     "name": "stdout",
     "output_type": "stream",
     "text": [
      "파일럿\n"
     ]
    },
    {
     "name": "stderr",
     "output_type": "stream",
     "text": []
    },
    {
     "name": "stdout",
     "output_type": "stream",
     "text": [
      "웡카\n"
     ]
    },
    {
     "name": "stderr",
     "output_type": "stream",
     "text": []
    },
    {
     "name": "stdout",
     "output_type": "stream",
     "text": [
      "모아나 2\n"
     ]
    },
    {
     "name": "stderr",
     "output_type": "stream",
     "text": []
    },
    {
     "name": "stdout",
     "output_type": "stream",
     "text": [
      "소방관\n"
     ]
    },
    {
     "name": "stderr",
     "output_type": "stream",
     "text": []
    },
    {
     "name": "stdout",
     "output_type": "stream",
     "text": [
      "탈주\n"
     ]
    },
    {
     "name": "stderr",
     "output_type": "stream",
     "text": []
    },
    {
     "name": "stdout",
     "output_type": "stream",
     "text": [
      "듄: 파트2\n"
     ]
    },
    {
     "name": "stderr",
     "output_type": "stream",
     "text": []
    },
    {
     "name": "stdout",
     "output_type": "stream",
     "text": [
      "에이리언: 로물루스\n"
     ]
    },
    {
     "name": "stderr",
     "output_type": "stream",
     "text": []
    },
    {
     "name": "stdout",
     "output_type": "stream",
     "text": [
      "데드풀과 울버린\n"
     ]
    },
    {
     "name": "stderr",
     "output_type": "stream",
     "text": []
    },
    {
     "name": "stdout",
     "output_type": "stream",
     "text": [
      "위키드\n"
     ]
    },
    {
     "name": "stderr",
     "output_type": "stream",
     "text": []
    },
    {
     "name": "stdout",
     "output_type": "stream",
     "text": [
      "핸섬가이즈\n"
     ]
    },
    {
     "name": "stderr",
     "output_type": "stream",
     "text": []
    },
    {
     "name": "stdout",
     "output_type": "stream",
     "text": [
      "하이재킹\n"
     ]
    },
    {
     "name": "stderr",
     "output_type": "stream",
     "text": []
    },
    {
     "name": "stdout",
     "output_type": "stream",
     "text": [
      "쿵푸팬더4\n"
     ]
    },
    {
     "name": "stderr",
     "output_type": "stream",
     "text": []
    },
    {
     "name": "stdout",
     "output_type": "stream",
     "text": [
      "베놈: 라스트 댄스\n"
     ]
    },
    {
     "name": "stderr",
     "output_type": "stream",
     "text": []
    },
    {
     "name": "stdout",
     "output_type": "stream",
     "text": [
      "시민덕희\n"
     ]
    },
    {
     "name": "stderr",
     "output_type": "stream",
     "text": []
    },
    {
     "name": "stdout",
     "output_type": "stream",
     "text": [
      "퓨리오사: 매드맥스 사가\n"
     ]
    },
    {
     "name": "stderr",
     "output_type": "stream",
     "text": []
    },
    {
     "name": "stdout",
     "output_type": "stream",
     "text": [
      "슈퍼배드 4\n"
     ]
    },
    {
     "name": "stderr",
     "output_type": "stream",
     "text": []
    },
    {
     "name": "stdout",
     "output_type": "stream",
     "text": [
      "외계+인 2부\n"
     ]
    },
    {
     "name": "stderr",
     "output_type": "stream",
     "text": []
    },
    {
     "name": "stdout",
     "output_type": "stream",
     "text": [
      "위시\n"
     ]
    },
    {
     "name": "stderr",
     "output_type": "stream",
     "text": []
    },
    {
     "name": "stdout",
     "output_type": "stream",
     "text": [
      "서울의 봄\n"
     ]
    },
    {
     "name": "stderr",
     "output_type": "stream",
     "text": []
    },
    {
     "name": "stdout",
     "output_type": "stream",
     "text": [
      "하얼빈\n"
     ]
    },
    {
     "name": "stderr",
     "output_type": "stream",
     "text": []
    },
    {
     "name": "stdout",
     "output_type": "stream",
     "text": [
      "사랑의 하츄핑\n"
     ]
    },
    {
     "name": "stderr",
     "output_type": "stream",
     "text": []
    },
    {
     "name": "stdout",
     "output_type": "stream",
     "text": [
      "그녀가 죽었다\n"
     ]
    },
    {
     "name": "stderr",
     "output_type": "stream",
     "text": []
    },
    {
     "name": "stdout",
     "output_type": "stream",
     "text": [
      "건국전쟁\n"
     ]
    },
    {
     "name": "stderr",
     "output_type": "stream",
     "text": []
    },
    {
     "name": "stdout",
     "output_type": "stream",
     "text": [
      "노량: 죽음의 바다\n"
     ]
    },
    {
     "name": "stderr",
     "output_type": "stream",
     "text": []
    },
    {
     "name": "stdout",
     "output_type": "stream",
     "text": [
      "히든페이스\n"
     ]
    },
    {
     "name": "stderr",
     "output_type": "stream",
     "text": []
    },
    {
     "name": "stdout",
     "output_type": "stream",
     "text": [
      "댓글부대\n"
     ]
    },
    {
     "name": "stderr",
     "output_type": "stream",
     "text": []
    },
    {
     "name": "stdout",
     "output_type": "stream",
     "text": [
      "글래디에이터 Ⅱ\n"
     ]
    },
    {
     "name": "stderr",
     "output_type": "stream",
     "text": []
    },
    {
     "name": "stdout",
     "output_type": "stream",
     "text": [
      "혹성탈출: 새로운 시대\n"
     ]
    },
    {
     "name": "stderr",
     "output_type": "stream",
     "text": []
    },
    {
     "name": "stdout",
     "output_type": "stream",
     "text": [
      "대도시의 사랑법\n"
     ]
    },
    {
     "name": "stderr",
     "output_type": "stream",
     "text": []
    },
    {
     "name": "stdout",
     "output_type": "stream",
     "text": [
      "청설\n"
     ]
    },
    {
     "name": "stderr",
     "output_type": "stream",
     "text": []
    },
    {
     "name": "stdout",
     "output_type": "stream",
     "text": [
      "명탐정 코난: 100만 달러의 펜타그램\n"
     ]
    },
    {
     "name": "stderr",
     "output_type": "stream",
     "text": []
    },
    {
     "name": "stdout",
     "output_type": "stream",
     "text": [
      "극장판 하이큐!! 쓰레기장의 결전\n"
     ]
    },
    {
     "name": "stderr",
     "output_type": "stream",
     "text": []
    },
    {
     "name": "stdout",
     "output_type": "stream",
     "text": [
      "행복의 나라\n"
     ]
    },
    {
     "name": "stderr",
     "output_type": "stream",
     "text": []
    },
    {
     "name": "stdout",
     "output_type": "stream",
     "text": [
      "탈출: 프로젝트 사일런스\n"
     ]
    },
    {
     "name": "stderr",
     "output_type": "stream",
     "text": []
    },
    {
     "name": "stdout",
     "output_type": "stream",
     "text": [
      "와일드 로봇\n"
     ]
    },
    {
     "name": "stderr",
     "output_type": "stream",
     "text": []
    },
    {
     "name": "stdout",
     "output_type": "stream",
     "text": [
      "보통의 가족\n"
     ]
    },
    {
     "name": "stderr",
     "output_type": "stream",
     "text": []
    },
    {
     "name": "stdout",
     "output_type": "stream",
     "text": [
      "원더랜드\n"
     ]
    },
    {
     "name": "stderr",
     "output_type": "stream",
     "text": []
    },
    {
     "name": "stdout",
     "output_type": "stream",
     "text": [
      "트위스터스\n"
     ]
    },
    {
     "name": "stderr",
     "output_type": "stream",
     "text": []
    },
    {
     "name": "stdout",
     "output_type": "stream",
     "text": [
      "조커: 폴리 아 되\n"
     ]
    },
    {
     "name": "stderr",
     "output_type": "stream",
     "text": []
    },
    {
     "name": "stdout",
     "output_type": "stream",
     "text": [
      "아마존 활명수\n"
     ]
    },
    {
     "name": "stderr",
     "output_type": "stream",
     "text": []
    },
    {
     "name": "stdout",
     "output_type": "stream",
     "text": [
      "콰이어트 플레이스: 첫째 날\n"
     ]
    },
    {
     "name": "stderr",
     "output_type": "stream",
     "text": []
    },
    {
     "name": "stdout",
     "output_type": "stream",
     "text": [
      "설계자\n"
     ]
    },
    {
     "name": "stderr",
     "output_type": "stream",
     "text": []
    },
    {
     "name": "stdout",
     "output_type": "stream",
     "text": [
      "고질라 X 콩: 뉴 엠파이어\n"
     ]
    },
    {
     "name": "stderr",
     "output_type": "stream",
     "text": []
    },
    {
     "name": "stdout",
     "output_type": "stream",
     "text": [
      "빅토리\n"
     ]
    },
    {
     "name": "stderr",
     "output_type": "stream",
     "text": []
    },
    {
     "name": "stdout",
     "output_type": "stream",
     "text": [
      "귀멸의 칼날: 인연의 기적, 그리고 합동 강화 훈련으로\n"
     ]
    },
    {
     "name": "stderr",
     "output_type": "stream",
     "text": []
    },
    {
     "name": "stdout",
     "output_type": "stream",
     "text": [
      "무파사: 라이온 킹\n"
     ]
    },
    {
     "name": "stderr",
     "output_type": "stream",
     "text": [
      "100%|██████████| 50/50 [01:06<00:00,  1.32s/it]\n",
      "100%|██████████| 6/6 [07:23<00:00, 73.95s/it]\n"
     ]
    },
    {
     "data": {
      "text/plain": [
       "(600, 600, 915, 600)"
      ]
     },
     "execution_count": 46,
     "metadata": {},
     "output_type": "execute_result"
    }
   ],
   "source": [
    "options = webdriver.ChromeOptions()\n",
    "\n",
    "prefs = {\"download.default_directory\" : \"/home/lim/dev_ws/eda/data\", \"download.prompt_for_download\":False}\n",
    "options.add_experimental_option(\"prefs\", prefs)\n",
    "\n",
    "url = \"https://www.kobis.or.kr/kobis/business/stat/boxs/findYearlyBoxOfficeList.do\"\n",
    "driver = webdriver.Chrome(service=Service(\"C:/Users/AAA/.vscode/workspace/AddInEdu/driver/chromedriver-win64/chromedriver.exe\"), options=options)\n",
    "\n",
    "driver.get(url)\n",
    "driver.set_window_size(1800, 1300)\n",
    "\n",
    "year_dropdown = driver.find_element(By.ID, \"sSearchYearFrom\")\n",
    "select = Select(year_dropdown)  # Use Select to interact with the dropdown\n",
    "years_list = select.options  # Get all options in the dropdown\n",
    "\n",
    "years = []\n",
    "for option in years_list:\n",
    "    years.append(option.get_attribute(\"value\"))\n",
    "\n",
    "# Limit to the last few years (example: from the 10th year onward)\n",
    "years = years[9:]\n",
    "years = years[6:]\n",
    "# Loop through the years and perform scraping\n",
    "for yearly in tqdm(years):\n",
    "    year_dropdown = driver.find_element(By.ID, \"sSearchYearFrom\")\n",
    "    select = Select(year_dropdown)  # Re-initialize the Select object\n",
    "    \n",
    "    driver.execute_script(\"window.scrollTo(0, 0)\")\n",
    "    select.select_by_value(yearly)  # Select the year from the dropdown\n",
    "    print(yearly)\n",
    "    \n",
    "    # Click the \"show\" button to load the data\n",
    "    show = driver.find_element(By.CLASS_NAME, \"wrap_btn\")\n",
    "    show.click()\n",
    "\n",
    "    movieN = []\n",
    "    # Wait for the page to load and parse it\n",
    "    page = driver.page_source\n",
    "    soup = BeautifulSoup(page, \"html.parser\")\n",
    "    movies = soup.find(\"table\", \"tbl_comm th_sort\")\n",
    "    moviesList = movies.find_all(\"span\", class_=\"ellip per90\")\n",
    "    for movie in moviesList:\n",
    "        movie = movie.find(\"a\").text\n",
    "        movie = movie.strip()\n",
    "        movie_names.append(movie)\n",
    "        movieN.append(movie)\n",
    "        movie_years.append(yearly)\n",
    "    \n",
    "    movieL = driver.find_elements(By.ID, \"td_audiAcc\")\n",
    "    for movie in movieL:\n",
    "        movie_viewers.append(movie.text)\n",
    "\n",
    "    for movie in tqdm(movieN):\n",
    "        print(movie)\n",
    "        WebDriverWait(driver, 10).until(EC.element_to_be_clickable((By.LINK_TEXT, movie))).click()\n",
    "\n",
    "        page = driver.page_source\n",
    "        soup = BeautifulSoup(page, \"html.parser\")\n",
    "\n",
    "        for dt in soup.find_all(\"dt\", text=\"요약정보\"):\n",
    "            dd = dt.find_next(\"dd\")  # Get the associated <dd> element\n",
    "            if dd:\n",
    "                # Extract and clean the genre information\n",
    "                raw_text = dd.get_text(separator=\"|\").strip()  # Use '|' as separator for clarity\n",
    "                parts = raw_text.split(\"|\")  # Split by '|'\n",
    "                genre_parts = [part.strip() for part in parts if \",\" in part]  # Filter parts with commas (genres)\n",
    "                for genre in genre_parts:\n",
    "                    # Further split by commas to separate multiple genres\n",
    "                    movie_genre.extend([g.strip() for g in genre.split(\",\")])\n",
    "                    genres = [\n",
    "                        '미스터리', '공포(호러)', '액션', '범죄', '판타지', '드라마', 'SF', \n",
    "                        '코미디', '뮤지컬', '애니메이션', '스릴러', '어드벤처', '사극', '멜로/로맨스'\n",
    "                    ]\n",
    "\n",
    "                    movie_genre = [item for item in movie_genre if item in genres]\n",
    "\n",
    "        close = driver.find_element(By.CLASS_NAME, \"close\")\n",
    "        close.click()\n",
    "\n",
    "len(movie_names), len(movie_viewers), len(movie_genre), len(movie_years)"
   ]
  },
  {
   "cell_type": "code",
   "execution_count": 47,
   "metadata": {},
   "outputs": [
    {
     "data": {
      "text/plain": [
       "(600, 600, 915, 600)"
      ]
     },
     "execution_count": 47,
     "metadata": {},
     "output_type": "execute_result"
    }
   ],
   "source": [
    "len(movie_names), len(movie_viewers), len(movie_genre), len(movie_years)"
   ]
  },
  {
   "cell_type": "code",
   "execution_count": 54,
   "metadata": {},
   "outputs": [
    {
     "data": {
      "text/plain": [
       "['장편 ',\n",
       " ' \\n\\n\\t\\t\\t\\t\\t\\t\\n\\t\\t\\t\\t\\t\\t\\t\\n\\t\\t\\t\\t\\t\\t\\t\\n\\t\\t\\t\\t\\t\\t\\t\\n\\t\\t\\t\\t\\t\\t\\t\\n\\t\\t\\t\\t\\t\\t\\t\\n\\t\\t\\t\\t\\t\\t\\t\\n\\t\\t\\t\\t\\t\\t\\t\\n\\t\\t\\t\\t\\t\\t\\t일반영화\\n\\t\\t\\t\\t\\t\\t\\n\\n\\t\\t\\t\\t\\t\\t\\n\\t\\t\\t\\t\\t\\t\\t',\n",
       " '\\n\\t                       \\t\\n\\t                       \\t\\t\\t애니메이션\\n\\t                       \\t\\n                       \\t\\n\\n\\t\\t\\t\\t\\t\\t\\n\\t\\t\\t\\t\\t\\t\\t',\n",
       " '\\n\\t\\t\\t\\t\\t\\t\\t117분 55초\\n\\t\\t\\t\\t\\t\\t\\n\\n\\t\\t\\t\\t\\t\\t\\n\\t\\t\\t\\t\\t\\t\\t',\n",
       " '\\n\\t\\t\\t\\t\\t\\t\\t\\n\\t\\t\\t\\t\\t\\t\\t\\t\\n                           \\t\\t\\t전체관람가\\n\\t\\t\\t\\t\\t\\t\\t\\t\\n                          \\t\\n\\t\\t\\t\\t\\t\\t\\n\\n\\t\\t\\t\\t\\t\\t\\n\\t\\t\\t\\t\\t\\t\\t',\n",
       " '\\n\\t\\t\\t\\t\\t\\t\\t\\n\\t                        \\t미국\\n\\t                        \\n\\t\\t\\t\\t\\t\\t\\n\\t\\t\\t\\t\\t\\t',\n",
       " '']"
      ]
     },
     "execution_count": 54,
     "metadata": {},
     "output_type": "execute_result"
    }
   ],
   "source": [
    "parts"
   ]
  },
  {
   "cell_type": "code",
   "execution_count": 51,
   "metadata": {},
   "outputs": [
    {
     "data": {
      "text/plain": [
       "['7번방의 선물',\n",
       " '설국열차',\n",
       " '관상',\n",
       " '아이언맨 3',\n",
       " '베를린',\n",
       " '은밀하게 위대하게',\n",
       " '변호인',\n",
       " '숨바꼭질',\n",
       " '더 테러 라이브',\n",
       " '감시자들',\n",
       " '월드 워 Z',\n",
       " '신세계',\n",
       " '박수건달',\n",
       " '스파이',\n",
       " '그래비티',\n",
       " '타워',\n",
       " '감기',\n",
       " '토르: 다크 월드',\n",
       " '레드: 더 레전드',\n",
       " '친구 2',\n",
       " '어바웃 타임',\n",
       " '나우 유 씨 미 : 마술사기단',\n",
       " '소원',\n",
       " '레미제라블',\n",
       " '퍼시픽 림',\n",
       " '화이: 괴물을 삼킨 아이',\n",
       " '컨저링',\n",
       " '맨 오브 스틸',\n",
       " '용의자',\n",
       " '호빗: 스마우그의 폐허',\n",
       " '몽타주',\n",
       " '터보',\n",
       " '연애의 온도',\n",
       " '지.아이.조 2',\n",
       " '분노의 질주: 더 맥시멈',\n",
       " '공범',\n",
       " '집으로 가는 길',\n",
       " '전설의 주먹',\n",
       " '파파로티',\n",
       " '스타트렉 다크니스',\n",
       " '라이프 오브 파이',\n",
       " '오블리비언',\n",
       " '위대한 개츠비',\n",
       " '다이하드: 굿 데이 투 다이',\n",
       " '런닝맨',\n",
       " '미스터 고',\n",
       " '결혼전야',\n",
       " '깡철이',\n",
       " '엘리시움',\n",
       " '더 웹툰: 예고살인',\n",
       " '명량',\n",
       " '겨울왕국',\n",
       " '인터스텔라',\n",
       " '해적: 바다로 간 산적',\n",
       " '수상한 그녀',\n",
       " '변호인',\n",
       " '국제시장',\n",
       " '트랜스포머: 사라진 시대',\n",
       " '군도: 민란의 시대',\n",
       " '엣지 오브 투모로우',\n",
       " '엑스맨: 데이즈 오브 퓨처 패스트',\n",
       " '어메이징 스파이더맨 2',\n",
       " '타짜-신의 손',\n",
       " '혹성탈출: 반격의 서막',\n",
       " '캡틴 아메리카: 윈터 솔져',\n",
       " '역린',\n",
       " '님아, 그 강을 건너지 마오',\n",
       " '신의 한 수',\n",
       " '끝까지 간다',\n",
       " '비긴 어게인',\n",
       " '드래곤 길들이기 2',\n",
       " '표적',\n",
       " '메이즈 러너',\n",
       " '호빗: 다섯 군대 전투',\n",
       " '나의 사랑 나의 신부',\n",
       " '논스톱',\n",
       " '인투 더 스톰',\n",
       " '노아',\n",
       " '남자가 사랑할 때',\n",
       " '루시',\n",
       " '용의자',\n",
       " '기술자들',\n",
       " '나를 찾아줘',\n",
       " '제보자',\n",
       " '피끓는 청춘',\n",
       " '두근두근 내 인생',\n",
       " '우아한 거짓말',\n",
       " '300: 제국의 부활',\n",
       " '엑소더스: 신들과 왕들',\n",
       " '해무(海霧)',\n",
       " '인간중독',\n",
       " '말레피센트',\n",
       " '폼페이: 최후의 날',\n",
       " '퓨리',\n",
       " '드라큘라: 전설의 시작',\n",
       " '가디언즈 오브 갤럭시',\n",
       " '찌라시: 위험한 소문',\n",
       " '빅매치',\n",
       " '슬로우 비디오',\n",
       " '방황하는 칼날',\n",
       " '베테랑',\n",
       " '암살',\n",
       " '어벤져스: 에이지 오브 울트론',\n",
       " '국제시장',\n",
       " '내부자들',\n",
       " '사도',\n",
       " '킹스맨 : 시크릿 에이전트',\n",
       " '미션 임파서블: 로그네이션',\n",
       " '연평해전',\n",
       " '쥬라기 월드',\n",
       " '검은 사제들',\n",
       " '히말라야',\n",
       " '인사이드 아웃',\n",
       " '마션',\n",
       " '조선명탐정 : 사라진 놉의 딸',\n",
       " '매드 맥스: 분노의 도로',\n",
       " '인턴',\n",
       " '분노의 질주: 더 세븐',\n",
       " '터미네이터 제니시스',\n",
       " '스물',\n",
       " '극비수사',\n",
       " '앤트맨',\n",
       " '스타워즈: 깨어난 포스',\n",
       " '빅 히어로',\n",
       " '메이즈 러너: 스코치 트라이얼',\n",
       " '탐정 : 더 비기닝',\n",
       " '미니언즈',\n",
       " '스파이',\n",
       " '악의 연대기',\n",
       " '강남 1970',\n",
       " '뷰티 인사이드',\n",
       " '오늘의 연애',\n",
       " '테이큰 3',\n",
       " '007 스펙터',\n",
       " '이미테이션 게임',\n",
       " '샌 안드레아스',\n",
       " '쎄시봉',\n",
       " '더 폰',\n",
       " '위플래쉬',\n",
       " '대호',\n",
       " '마다가스카의 펭귄',\n",
       " '차이나타운',\n",
       " '장수상회',\n",
       " '성난 변호사',\n",
       " '간신',\n",
       " '박물관이 살아있다 : 비밀의 무덤',\n",
       " '그놈이다',\n",
       " '미쓰 와이프',\n",
       " '몬스터 호텔 2',\n",
       " '허삼관',\n",
       " '부산행',\n",
       " '검사외전',\n",
       " '캡틴 아메리카: 시빌 워',\n",
       " '밀정',\n",
       " '터널',\n",
       " '인천상륙작전',\n",
       " '럭키',\n",
       " '곡성',\n",
       " '덕혜옹주',\n",
       " '닥터 스트레인지',\n",
       " '마스터',\n",
       " '주토피아',\n",
       " '신비한 동물사전',\n",
       " '판도라',\n",
       " '아가씨',\n",
       " '쿵푸팬더3',\n",
       " '귀향',\n",
       " '데드풀',\n",
       " '나우 유 씨 미 2',\n",
       " '형',\n",
       " '엑스맨: 아포칼립스',\n",
       " '미스 페레그린과 이상한 아이들의 집',\n",
       " '히말라야',\n",
       " '제이슨 본',\n",
       " '도리를 찾아서',\n",
       " '아수라',\n",
       " '정글북',\n",
       " '마이펫의 이중생활',\n",
       " '라라랜드',\n",
       " '배트맨 대 슈퍼맨: 저스티스의 시작',\n",
       " '굿바이 싱글',\n",
       " '봉이 김선달',\n",
       " '레버넌트: 죽음에서 돌아온 자',\n",
       " '컨저링 2',\n",
       " '내부자들: 디 오리지널',\n",
       " '수어사이드 스쿼드',\n",
       " '인디펜던스 데이 : 리써전스',\n",
       " '탐정 홍길동: 사라진 마을',\n",
       " '벤허',\n",
       " '굿 다이노',\n",
       " '셜록: 유령신부',\n",
       " '특별수사: 사형수의 편지',\n",
       " '시간이탈자',\n",
       " '동주',\n",
       " '워크래프트: 전쟁의 서막',\n",
       " '스타트렉 비욘드',\n",
       " '미씽: 사라진 여자',\n",
       " '당신, 거기 있어줄래요',\n",
       " '라이트 아웃',\n",
       " '오빠생각',\n",
       " '택시운전사',\n",
       " '신과함께-죄와 벌',\n",
       " '공조',\n",
       " '스파이더맨: 홈 커밍',\n",
       " '범죄도시',\n",
       " '군함도',\n",
       " '청년경찰',\n",
       " '더 킹',\n",
       " '미녀와 야수',\n",
       " '킹스맨: 골든 서클',\n",
       " '토르: 라그나로크',\n",
       " '꾼',\n",
       " '강철비',\n",
       " '남한산성',\n",
       " '미이라',\n",
       " '분노의 질주: 더 익스트림',\n",
       " '너의 이름은.',\n",
       " '슈퍼배드 3',\n",
       " '아이 캔 스피크',\n",
       " '캐리비안의 해적: 죽은 자는 말이 없다',\n",
       " '프리즌',\n",
       " '덩케르크',\n",
       " '가디언즈 오브 갤럭시 VOL. 2',\n",
       " '살인자의 기억법',\n",
       " '트랜스포머: 최후의 기사',\n",
       " '보안관',\n",
       " '조작된 도시',\n",
       " '보스 베이비',\n",
       " '재심',\n",
       " '박열',\n",
       " '모아나',\n",
       " '마스터',\n",
       " '로건',\n",
       " '원더 우먼',\n",
       " '겟 아웃',\n",
       " '혹성탈출: 종의 전쟁',\n",
       " '1987',\n",
       " '애나벨 : 인형의 주인',\n",
       " '노무현입니다',\n",
       " '저스티스 리그',\n",
       " '킬러의 보디가드',\n",
       " '콩: 스컬 아일랜드',\n",
       " '23 아이덴티티',\n",
       " '임금님의 사건수첩',\n",
       " '부라더',\n",
       " '기억의 밤',\n",
       " '해피 데스데이',\n",
       " '브이아이피',\n",
       " '특별시민',\n",
       " '에이리언: 커버넌트',\n",
       " '신과함께-인과 연',\n",
       " '어벤져스: 인피니티 워',\n",
       " '보헤미안 랩소디',\n",
       " '미션 임파서블: 폴아웃',\n",
       " '신과함께-죄와 벌',\n",
       " '쥬라기 월드: 폴른 킹덤',\n",
       " '앤트맨과 와스프',\n",
       " '안시성',\n",
       " '블랙 팬서',\n",
       " '완벽한 타인',\n",
       " '1987',\n",
       " '독전',\n",
       " '공작',\n",
       " '베놈',\n",
       " '암수살인',\n",
       " '데드풀 2',\n",
       " '국가부도의 날',\n",
       " '코코',\n",
       " '아쿠아맨',\n",
       " '그것만이 내 세상',\n",
       " '마녀',\n",
       " '탐정: 리턴즈',\n",
       " '인크레더블 2',\n",
       " '서치',\n",
       " '너의 결혼식',\n",
       " '곤지암',\n",
       " '지금 만나러 갑니다',\n",
       " '목격자',\n",
       " '조선명탐정: 흡혈괴마의 비밀',\n",
       " '신비한 동물들과 그린델왈드의 범죄',\n",
       " '메이즈 러너: 데스 큐어',\n",
       " '맘마미아!2',\n",
       " '레디 플레이어 원',\n",
       " '명당',\n",
       " '협상',\n",
       " '마약왕',\n",
       " '쥬만지: 새로운 세계',\n",
       " '창궐',\n",
       " '성난황소',\n",
       " '도어락',\n",
       " '리틀 포레스트',\n",
       " '골든슬럼버',\n",
       " '램페이지',\n",
       " '궁합',\n",
       " '오션스8',\n",
       " '사라진 밤',\n",
       " '스윙키즈',\n",
       " '바람 바람 바람',\n",
       " 'PMC: 더 벙커',\n",
       " '범블비',\n",
       " '극한직업',\n",
       " '어벤져스: 엔드게임',\n",
       " '겨울왕국 2',\n",
       " '알라딘',\n",
       " '기생충',\n",
       " '엑시트',\n",
       " '스파이더맨: 파 프롬 홈',\n",
       " '백두산',\n",
       " '캡틴 마블',\n",
       " '조커',\n",
       " '봉오동 전투',\n",
       " '라이온 킹',\n",
       " '나쁜 녀석들: 더 무비',\n",
       " '82년생 김지영',\n",
       " '분노의 질주: 홉스&쇼',\n",
       " '토이 스토리 4',\n",
       " '돈',\n",
       " '악인전',\n",
       " '가장 보통의 연애',\n",
       " '말모이',\n",
       " '증인',\n",
       " '시동',\n",
       " '블랙머니',\n",
       " '터미네이터: 다크 페이트',\n",
       " '사바하',\n",
       " '타짜: 원 아이드 잭',\n",
       " '신의 한 수: 귀수편',\n",
       " '알리타: 배틀 엔젤',\n",
       " '내안의 그놈',\n",
       " '뺑반',\n",
       " '변신',\n",
       " '주먹왕 랄프 2: 인터넷 속으로',\n",
       " '걸캅스',\n",
       " '사자',\n",
       " '아쿠아맨',\n",
       " '드래곤 길들이기 3',\n",
       " '나의 특별한 형제',\n",
       " '어스',\n",
       " '말레피센트 2',\n",
       " '유열의 음악앨범',\n",
       " '퍼펙트맨',\n",
       " '포드 V 페라리',\n",
       " '생일',\n",
       " '힘을 내요, 미스터 리',\n",
       " '항거:유관순 이야기',\n",
       " '장사리 : 잊혀진 영웅들',\n",
       " '마이펫의 이중생활 2',\n",
       " '롱 리브 더 킹: 목포 영웅',\n",
       " '쥬만지: 넥스트 레벨',\n",
       " '존 윅 3: 파라벨룸',\n",
       " '남산의 부장들',\n",
       " '다만 악에서 구하소서',\n",
       " '반도',\n",
       " '히트맨',\n",
       " '테넷',\n",
       " '백두산',\n",
       " '#살아있다',\n",
       " '강철비2: 정상회담',\n",
       " '담보',\n",
       " '닥터 두리틀',\n",
       " '삼진그룹 영어토익반',\n",
       " '정직한 후보',\n",
       " '도굴',\n",
       " '클로젯',\n",
       " '오케이 마담',\n",
       " '해치지않아',\n",
       " '천문: 하늘에 묻는다',\n",
       " '결백',\n",
       " '1917',\n",
       " '작은 아씨들',\n",
       " '미드웨이',\n",
       " '시동',\n",
       " '지푸라기라도 잡고 싶은 짐승들',\n",
       " '미스터 주: 사라진 VIP',\n",
       " '인비저블맨',\n",
       " '나쁜 녀석들: 포에버',\n",
       " '국제수사',\n",
       " '침입자',\n",
       " '스타워즈: 라이즈 오브 스카이워커',\n",
       " '스파이 지니어스',\n",
       " '이웃사촌',\n",
       " '온워드: 단 하루의 기적',\n",
       " '소리도 없이',\n",
       " '버즈 오브 프레이(할리 퀸의 황홀한 해방)',\n",
       " '원더 우먼 1984',\n",
       " '겨울왕국 2',\n",
       " '오! 문희',\n",
       " '그린랜드',\n",
       " '위대한 쇼맨',\n",
       " '런',\n",
       " '뮬란',\n",
       " '내가 죽던 날',\n",
       " '기생충',\n",
       " '신비아파트 극장판 하늘도깨비 대 요르문간드',\n",
       " '프리즌 이스케이프',\n",
       " '검객',\n",
       " '조제',\n",
       " '사라진 시간',\n",
       " '밤쉘: 세상을 바꾼 폭탄선언',\n",
       " '알라딘',\n",
       " '스파이더맨: 노 웨이 홈',\n",
       " '모가디슈',\n",
       " '이터널스',\n",
       " '블랙 위도우',\n",
       " '분노의 질주: 더 얼티메이트',\n",
       " '싱크홀',\n",
       " '극장판 귀멸의 칼날: 무한열차편',\n",
       " '베놈 2: 렛 데어 비 카니지',\n",
       " '소울',\n",
       " '크루엘라',\n",
       " '샹치와 텐 링즈의 전설',\n",
       " '인질',\n",
       " '듄',\n",
       " '보이스',\n",
       " '007 노 타임 투 다이',\n",
       " '미나리',\n",
       " '발신제한',\n",
       " '보스 베이비 2',\n",
       " '콰이어트 플레이스 2',\n",
       " '랑종',\n",
       " '유체이탈자',\n",
       " '컨저링3: 악마가 시켰다',\n",
       " '기적',\n",
       " '고질라 VS. 콩',\n",
       " '킹스맨: 퍼스트 에이전트',\n",
       " '엔칸토: 마법의 세계',\n",
       " '연애 빠진 로맨스',\n",
       " '장르만 로맨스',\n",
       " '미션 파서블',\n",
       " '더 수어사이드 스쿼드',\n",
       " '비와 당신의 이야기',\n",
       " '서복',\n",
       " '킬러의 보디가드 2',\n",
       " '루카',\n",
       " '자산어보',\n",
       " '내일의 기억',\n",
       " '라야와 마지막 드래곤',\n",
       " '프리 가이',\n",
       " '더 스파이',\n",
       " '강릉',\n",
       " '정글 크루즈',\n",
       " '명탐정 코난: 비색의 탄환',\n",
       " '캐시트럭',\n",
       " '크루즈 패밀리: 뉴 에이지',\n",
       " '이스케이프 룸 2: 노 웨이 아웃',\n",
       " '극장판 포켓몬스터: 정글의 아이, 코코',\n",
       " '극장판 짱구는 못말려: 격돌! 낙서왕국과 얼추 네 명의 용사들',\n",
       " '매트릭스: 리저렉션',\n",
       " '방법: 재차의',\n",
       " '새해전야',\n",
       " '범죄도시2',\n",
       " '탑건: 매버릭',\n",
       " '아바타: 물의 길',\n",
       " '한산: 용의 출현',\n",
       " '공조2: 인터내셔날',\n",
       " '닥터 스트레인지: 대혼돈의 멀티버스',\n",
       " '헌트',\n",
       " '올빼미',\n",
       " '쥬라기 월드: 도미니언',\n",
       " '마녀(魔女) Part2. The Other One',\n",
       " '토르: 러브 앤 썬더',\n",
       " '미니언즈2',\n",
       " '블랙 팬서: 와칸다 포에버',\n",
       " '비상선언',\n",
       " '스파이더맨: 노 웨이 홈',\n",
       " '육사오(6/45)',\n",
       " '헤어질 결심',\n",
       " '외계+인 1부',\n",
       " '영웅',\n",
       " '해적: 도깨비 깃발',\n",
       " '브로커',\n",
       " '신비한 동물들과 덤블도어의 비밀',\n",
       " '인생은 아름다워',\n",
       " '더 배트맨',\n",
       " '데시벨',\n",
       " '정직한 후보2',\n",
       " '씽2게더',\n",
       " '극장판 짱구는 못말려: 수수께끼! 꽃피는 천하떡잎학교',\n",
       " '블랙 아담',\n",
       " '킹메이커',\n",
       " '자백',\n",
       " '언차티드',\n",
       " '경관의 피',\n",
       " '오늘 밤, 세계에서 이 사랑이 사라진다 해도',\n",
       " '극장판 주술회전 0',\n",
       " '압꾸정',\n",
       " '극장판 포켓몬스터DP: 기라티나와 하늘의 꽃다발 쉐이미',\n",
       " '이상한 나라의 수학자',\n",
       " '명탐정 코난: 할로윈의 신부',\n",
       " '동감',\n",
       " '모비우스',\n",
       " '늑대사냥',\n",
       " '뽀로로 극장판 드래곤캐슬 대모험',\n",
       " '특송',\n",
       " '니 부모 얼굴이 보고 싶다',\n",
       " '놉',\n",
       " '리멤버',\n",
       " '킹스맨: 퍼스트 에이전트',\n",
       " '배드 가이즈',\n",
       " '뜨거운 피',\n",
       " '서울의 봄',\n",
       " '범죄도시3',\n",
       " '엘리멘탈',\n",
       " '스즈메의 문단속',\n",
       " '밀수',\n",
       " '더 퍼스트 슬램덩크',\n",
       " '가디언즈 오브 갤럭시: Volume 3',\n",
       " '미션 임파서블: 데드 레코닝 PART ONE',\n",
       " '콘크리트 유토피아',\n",
       " '아바타: 물의 길',\n",
       " '노량: 죽음의 바다',\n",
       " '오펜하이머',\n",
       " '슈퍼 마리오 브라더스',\n",
       " '30일',\n",
       " '그대들은 어떻게 살 것인가',\n",
       " '존 윅 4',\n",
       " '천박사 퇴마 연구소: 설경의 비밀',\n",
       " '영웅',\n",
       " '분노의 질주: 라이드 오어 다이',\n",
       " '교섭',\n",
       " '앤트맨과 와스프: 퀀텀매니아',\n",
       " '잠',\n",
       " '달짝지근해: 7510',\n",
       " '드림',\n",
       " '비공식작전',\n",
       " '1947 보스톤',\n",
       " '스파이더맨: 어크로스 더 유니버스',\n",
       " '인디아나 존스: 운명의 다이얼',\n",
       " '장화신은 고양이: 끝내주는 모험',\n",
       " '명탐정코난: 흑철의 어영',\n",
       " '트랜스포머: 비스트의 서막',\n",
       " '대외비',\n",
       " '극장판 짱구는 못말려: 동물소환 닌자 배꼽수비대',\n",
       " '아쿠아맨과 로스트 킹덤',\n",
       " '프레디의 피자가게',\n",
       " '리바운드',\n",
       " '더 마블스',\n",
       " '귀공자',\n",
       " '유령',\n",
       " '인어공주',\n",
       " '플래시',\n",
       " '바비',\n",
       " '신차원! 짱구는 못말려 더 무비 초능력 대결전 ~날아라 수제김밥~',\n",
       " '귀멸의 칼날: 상현집결, 그리고 도공 마을로',\n",
       " '더 문',\n",
       " '오늘 밤, 세계에서 이 사랑이 사라진다 해도',\n",
       " '3일의 휴가',\n",
       " '소년들',\n",
       " '타이타닉',\n",
       " '타겟',\n",
       " '파묘',\n",
       " '범죄도시4',\n",
       " '인사이드 아웃 2',\n",
       " '베테랑2',\n",
       " '파일럿',\n",
       " '웡카',\n",
       " '모아나 2',\n",
       " '소방관',\n",
       " '탈주',\n",
       " '듄: 파트2',\n",
       " '에이리언: 로물루스',\n",
       " '데드풀과 울버린',\n",
       " '위키드',\n",
       " '핸섬가이즈',\n",
       " '하이재킹',\n",
       " '쿵푸팬더4',\n",
       " '베놈: 라스트 댄스',\n",
       " '시민덕희',\n",
       " '퓨리오사: 매드맥스 사가',\n",
       " '슈퍼배드 4',\n",
       " '외계+인 2부',\n",
       " '위시',\n",
       " '서울의 봄',\n",
       " '하얼빈',\n",
       " '사랑의 하츄핑',\n",
       " '그녀가 죽었다',\n",
       " '건국전쟁',\n",
       " '노량: 죽음의 바다',\n",
       " '히든페이스',\n",
       " '댓글부대',\n",
       " '글래디에이터 Ⅱ',\n",
       " '혹성탈출: 새로운 시대',\n",
       " '대도시의 사랑법',\n",
       " '청설',\n",
       " '명탐정 코난: 100만 달러의 펜타그램',\n",
       " '극장판 하이큐!! 쓰레기장의 결전',\n",
       " '행복의 나라',\n",
       " '탈출: 프로젝트 사일런스',\n",
       " '와일드 로봇',\n",
       " '보통의 가족',\n",
       " '원더랜드',\n",
       " '트위스터스',\n",
       " '조커: 폴리 아 되',\n",
       " '아마존 활명수',\n",
       " '콰이어트 플레이스: 첫째 날',\n",
       " '설계자',\n",
       " '고질라 X 콩: 뉴 엠파이어',\n",
       " '빅토리',\n",
       " '귀멸의 칼날: 인연의 기적, 그리고 합동 강화 훈련으로',\n",
       " '무파사: 라이온 킹']"
      ]
     },
     "execution_count": 51,
     "metadata": {},
     "output_type": "execute_result"
    }
   ],
   "source": [
    "movie_names"
   ]
  },
  {
   "cell_type": "code",
   "execution_count": 50,
   "metadata": {},
   "outputs": [
    {
     "data": {
      "text/plain": [
       "['코미디',\n",
       " '드라마',\n",
       " 'SF',\n",
       " '액션',\n",
       " '사극',\n",
       " '드라마',\n",
       " '액션',\n",
       " '어드벤처',\n",
       " 'SF',\n",
       " '액션',\n",
       " '코미디',\n",
       " '드라마',\n",
       " '범죄',\n",
       " '범죄',\n",
       " '액션',\n",
       " '드라마',\n",
       " '스릴러',\n",
       " 'SF',\n",
       " '액션',\n",
       " '어드벤처',\n",
       " '범죄',\n",
       " '액션',\n",
       " 'SF',\n",
       " '드라마',\n",
       " '드라마',\n",
       " '어드벤처',\n",
       " '액션',\n",
       " '액션',\n",
       " '어드벤처',\n",
       " '판타지',\n",
       " '액션',\n",
       " '코미디',\n",
       " '범죄',\n",
       " '멜로/로맨스',\n",
       " '코미디',\n",
       " '범죄',\n",
       " '액션',\n",
       " '스릴러',\n",
       " '액션',\n",
       " 'SF',\n",
       " '어드벤처',\n",
       " '액션',\n",
       " '스릴러',\n",
       " '공포(호러)',\n",
       " '스릴러',\n",
       " '액션',\n",
       " '스릴러',\n",
       " '어드벤처',\n",
       " '드라마',\n",
       " '판타지',\n",
       " '멜로/로맨스',\n",
       " '코미디',\n",
       " '액션',\n",
       " '어드벤처',\n",
       " 'SF',\n",
       " '스릴러',\n",
       " '드라마',\n",
       " '드라마',\n",
       " '액션',\n",
       " '액션',\n",
       " 'SF',\n",
       " '어드벤처',\n",
       " '어드벤처',\n",
       " '드라마',\n",
       " '액션',\n",
       " 'SF',\n",
       " '드라마',\n",
       " '멜로/로맨스',\n",
       " '액션',\n",
       " '범죄',\n",
       " '스릴러',\n",
       " '액션',\n",
       " '코미디',\n",
       " '코미디',\n",
       " '드라마',\n",
       " '멜로/로맨스',\n",
       " '코미디',\n",
       " '드라마',\n",
       " '액션',\n",
       " 'SF',\n",
       " '액션',\n",
       " '공포(호러)',\n",
       " '스릴러',\n",
       " '사극',\n",
       " '액션',\n",
       " '애니메이션',\n",
       " '어드벤처',\n",
       " '코미디',\n",
       " '뮤지컬',\n",
       " '판타지',\n",
       " '액션',\n",
       " 'SF',\n",
       " '어드벤처',\n",
       " '사극',\n",
       " '액션',\n",
       " '액션',\n",
       " 'SF',\n",
       " '액션',\n",
       " '판타지',\n",
       " 'SF',\n",
       " '어드벤처',\n",
       " '액션',\n",
       " '판타지',\n",
       " '액션',\n",
       " '드라마',\n",
       " 'SF',\n",
       " '스릴러',\n",
       " '액션',\n",
       " '어드벤처',\n",
       " 'SF',\n",
       " '범죄',\n",
       " '액션',\n",
       " '액션',\n",
       " '스릴러',\n",
       " '범죄',\n",
       " '애니메이션',\n",
       " '액션',\n",
       " '어드벤처',\n",
       " '액션',\n",
       " '드라마',\n",
       " '액션',\n",
       " '미스터리',\n",
       " 'SF',\n",
       " '스릴러',\n",
       " '어드벤처',\n",
       " '판타지',\n",
       " '멜로/로맨스',\n",
       " '코미디',\n",
       " '액션',\n",
       " '스릴러',\n",
       " '어드벤처',\n",
       " '드라마',\n",
       " '판타지',\n",
       " '멜로/로맨스',\n",
       " '드라마',\n",
       " '액션',\n",
       " '스릴러',\n",
       " '범죄',\n",
       " '액션',\n",
       " '코미디',\n",
       " '멜로/로맨스',\n",
       " '드라마',\n",
       " '액션',\n",
       " '드라마',\n",
       " '멜로/로맨스',\n",
       " '드라마',\n",
       " '액션',\n",
       " '어드벤처',\n",
       " '드라마',\n",
       " '액션',\n",
       " '어드벤처',\n",
       " '드라마',\n",
       " '액션',\n",
       " '드라마',\n",
       " '판타지',\n",
       " '액션',\n",
       " '액션',\n",
       " '어드벤처',\n",
       " 'SF',\n",
       " '범죄',\n",
       " '드라마',\n",
       " '드라마',\n",
       " '코미디',\n",
       " '범죄',\n",
       " '스릴러',\n",
       " '액션',\n",
       " '드라마',\n",
       " '액션',\n",
       " '드라마',\n",
       " '액션',\n",
       " '어드벤처',\n",
       " '판타지',\n",
       " 'SF',\n",
       " '범죄',\n",
       " '드라마',\n",
       " '액션',\n",
       " '스릴러',\n",
       " '액션',\n",
       " '스릴러',\n",
       " '어드벤처',\n",
       " '액션',\n",
       " '어드벤처',\n",
       " 'SF',\n",
       " '미스터리',\n",
       " '드라마',\n",
       " '애니메이션',\n",
       " '코미디',\n",
       " '액션',\n",
       " '어드벤처',\n",
       " 'SF',\n",
       " '사극',\n",
       " '코미디',\n",
       " '어드벤처',\n",
       " '액션',\n",
       " '어드벤처',\n",
       " '스릴러',\n",
       " '액션',\n",
       " '범죄',\n",
       " '스릴러',\n",
       " '액션',\n",
       " '어드벤처',\n",
       " 'SF',\n",
       " '스릴러',\n",
       " '코미디',\n",
       " '드라마',\n",
       " '드라마',\n",
       " '범죄',\n",
       " '액션',\n",
       " 'SF',\n",
       " '액션',\n",
       " '어드벤처',\n",
       " '판타지',\n",
       " '애니메이션',\n",
       " '액션',\n",
       " '코미디',\n",
       " '액션',\n",
       " 'SF',\n",
       " '스릴러',\n",
       " '코미디',\n",
       " '범죄',\n",
       " '액션',\n",
       " '코미디',\n",
       " '액션',\n",
       " '드라마',\n",
       " '판타지',\n",
       " '멜로/로맨스',\n",
       " '멜로/로맨스',\n",
       " '코미디',\n",
       " '액션',\n",
       " '범죄',\n",
       " '스릴러',\n",
       " '액션',\n",
       " '어드벤처',\n",
       " '범죄',\n",
       " '스릴러',\n",
       " '드라마',\n",
       " '스릴러',\n",
       " '액션',\n",
       " '드라마',\n",
       " '스릴러',\n",
       " '멜로/로맨스',\n",
       " '코미디',\n",
       " '드라마',\n",
       " '스릴러',\n",
       " '액션',\n",
       " '애니메이션',\n",
       " '코미디',\n",
       " '어드벤처',\n",
       " '범죄',\n",
       " '드라마',\n",
       " '멜로/로맨스',\n",
       " '드라마',\n",
       " '범죄',\n",
       " '액션',\n",
       " '어드벤처',\n",
       " '코미디',\n",
       " '액션',\n",
       " '스릴러',\n",
       " '범죄',\n",
       " '코미디',\n",
       " '액션',\n",
       " 'SF',\n",
       " '스릴러',\n",
       " '드라마',\n",
       " '미스터리',\n",
       " '스릴러',\n",
       " '드라마',\n",
       " '사극',\n",
       " '드라마',\n",
       " '액션',\n",
       " '어드벤처',\n",
       " '판타지',\n",
       " '액션',\n",
       " '범죄',\n",
       " '애니메이션',\n",
       " '액션',\n",
       " '어드벤처',\n",
       " '어드벤처',\n",
       " '판타지',\n",
       " '드라마',\n",
       " '스릴러',\n",
       " '스릴러',\n",
       " '드라마',\n",
       " '애니메이션',\n",
       " '액션',\n",
       " '어드벤처',\n",
       " '액션',\n",
       " 'SF',\n",
       " '범죄',\n",
       " '액션',\n",
       " '코미디',\n",
       " '드라마',\n",
       " '액션',\n",
       " '어드벤처',\n",
       " '판타지',\n",
       " 'SF',\n",
       " '미스터리',\n",
       " '판타지',\n",
       " '액션',\n",
       " '스릴러',\n",
       " '애니메이션',\n",
       " '어드벤처',\n",
       " '코미디',\n",
       " '범죄',\n",
       " '액션',\n",
       " '어드벤처',\n",
       " '드라마',\n",
       " '애니메이션',\n",
       " '코미디',\n",
       " '드라마',\n",
       " '뮤지컬',\n",
       " '멜로/로맨스',\n",
       " '액션',\n",
       " '어드벤처',\n",
       " '판타지',\n",
       " '코미디',\n",
       " '드라마',\n",
       " '어드벤처',\n",
       " '드라마',\n",
       " '범죄',\n",
       " '드라마',\n",
       " '액션',\n",
       " '어드벤처',\n",
       " 'SF',\n",
       " '드라마',\n",
       " '액션',\n",
       " '어드벤처',\n",
       " '드라마',\n",
       " '애니메이션',\n",
       " '어드벤처',\n",
       " '코미디',\n",
       " '범죄',\n",
       " '드라마',\n",
       " '범죄',\n",
       " '드라마',\n",
       " '액션',\n",
       " '어드벤처',\n",
       " '판타지',\n",
       " '액션',\n",
       " 'SF',\n",
       " '판타지',\n",
       " '드라마',\n",
       " '드라마',\n",
       " '판타지',\n",
       " '드라마',\n",
       " '액션',\n",
       " '어드벤처',\n",
       " 'SF',\n",
       " '범죄',\n",
       " '액션',\n",
       " '액션',\n",
       " '드라마',\n",
       " '범죄',\n",
       " '드라마',\n",
       " '멜로/로맨스',\n",
       " '판타지',\n",
       " '뮤지컬',\n",
       " '액션',\n",
       " '어드벤처',\n",
       " '코미디',\n",
       " '액션',\n",
       " '어드벤처',\n",
       " '판타지',\n",
       " 'SF',\n",
       " '액션',\n",
       " '드라마',\n",
       " '사극',\n",
       " '드라마',\n",
       " '액션',\n",
       " '어드벤처',\n",
       " '판타지',\n",
       " '액션',\n",
       " '범죄',\n",
       " '스릴러',\n",
       " '애니메이션',\n",
       " '드라마',\n",
       " '멜로/로맨스',\n",
       " '액션',\n",
       " '어드벤처',\n",
       " '판타지',\n",
       " '코미디',\n",
       " '범죄',\n",
       " '액션',\n",
       " '액션',\n",
       " '드라마',\n",
       " '스릴러',\n",
       " '액션',\n",
       " 'SF',\n",
       " '범죄',\n",
       " '스릴러',\n",
       " '액션',\n",
       " '어드벤처',\n",
       " 'SF',\n",
       " '범죄',\n",
       " '코미디',\n",
       " '범죄',\n",
       " '액션',\n",
       " '애니메이션',\n",
       " '코미디',\n",
       " '액션',\n",
       " '범죄',\n",
       " '액션',\n",
       " 'SF',\n",
       " '액션',\n",
       " '어드벤처',\n",
       " '판타지',\n",
       " 'SF',\n",
       " '공포(호러)',\n",
       " '미스터리',\n",
       " '스릴러',\n",
       " '드라마',\n",
       " '액션',\n",
       " '어드벤처',\n",
       " '드라마',\n",
       " 'SF',\n",
       " '액션',\n",
       " '어드벤처',\n",
       " '판타지',\n",
       " 'SF',\n",
       " '액션',\n",
       " '코미디',\n",
       " '액션',\n",
       " '어드벤처',\n",
       " '판타지',\n",
       " '코미디',\n",
       " '어드벤처',\n",
       " '액션',\n",
       " '미스터리',\n",
       " '스릴러',\n",
       " '공포(호러)',\n",
       " '미스터리',\n",
       " '스릴러',\n",
       " '범죄',\n",
       " '드라마',\n",
       " 'SF',\n",
       " '스릴러',\n",
       " '판타지',\n",
       " '드라마',\n",
       " '액션',\n",
       " '어드벤처',\n",
       " '판타지',\n",
       " 'SF',\n",
       " '액션',\n",
       " '스릴러',\n",
       " '판타지',\n",
       " '드라마',\n",
       " '액션',\n",
       " '어드벤처',\n",
       " 'SF',\n",
       " '액션',\n",
       " '어드벤처',\n",
       " 'SF',\n",
       " '사극',\n",
       " '액션',\n",
       " '액션',\n",
       " '드라마',\n",
       " 'SF',\n",
       " '드라마',\n",
       " '코미디',\n",
       " '범죄',\n",
       " '액션',\n",
       " '액션',\n",
       " 'SF',\n",
       " '스릴러',\n",
       " '범죄',\n",
       " '드라마',\n",
       " '액션',\n",
       " '어드벤처',\n",
       " '코미디',\n",
       " 'SF',\n",
       " '코미디',\n",
       " '드라마',\n",
       " '미스터리',\n",
       " '액션',\n",
       " '코미디',\n",
       " '범죄',\n",
       " '애니메이션',\n",
       " '액션',\n",
       " '어드벤처',\n",
       " '코미디',\n",
       " '공포(호러)',\n",
       " '스릴러',\n",
       " '사극',\n",
       " '어드벤처',\n",
       " '코미디',\n",
       " '액션',\n",
       " 'SF',\n",
       " '스릴러',\n",
       " '액션',\n",
       " 'SF',\n",
       " '어드벤처',\n",
       " '범죄',\n",
       " '드라마',\n",
       " '액션',\n",
       " '어드벤처',\n",
       " '사극',\n",
       " '액션',\n",
       " '범죄',\n",
       " '액션',\n",
       " '스릴러',\n",
       " '드라마',\n",
       " '범죄',\n",
       " '드라마',\n",
       " '코미디',\n",
       " '드라마',\n",
       " '액션',\n",
       " '범죄',\n",
       " '액션',\n",
       " '어드벤처',\n",
       " 'SF',\n",
       " '액션',\n",
       " 'SF',\n",
       " '어드벤처',\n",
       " '판타지',\n",
       " '코미디',\n",
       " '액션',\n",
       " '액션',\n",
       " '어드벤처',\n",
       " '코미디',\n",
       " 'SF',\n",
       " '어드벤처',\n",
       " '드라마',\n",
       " '액션',\n",
       " '어드벤처',\n",
       " 'SF',\n",
       " '액션',\n",
       " '드라마',\n",
       " '스릴러',\n",
       " '사극',\n",
       " '액션',\n",
       " '드라마',\n",
       " '어드벤처',\n",
       " '드라마',\n",
       " '범죄',\n",
       " '액션',\n",
       " '애니메이션',\n",
       " '어드벤처',\n",
       " '코미디',\n",
       " '범죄',\n",
       " '액션',\n",
       " '멜로/로맨스',\n",
       " '코미디',\n",
       " '범죄',\n",
       " '드라마',\n",
       " '액션',\n",
       " '어드벤처',\n",
       " 'SF',\n",
       " '미스터리',\n",
       " '스릴러',\n",
       " '범죄',\n",
       " '드라마',\n",
       " '범죄',\n",
       " '액션',\n",
       " '액션',\n",
       " '어드벤처',\n",
       " '멜로/로맨스',\n",
       " 'SF',\n",
       " '스릴러',\n",
       " '판타지',\n",
       " '코미디',\n",
       " '범죄',\n",
       " '액션',\n",
       " '공포(호러)',\n",
       " '스릴러',\n",
       " '애니메이션',\n",
       " '어드벤처',\n",
       " '코미디',\n",
       " '코미디',\n",
       " '액션',\n",
       " '미스터리',\n",
       " '액션',\n",
       " '판타지',\n",
       " '공포(호러)',\n",
       " '드라마',\n",
       " '코미디',\n",
       " '공포(호러)',\n",
       " '스릴러',\n",
       " '어드벤처',\n",
       " '판타지',\n",
       " '멜로/로맨스',\n",
       " '드라마',\n",
       " '코미디',\n",
       " '드라마',\n",
       " '액션',\n",
       " '드라마',\n",
       " '코미디',\n",
       " '드라마',\n",
       " '애니메이션',\n",
       " '어드벤처',\n",
       " '코미디',\n",
       " '액션',\n",
       " '드라마',\n",
       " '액션',\n",
       " '범죄',\n",
       " '스릴러',\n",
       " '범죄',\n",
       " '액션',\n",
       " '액션',\n",
       " '드라마',\n",
       " '코미디',\n",
       " '액션',\n",
       " '액션',\n",
       " 'SF',\n",
       " '어드벤처',\n",
       " '드라마',\n",
       " '드라마',\n",
       " '액션',\n",
       " '판타지',\n",
       " '어드벤처',\n",
       " '미스터리',\n",
       " '드라마',\n",
       " '코미디',\n",
       " '액션',\n",
       " '드라마',\n",
       " '드라마',\n",
       " '멜로/로맨스',\n",
       " '액션',\n",
       " '드라마',\n",
       " '스릴러',\n",
       " '범죄',\n",
       " '코미디',\n",
       " '드라마',\n",
       " '코미디',\n",
       " '액션',\n",
       " '미스터리',\n",
       " '스릴러',\n",
       " '액션',\n",
       " '어드벤처',\n",
       " '판타지',\n",
       " 'SF',\n",
       " '애니메이션',\n",
       " '액션',\n",
       " '코미디',\n",
       " 'SF',\n",
       " '드라마',\n",
       " '코미디',\n",
       " '애니메이션',\n",
       " '어드벤처',\n",
       " '판타지',\n",
       " '범죄',\n",
       " '드라마',\n",
       " '액션',\n",
       " '어드벤처',\n",
       " '범죄',\n",
       " '액션',\n",
       " '어드벤처',\n",
       " '코미디',\n",
       " '드라마',\n",
       " '액션',\n",
       " '스릴러',\n",
       " '드라마',\n",
       " '뮤지컬',\n",
       " '미스터리',\n",
       " '스릴러',\n",
       " '어드벤처',\n",
       " '드라마',\n",
       " '어드벤처',\n",
       " '스릴러',\n",
       " '멜로/로맨스',\n",
       " '드라마',\n",
       " '미스터리',\n",
       " '드라마',\n",
       " '어드벤처',\n",
       " '판타지',\n",
       " '액션',\n",
       " '어드벤처',\n",
       " 'SF',\n",
       " '액션',\n",
       " '드라마',\n",
       " '액션',\n",
       " '어드벤처',\n",
       " '드라마',\n",
       " '액션',\n",
       " '어드벤처',\n",
       " 'SF',\n",
       " '액션',\n",
       " 'SF',\n",
       " '스릴러',\n",
       " '드라마',\n",
       " '범죄',\n",
       " '코미디',\n",
       " '액션',\n",
       " '어드벤처',\n",
       " '판타지',\n",
       " '액션',\n",
       " '스릴러',\n",
       " '범죄',\n",
       " '액션',\n",
       " '스릴러',\n",
       " '액션',\n",
       " '애니메이션',\n",
       " '코미디',\n",
       " '어드벤처',\n",
       " '공포(호러)',\n",
       " '스릴러',\n",
       " '드라마',\n",
       " '판타지',\n",
       " '액션',\n",
       " '공포(호러)',\n",
       " '미스터리',\n",
       " '스릴러',\n",
       " '멜로/로맨스',\n",
       " '코미디',\n",
       " '드라마',\n",
       " '코미디',\n",
       " '코미디',\n",
       " '액션',\n",
       " '액션',\n",
       " '어드벤처',\n",
       " '판타지',\n",
       " '미스터리',\n",
       " 'SF',\n",
       " '드라마',\n",
       " '멜로/로맨스',\n",
       " '드라마',\n",
       " '액션',\n",
       " '액션',\n",
       " '코미디',\n",
       " '범죄',\n",
       " '애니메이션',\n",
       " '어드벤처',\n",
       " '코미디',\n",
       " '사극',\n",
       " '드라마',\n",
       " '미스터리',\n",
       " '스릴러',\n",
       " '애니메이션',\n",
       " '액션',\n",
       " '어드벤처',\n",
       " '액션',\n",
       " '어드벤처',\n",
       " '범죄',\n",
       " '액션',\n",
       " '액션',\n",
       " '어드벤처',\n",
       " '애니메이션',\n",
       " '코미디',\n",
       " '어드벤처',\n",
       " '액션',\n",
       " '공포(호러)',\n",
       " '스릴러',\n",
       " '액션',\n",
       " 'SF',\n",
       " '미스터리',\n",
       " '스릴러',\n",
       " '멜로/로맨스',\n",
       " '코미디',\n",
       " '범죄',\n",
       " '액션',\n",
       " '액션',\n",
       " '어드벤처',\n",
       " 'SF',\n",
       " '스릴러',\n",
       " '액션',\n",
       " '드라마',\n",
       " '액션',\n",
       " '코미디',\n",
       " '액션',\n",
       " '어드벤처',\n",
       " '판타지',\n",
       " '액션',\n",
       " '드라마',\n",
       " '액션',\n",
       " '어드벤처',\n",
       " '액션',\n",
       " '어드벤처',\n",
       " '판타지',\n",
       " '애니메이션',\n",
       " '어드벤처',\n",
       " '코미디',\n",
       " '액션',\n",
       " '어드벤처',\n",
       " '드라마',\n",
       " '액션',\n",
       " '어드벤처',\n",
       " 'SF',\n",
       " '미스터리',\n",
       " '멜로/로맨스',\n",
       " '액션',\n",
       " '판타지',\n",
       " 'SF',\n",
       " '드라마',\n",
       " '뮤지컬',\n",
       " '어드벤처',\n",
       " '액션',\n",
       " '코미디',\n",
       " '어드벤처',\n",
       " '판타지',\n",
       " '액션',\n",
       " '범죄',\n",
       " '드라마',\n",
       " '액션',\n",
       " '어드벤처',\n",
       " 'SF',\n",
       " '범죄',\n",
       " '스릴러',\n",
       " '액션',\n",
       " '어드벤처',\n",
       " '범죄',\n",
       " '드라마',\n",
       " '코미디',\n",
       " '드라마',\n",
       " '액션',\n",
       " '어드벤처',\n",
       " '드라마',\n",
       " '액션',\n",
       " '범죄',\n",
       " '범죄',\n",
       " '액션',\n",
       " '미스터리',\n",
       " '공포(호러)',\n",
       " '애니메이션',\n",
       " '범죄',\n",
       " '액션',\n",
       " '범죄',\n",
       " '드라마',\n",
       " '범죄',\n",
       " '액션',\n",
       " '액션',\n",
       " '스릴러',\n",
       " '어드벤처',\n",
       " '드라마',\n",
       " '액션',\n",
       " '어드벤처',\n",
       " 'SF',\n",
       " '스릴러',\n",
       " '사극',\n",
       " '액션',\n",
       " '스릴러',\n",
       " '드라마',\n",
       " '애니메이션',\n",
       " '어드벤처',\n",
       " '코미디',\n",
       " '판타지',\n",
       " '액션',\n",
       " '드라마',\n",
       " '뮤지컬',\n",
       " '코미디',\n",
       " '드라마',\n",
       " '어드벤처',\n",
       " '액션',\n",
       " '범죄',\n",
       " '드라마',\n",
       " '액션',\n",
       " '어드벤처',\n",
       " '판타지',\n",
       " '공포(호러)',\n",
       " '스릴러',\n",
       " '액션',\n",
       " 'SF',\n",
       " '드라마',\n",
       " '액션',\n",
       " '뮤지컬',\n",
       " '판타지',\n",
       " '멜로/로맨스',\n",
       " 'SF',\n",
       " '액션',\n",
       " '드라마',\n",
       " '판타지',\n",
       " '드라마',\n",
       " '드라마',\n",
       " '범죄',\n",
       " '드라마',\n",
       " '멜로/로맨스',\n",
       " '액션',\n",
       " '미스터리',\n",
       " '공포(호러)',\n",
       " '액션',\n",
       " '범죄',\n",
       " '액션',\n",
       " '범죄',\n",
       " '판타지',\n",
       " '드라마',\n",
       " '공포(호러)',\n",
       " 'SF',\n",
       " '액션',\n",
       " '코미디',\n",
       " 'SF',\n",
       " '판타지',\n",
       " '뮤지컬',\n",
       " '범죄',\n",
       " '액션',\n",
       " '애니메이션',\n",
       " '액션',\n",
       " '코미디',\n",
       " '액션',\n",
       " 'SF',\n",
       " '스릴러',\n",
       " '애니메이션',\n",
       " '액션',\n",
       " '어드벤처',\n",
       " '코미디',\n",
       " '미스터리',\n",
       " '스릴러',\n",
       " '사극',\n",
       " '액션',\n",
       " '범죄',\n",
       " '드라마',\n",
       " '액션',\n",
       " '사극',\n",
       " '액션',\n",
       " 'SF',\n",
       " '드라마',\n",
       " '멜로/로맨스',\n",
       " '액션',\n",
       " '어드벤처',\n",
       " '드라마',\n",
       " '범죄',\n",
       " '드라마',\n",
       " '뮤지컬',\n",
       " '범죄',\n",
       " '드라마',\n",
       " '액션',\n",
       " '어드벤처',\n",
       " 'SF']"
      ]
     },
     "execution_count": 50,
     "metadata": {},
     "output_type": "execute_result"
    }
   ],
   "source": [
    "movie_genre"
   ]
  },
  {
   "cell_type": "code",
   "execution_count": 49,
   "metadata": {},
   "outputs": [
    {
     "data": {
      "text/html": [
       "<div>\n",
       "<style scoped>\n",
       "    .dataframe tbody tr th:only-of-type {\n",
       "        vertical-align: middle;\n",
       "    }\n",
       "\n",
       "    .dataframe tbody tr th {\n",
       "        vertical-align: top;\n",
       "    }\n",
       "\n",
       "    .dataframe thead th {\n",
       "        text-align: right;\n",
       "    }\n",
       "</style>\n",
       "<table border=\"1\" class=\"dataframe\">\n",
       "  <thead>\n",
       "    <tr style=\"text-align: right;\">\n",
       "      <th></th>\n",
       "      <th>Name</th>\n",
       "      <th>Viewers</th>\n",
       "      <th>Year</th>\n",
       "    </tr>\n",
       "  </thead>\n",
       "  <tbody>\n",
       "    <tr>\n",
       "      <th>0</th>\n",
       "      <td>7번방의 선물</td>\n",
       "      <td>12,811,206</td>\n",
       "      <td>2013</td>\n",
       "    </tr>\n",
       "    <tr>\n",
       "      <th>1</th>\n",
       "      <td>설국열차</td>\n",
       "      <td>9,349,993</td>\n",
       "      <td>2013</td>\n",
       "    </tr>\n",
       "    <tr>\n",
       "      <th>2</th>\n",
       "      <td>관상</td>\n",
       "      <td>9,134,238</td>\n",
       "      <td>2013</td>\n",
       "    </tr>\n",
       "    <tr>\n",
       "      <th>3</th>\n",
       "      <td>아이언맨 3</td>\n",
       "      <td>9,001,331</td>\n",
       "      <td>2013</td>\n",
       "    </tr>\n",
       "    <tr>\n",
       "      <th>4</th>\n",
       "      <td>베를린</td>\n",
       "      <td>7,166,290</td>\n",
       "      <td>2013</td>\n",
       "    </tr>\n",
       "  </tbody>\n",
       "</table>\n",
       "</div>"
      ],
      "text/plain": [
       "      Name     Viewers  Year\n",
       "0  7번방의 선물  12,811,206  2013\n",
       "1     설국열차   9,349,993  2013\n",
       "2       관상   9,134,238  2013\n",
       "3   아이언맨 3   9,001,331  2013\n",
       "4      베를린   7,166,290  2013"
      ]
     },
     "execution_count": 49,
     "metadata": {},
     "output_type": "execute_result"
    }
   ],
   "source": [
    "data = {\"Name\" : movie_names, \"Viewers\" : movie_viewers, \"Year\" : movie_years}\n",
    "df = pd.DataFrame(data)\n",
    "df.head()"
   ]
  },
  {
   "cell_type": "code",
   "execution_count": null,
   "metadata": {},
   "outputs": [],
   "source": []
  }
 ],
 "metadata": {
  "kernelspec": {
   "display_name": "eda_venv",
   "language": "python",
   "name": "python3"
  },
  "language_info": {
   "codemirror_mode": {
    "name": "ipython",
    "version": 3
   },
   "file_extension": ".py",
   "mimetype": "text/x-python",
   "name": "python",
   "nbconvert_exporter": "python",
   "pygments_lexer": "ipython3",
   "version": "3.10.12"
  }
 },
 "nbformat": 4,
 "nbformat_minor": 2
}
